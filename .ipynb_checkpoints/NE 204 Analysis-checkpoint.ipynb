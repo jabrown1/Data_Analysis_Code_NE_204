{
 "metadata": {
  "name": ""
 },
 "nbformat": 3,
 "nbformat_minor": 0,
 "worksheets": [
  {
   "cells": [
    {
     "cell_type": "code",
     "collapsed": false,
     "input": [
      "#%%file createSpec.py\n",
      "\n",
      "from numba import autojit,codegen\n",
      "import numpy\n",
      "import matplotlib.pyplot as plt\n",
      "import logging\n",
      "import scipy.optimize as opt\n",
      "import time\n",
      "codegen.debug.logger.setLevel(logging.INFO)\n",
      "\n",
      "def readFile(fname,ftype):\n",
      "    \n",
      "    '''Reads in file in the current directory of type 'ftype' (string).  Can read HDF5, plain text and ROOT trees.  \n",
      "    \n",
      "    fname:  string containing the file name with extension\n",
      "    \n",
      "    ftype:  string indicating file type.  Use:\n",
      "        'HDF5': .h5 file type containing HDF5 formatted information\n",
      "        'plain': plain text information with ' ' delimeter\n",
      "        'root': ROOT tree formatted information\n",
      "        \n",
      "    '''\n",
      "    \n",
      "    if ftype == 'HDF5':\n",
      "        import h5py\n",
      "        f = h5py.File(fname,'r',dtype=int)\n",
      "        data = f['RawData']\n",
      "        return data\n",
      "    \n",
      "    if ftype == 'plain':\n",
      "        f = numpy.loadtxt(fname)\n",
      "        return f\n",
      "    \n",
      "    if ftype == 'root':\n",
      "        import ROOT\n",
      "        f = ROOT.fopen(fname,'r')\n",
      "        return f\n",
      "\n",
      "def triangularFilter(k,v):\n",
      "    \n",
      "    '''\n",
      "    Takes signal v with rise time k (in samples) and returns the filtered (triangular) signal.\n",
      "    '''\n",
      "    \n",
      "    import numpy as np\n",
      "\n",
      "    s = numpy.zeros_like(v)\n",
      "    for n in range(len(v)):\n",
      "        try:\n",
      "            s[n] = s[n-1] + v[n] - 2*v[n-k] + v[n-2*k]\n",
      "        except:\n",
      "            s[n] = v[n]\n",
      "\n",
      "    return s\n",
      "\n",
      "@autojit\n",
      "def trapezoidalFilter(k,m,t,v):\n",
      "    \n",
      "    '''\n",
      "    Takes signal v with rise time k (in samples) and gap time m (in samples) and returns the filtered signal.\n",
      "    '''\n",
      "        \n",
      "    M = t\n",
      "    \n",
      "    s = numpy.zeros_like(v)\n",
      "    p = numpy.zeros_like(v)\n",
      "    r = numpy.zeros_like(v)\n",
      "    d = numpy.zeros_like(v)\n",
      "    n = numpy.argmax(v)\n",
      "    length = numpy.size(v)\n",
      "    \n",
      "    for n in range(2*k+m,length):\n",
      "        d[n] = v[n] - v[n-k] - v[n-m] + v[n-k-m]\n",
      "        p[n] = p[n-1] + d[n]\n",
      "        r[n] = p[n] + M*d[n]\n",
      "        s[n] = s[n-1] + r[n]\n",
      "        \n",
      "    return s/k, max(s)/k\n",
      "\n",
      "def subtractBaseline(v):\n",
      "    \n",
      "    '''\n",
      "    Takes in signal v and subtracts baseline by taking the average of samples before a sharp rise.\n",
      "    '''\n",
      "    mu = numpy.mean(v[:100])\n",
      "\n",
      "    v[:] -= mu*numpy.ones(len(v))\n",
      "        \n",
      "    return v\n",
      "\n",
      "def fitExp(v):\n",
      "    n = numpy.argmax(v)+25\n",
      "    xdata = numpy.arange(len(v[n:]))\n",
      "    ydata = numpy.array(v[n:])\n",
      "    fit,fit2 = opt.curve_fit(lambda x,a,b: a*numpy.exp(-x/b),xdata,ydata)\n",
      "    return int(numpy.round(fit[1]))\n",
      "\n",
      "def findRise(v, findPeak=False, thresh=50):\n",
      "    \n",
      "    Dv = numpy.zeros(len(v))\n",
      "    Dv2 = numpy.zeros(len(v))\n",
      "    peak_locs = []\n",
      "    \n",
      "    for j in range(len(v)-1):\n",
      "        Dv[j] = v[j+1]-v[j]\n",
      "        \n",
      "    if findPeak:\n",
      "        try:\n",
      "            for j in range(len(v)-1):\n",
      "                Dv2[j] = Dv[j+1]-Dv[j]\n",
      "            peaks = [sample<-thresh for sample in Dv2]\n",
      "            peaks = list(numpy.nonzero(peaks)[0])\n",
      "            peak_locs.append(peaks[0])\n",
      "            for i in range(1,len(peaks)):\n",
      "                if numpy.abs(peaks[i]-peaks[i-1])>2:\n",
      "                    peak_locs.append(peaks[i])\n",
      "            else:\n",
      "                return numpy.array(peak_locs)\n",
      "        except:\n",
      "            print 'Error: There were no peaks found in this histogram. Note: threshold may be too high; try lowering.'\n",
      "    else:\n",
      "        return numpy.argmax(Dv)\n",
      "\n",
      "def extractHeight(s,t,k,m):\n",
      "    \n",
      "    '''\n",
      "    Takes a shaped signal, peak rise slope time (sample #) and the shaping parameters and finds the height of the signal for histogramming.\n",
      "    '''\n",
      "    \n",
      "    if abs(len(s)/2-t)<50:\n",
      "        peak = s[t+k+numpy.floor(m/2)]\n",
      "    else:\n",
      "        peak = max(s)\n",
      "        \n",
      "    return peak\n",
      "\n",
      "def peakFit(hist,peak_locs):\n",
      "    \n",
      "    '''\n",
      "    Takes the energy histogram and the indices of the peaks, fits the peaks, returns the centroid and the FWHM in a list of tuples.\n",
      "    '''\n",
      "    def func(x,a,b,c):\n",
      "        return a*numpy.exp((-2.35*(b-x)**2)/c)\n",
      "    peaks = []\n",
      "    \n",
      "    if len(peak_locs) > 0:\n",
      "        for peak_loc in peak_locs:\n",
      "            peak_info,garbage = scipy.optimize.curve_fit(func,numpy.arange(-20,20),numpy.array(hist[peak_loc-20:peak_loc+20]))\n",
      "            peak_info[1] = peak_info[1] + peak_loc\n",
      "            peaks.append(peak_info)\n",
      "    else:\n",
      "        print 'Error: There were no peaks to fit.'\n",
      "        \n",
      "    return peaks\n",
      "\n",
      "def makeSpect(fname,ftype,k = 250,m = 100):\n",
      "    \n",
      "    '''\n",
      "    Takes a file name for data to be processed.  Processes and produces a spectrum.\n",
      "    '''\n",
      "    \n",
      "    f = readFile(fname,ftype)\n",
      "    M = 0\n",
      "    pulseHeight = numpy.zeros(len(f))\n",
      "    numPulses = len(f)\n",
      "    print 'Reading ', numPulses, ' traces from ', fname\n",
      "    \n",
      "    for i in range(100):\n",
      "        o = fitExp(f[i,:])\n",
      "        M = (M + o)/2\n",
      "    start = time.time()\n",
      "    \n",
      "    i = 0\n",
      "    numRead = 10000\n",
      "    iterations = (numPulses-numPulses%numRead)/numRead + 1\n",
      "    for n in range(iterations):\n",
      "        n1 = n*10000\n",
      "        if n >= iterations-1:\n",
      "            n2 = numPulses\n",
      "        else:\n",
      "            n2 = n1 + 10000\n",
      "        for trace in f[n1:n2,:]:\n",
      "            trace_s = subtractBaseline(trace)\n",
      "            s, pulseHeight[i] = trapezoidalFilter(k,m,4467,trace_s)\n",
      "            #t = findRise(trace_s)\n",
      "            #pulseHeight[i] = extractHeight(s,t,k,m)\n",
      "            i += 1\n",
      "        end = time.time()\n",
      "        print 'Processing ',n2, ' samples (',n1, ' to ', n2, ') took: ', end-start\n",
      "        \n",
      "    xdata = numpy.arange(0,800)\n",
      "    hist = numpy.histogram(pulseHeight/5e7,xdata)\n",
      "    peak_indices = findRise(hist[0],findPeak=True)\n",
      "    print peak_indices\n",
      "    peak_info = peakFit(hist[0],peak_indices)\n",
      "    print 'Peak #\\tPeak Info'\n",
      "    print '\\tHeight\\t\\tChannel\\t\\tFWHM'\n",
      "    for peak_num,peak in enumerate(peak_info):\n",
      "        print peak_num, peak\n",
      "    plt.plot(hist[0])\n",
      "    #plt.show()\n",
      "    return hist, peak_info\n",
      "\n",
      "def compareTrapParams():\n",
      "    \n",
      "    '''\n",
      "    Script to test rise and gap times on data and determine optimal parameters.\n",
      "    '''\n",
      "    \n",
      "    rise = 100\n",
      "    gap = 0\n",
      "    peak_info = numpy.ndarray([4,5])\n",
      "    \n",
      "    for i in range(0,400,100):\n",
      "        for j in range(0,500,100):\n",
      "            garbage,peak_info[i/100,j/100] = makeSpect('../JB_AP_CO_60_2000_samples_092413.h5','HDF5',rise+i,gap+j)\n",
      "            \n",
      "    return peak_info"
     ],
     "language": "python",
     "metadata": {},
     "outputs": [],
     "prompt_number": 1
    },
    {
     "cell_type": "code",
     "collapsed": false,
     "input": [
      "hist1,peak_info = makeSpect('../JB_AP_CO_60_2000_samples_092413.h5','HDF5')"
     ],
     "language": "python",
     "metadata": {},
     "outputs": [
      {
       "output_type": "stream",
       "stream": "stdout",
       "text": [
        "Reading  178296  traces from  ../JB_AP_CO_60_2000_samples_092413.h5\n"
       ]
      },
      {
       "output_type": "stream",
       "stream": "stdout",
       "text": [
        "Processing "
       ]
      },
      {
       "output_type": "stream",
       "stream": "stdout",
       "text": [
        " 10000  samples ( 0  to  10000 ) took:  5.37381696701\n",
        "Processing "
       ]
      },
      {
       "output_type": "stream",
       "stream": "stdout",
       "text": [
        " 20000  samples ( 10000  to  20000 ) took:  9.87135100365\n",
        "Processing "
       ]
      },
      {
       "output_type": "stream",
       "stream": "stdout",
       "text": [
        " 30000  samples ( 20000  to  30000 ) took:  14.3458378315\n",
        "Processing "
       ]
      },
      {
       "output_type": "stream",
       "stream": "stdout",
       "text": [
        " 40000  samples ( 30000  to  40000 ) took:  18.8598690033\n",
        "Processing "
       ]
      },
      {
       "output_type": "stream",
       "stream": "stdout",
       "text": [
        " 50000  samples ( 40000  to  50000 ) took:  23.5128920078\n",
        "Processing "
       ]
      },
      {
       "output_type": "stream",
       "stream": "stdout",
       "text": [
        " 60000  samples ( 50000  to  60000 ) took:  28.0371618271\n",
        "Processing "
       ]
      },
      {
       "output_type": "stream",
       "stream": "stdout",
       "text": [
        " 70000  samples ( 60000  to  70000 ) took:  32.8030149937\n",
        "Processing "
       ]
      },
      {
       "output_type": "stream",
       "stream": "stdout",
       "text": [
        " 80000  samples ( 70000  to  80000 ) took:  37.3580088615\n",
        "Processing "
       ]
      },
      {
       "output_type": "stream",
       "stream": "stdout",
       "text": [
        " 90000  samples ( 80000  to  90000 ) took:  41.8630340099\n",
        "Processing "
       ]
      },
      {
       "output_type": "stream",
       "stream": "stdout",
       "text": [
        " 100000  samples ( 90000  to  100000 ) took:  46.3803918362\n",
        "Processing "
       ]
      },
      {
       "output_type": "stream",
       "stream": "stdout",
       "text": [
        " 110000  samples ( 100000  to  110000 ) took:  50.8601119518\n",
        "Processing "
       ]
      },
      {
       "output_type": "stream",
       "stream": "stdout",
       "text": [
        " 120000  samples ( 110000  to  120000 ) took:  55.4390788078\n",
        "Processing "
       ]
      },
      {
       "output_type": "stream",
       "stream": "stdout",
       "text": [
        " 130000  samples ( 120000  to  130000 ) took:  59.973664999\n",
        "Processing "
       ]
      },
      {
       "output_type": "stream",
       "stream": "stdout",
       "text": [
        " 140000  samples ( 130000  to  140000 ) took:  64.6596558094\n",
        "Processing "
       ]
      },
      {
       "output_type": "stream",
       "stream": "stdout",
       "text": [
        " 150000  samples ( 140000  to  150000 ) took:  69.3026008606\n",
        "Processing "
       ]
      },
      {
       "output_type": "stream",
       "stream": "stdout",
       "text": [
        " 160000  samples ( 150000  to  160000 ) took:  73.9495630264\n",
        "Processing "
       ]
      },
      {
       "output_type": "stream",
       "stream": "stdout",
       "text": [
        " 170000  samples ( 160000  to  170000 ) took:  78.6528699398\n",
        "Processing "
       ]
      },
      {
       "ename": "TypeError",
       "evalue": "object of type 'NoneType' has no len()",
       "output_type": "pyerr",
       "traceback": [
        "\u001b[0;31m---------------------------------------------------------------------------\u001b[0m\n\u001b[0;31mTypeError\u001b[0m                                 Traceback (most recent call last)",
        "\u001b[0;32m<ipython-input-16-444876899dac>\u001b[0m in \u001b[0;36m<module>\u001b[0;34m()\u001b[0m\n\u001b[0;32m----> 1\u001b[0;31m \u001b[0mhist1\u001b[0m\u001b[0;34m,\u001b[0m\u001b[0mpeak_info\u001b[0m \u001b[0;34m=\u001b[0m \u001b[0mmakeSpect\u001b[0m\u001b[0;34m(\u001b[0m\u001b[0;34m'../JB_AP_CO_60_2000_samples_092413.h5'\u001b[0m\u001b[0;34m,\u001b[0m\u001b[0;34m'HDF5'\u001b[0m\u001b[0;34m)\u001b[0m\u001b[0;34m\u001b[0m\u001b[0m\n\u001b[0m",
        "\u001b[0;32m<ipython-input-15-26546d7936a6>\u001b[0m in \u001b[0;36mmakeSpect\u001b[0;34m(fname, ftype, k, m)\u001b[0m\n\u001b[1;32m    193\u001b[0m     \u001b[0mpeak_indices\u001b[0m \u001b[0;34m=\u001b[0m \u001b[0mfindRise\u001b[0m\u001b[0;34m(\u001b[0m\u001b[0mhist\u001b[0m\u001b[0;34m[\u001b[0m\u001b[0;36m0\u001b[0m\u001b[0;34m]\u001b[0m\u001b[0;34m,\u001b[0m\u001b[0mfindPeak\u001b[0m\u001b[0;34m=\u001b[0m\u001b[0mTrue\u001b[0m\u001b[0;34m)\u001b[0m\u001b[0;34m\u001b[0m\u001b[0m\n\u001b[1;32m    194\u001b[0m     \u001b[0;32mprint\u001b[0m \u001b[0mpeak_indices\u001b[0m\u001b[0;34m\u001b[0m\u001b[0m\n\u001b[0;32m--> 195\u001b[0;31m     \u001b[0mpeak_info\u001b[0m \u001b[0;34m=\u001b[0m \u001b[0mpeakFit\u001b[0m\u001b[0;34m(\u001b[0m\u001b[0mhist\u001b[0m\u001b[0;34m[\u001b[0m\u001b[0;36m0\u001b[0m\u001b[0;34m]\u001b[0m\u001b[0;34m,\u001b[0m\u001b[0mpeak_indices\u001b[0m\u001b[0;34m)\u001b[0m\u001b[0;34m\u001b[0m\u001b[0m\n\u001b[0m\u001b[1;32m    196\u001b[0m     \u001b[0;32mprint\u001b[0m \u001b[0;34m'Peak #\\tPeak Info'\u001b[0m\u001b[0;34m\u001b[0m\u001b[0m\n\u001b[1;32m    197\u001b[0m     \u001b[0;32mprint\u001b[0m \u001b[0;34m'\\tHeight\\t\\tChannel\\t\\tFWHM'\u001b[0m\u001b[0;34m\u001b[0m\u001b[0m\n",
        "\u001b[0;32m<ipython-input-15-26546d7936a6>\u001b[0m in \u001b[0;36mpeakFit\u001b[0;34m(hist, peak_locs)\u001b[0m\n\u001b[1;32m    144\u001b[0m     \u001b[0mpeaks\u001b[0m \u001b[0;34m=\u001b[0m \u001b[0;34m[\u001b[0m\u001b[0;34m]\u001b[0m\u001b[0;34m\u001b[0m\u001b[0m\n\u001b[1;32m    145\u001b[0m \u001b[0;34m\u001b[0m\u001b[0m\n\u001b[0;32m--> 146\u001b[0;31m     \u001b[0;32mif\u001b[0m \u001b[0mlen\u001b[0m\u001b[0;34m(\u001b[0m\u001b[0mpeak_locs\u001b[0m\u001b[0;34m)\u001b[0m \u001b[0;34m>\u001b[0m \u001b[0;36m0\u001b[0m\u001b[0;34m:\u001b[0m\u001b[0;34m\u001b[0m\u001b[0m\n\u001b[0m\u001b[1;32m    147\u001b[0m         \u001b[0;32mfor\u001b[0m \u001b[0mpeak_loc\u001b[0m \u001b[0;32min\u001b[0m \u001b[0mpeak_locs\u001b[0m\u001b[0;34m:\u001b[0m\u001b[0;34m\u001b[0m\u001b[0m\n\u001b[1;32m    148\u001b[0m             \u001b[0mpeak_info\u001b[0m\u001b[0;34m,\u001b[0m\u001b[0mgarbage\u001b[0m \u001b[0;34m=\u001b[0m \u001b[0mscipy\u001b[0m\u001b[0;34m.\u001b[0m\u001b[0moptimize\u001b[0m\u001b[0;34m.\u001b[0m\u001b[0mcurve_fit\u001b[0m\u001b[0;34m(\u001b[0m\u001b[0mfunc\u001b[0m\u001b[0;34m,\u001b[0m\u001b[0mnumpy\u001b[0m\u001b[0;34m.\u001b[0m\u001b[0marange\u001b[0m\u001b[0;34m(\u001b[0m\u001b[0;34m-\u001b[0m\u001b[0;36m20\u001b[0m\u001b[0;34m,\u001b[0m\u001b[0;36m20\u001b[0m\u001b[0;34m)\u001b[0m\u001b[0;34m,\u001b[0m\u001b[0mnumpy\u001b[0m\u001b[0;34m.\u001b[0m\u001b[0marray\u001b[0m\u001b[0;34m(\u001b[0m\u001b[0mhist\u001b[0m\u001b[0;34m[\u001b[0m\u001b[0mpeak_loc\u001b[0m\u001b[0;34m-\u001b[0m\u001b[0;36m20\u001b[0m\u001b[0;34m:\u001b[0m\u001b[0mpeak_loc\u001b[0m\u001b[0;34m+\u001b[0m\u001b[0;36m20\u001b[0m\u001b[0;34m]\u001b[0m\u001b[0;34m)\u001b[0m\u001b[0;34m)\u001b[0m\u001b[0;34m\u001b[0m\u001b[0m\n",
        "\u001b[0;31mTypeError\u001b[0m: object of type 'NoneType' has no len()"
       ]
      },
      {
       "output_type": "stream",
       "stream": "stdout",
       "text": [
        " 178296  samples ( 170000  to  178296 ) took:  82.3650689125\n",
        "Error: There were no peaks found in this histogram. Note: threshold may be too high; try lowering.\n",
        "None\n"
       ]
      }
     ],
     "prompt_number": 16
    },
    {
     "cell_type": "code",
     "collapsed": false,
     "input": [
      "%matplotlib osx\n",
      "\n",
      "import time\n",
      "import numpy\n",
      "import matplotlib.pyplot as plt\n",
      "trap = numpy.ndarray(numpy.shape(f[:100,:]))\n",
      "\n",
      "s = numpy.ones(len(f[0,:]))\n",
      "mxmum = numpy.zeros(100)\n",
      "\n",
      "t_s2 = time.time()\n",
      "for i in range(100000,100100):\n",
      "    s = subtractBaseline(f[i,:])\n",
      "    trap[i-100000,:],mxmum[i-100000] = trapezoidalFilter(250,100,4467,s)\n",
      "    plt.plot(trap[i-100000,:])\n",
      "\n",
      "t_x2 = time.time()\n",
      "print t_x2-t_s2\n",
      "print mxmum/max(mxmum)\n",
      "#xlim([900,1500])\n",
      "#ylim([-20000,70000])"
     ],
     "language": "python",
     "metadata": {},
     "outputs": [
      {
       "ename": "NameError",
       "evalue": "name 'f' is not defined",
       "output_type": "pyerr",
       "traceback": [
        "\u001b[0;31m---------------------------------------------------------------------------\u001b[0m\n\u001b[0;31mNameError\u001b[0m                                 Traceback (most recent call last)",
        "\u001b[0;32m<ipython-input-4-b3d22dd88e61>\u001b[0m in \u001b[0;36m<module>\u001b[0;34m()\u001b[0m\n\u001b[1;32m      4\u001b[0m \u001b[0;32mimport\u001b[0m \u001b[0mnumpy\u001b[0m\u001b[0;34m\u001b[0m\u001b[0m\n\u001b[1;32m      5\u001b[0m \u001b[0;32mimport\u001b[0m \u001b[0mmatplotlib\u001b[0m\u001b[0;34m.\u001b[0m\u001b[0mpyplot\u001b[0m \u001b[0;32mas\u001b[0m \u001b[0mplt\u001b[0m\u001b[0;34m\u001b[0m\u001b[0m\n\u001b[0;32m----> 6\u001b[0;31m \u001b[0mtrap\u001b[0m \u001b[0;34m=\u001b[0m \u001b[0mnumpy\u001b[0m\u001b[0;34m.\u001b[0m\u001b[0mndarray\u001b[0m\u001b[0;34m(\u001b[0m\u001b[0mnumpy\u001b[0m\u001b[0;34m.\u001b[0m\u001b[0mshape\u001b[0m\u001b[0;34m(\u001b[0m\u001b[0mf\u001b[0m\u001b[0;34m[\u001b[0m\u001b[0;34m:\u001b[0m\u001b[0;36m100\u001b[0m\u001b[0;34m,\u001b[0m\u001b[0;34m:\u001b[0m\u001b[0;34m]\u001b[0m\u001b[0;34m)\u001b[0m\u001b[0;34m)\u001b[0m\u001b[0;34m\u001b[0m\u001b[0m\n\u001b[0m\u001b[1;32m      7\u001b[0m \u001b[0;34m\u001b[0m\u001b[0m\n\u001b[1;32m      8\u001b[0m \u001b[0ms\u001b[0m \u001b[0;34m=\u001b[0m \u001b[0mnumpy\u001b[0m\u001b[0;34m.\u001b[0m\u001b[0mones\u001b[0m\u001b[0;34m(\u001b[0m\u001b[0mlen\u001b[0m\u001b[0;34m(\u001b[0m\u001b[0mf\u001b[0m\u001b[0;34m[\u001b[0m\u001b[0;36m0\u001b[0m\u001b[0;34m,\u001b[0m\u001b[0;34m:\u001b[0m\u001b[0;34m]\u001b[0m\u001b[0;34m)\u001b[0m\u001b[0;34m)\u001b[0m\u001b[0;34m\u001b[0m\u001b[0m\n",
        "\u001b[0;31mNameError\u001b[0m: name 'f' is not defined"
       ]
      }
     ],
     "prompt_number": 4
    },
    {
     "cell_type": "code",
     "collapsed": false,
     "input": [
      "plt.plot(trap[0,:])\n",
      "plt.show()"
     ],
     "language": "python",
     "metadata": {},
     "outputs": [],
     "prompt_number": 79
    },
    {
     "cell_type": "code",
     "collapsed": false,
     "input": [
      "from numba import jit,double,codegen,autojit\n",
      "import numba"
     ],
     "language": "python",
     "metadata": {},
     "outputs": [],
     "prompt_number": 47
    },
    {
     "cell_type": "code",
     "collapsed": false,
     "input": [
      "g = np.zeros((10,10))"
     ],
     "language": "python",
     "metadata": {},
     "outputs": [],
     "prompt_number": 60
    },
    {
     "cell_type": "code",
     "collapsed": false,
     "input": [
      "i=0\n",
      "for thing in g:\n",
      "    i += 1\n",
      "print i"
     ],
     "language": "python",
     "metadata": {},
     "outputs": [
      {
       "output_type": "stream",
       "stream": "stdout",
       "text": [
        "10\n"
       ]
      }
     ],
     "prompt_number": 61
    },
    {
     "cell_type": "code",
     "collapsed": false,
     "input": [
      "import numpy as np\n",
      "import matplotlib.pyplot as plt"
     ],
     "language": "python",
     "metadata": {},
     "outputs": [],
     "prompt_number": 2
    },
    {
     "cell_type": "code",
     "collapsed": false,
     "input": [
      "len(hist1[0])\n",
      "plt.plot(pulseHeights[:10100])"
     ],
     "language": "python",
     "metadata": {},
     "outputs": [
      {
       "metadata": {},
       "output_type": "pyout",
       "prompt_number": 9,
       "text": [
        "[<matplotlib.lines.Line2D at 0x10b0a80d0>]"
       ]
      }
     ],
     "prompt_number": 9
    },
    {
     "cell_type": "code",
     "collapsed": false,
     "input": [
      "plt.show()"
     ],
     "language": "python",
     "metadata": {},
     "outputs": [],
     "prompt_number": 10
    },
    {
     "cell_type": "code",
     "collapsed": false,
     "input": [
      "D = numpy.zeros(len(hist1[0]))\n",
      "for j in range(len(hist1[0])-1):\n",
      "    D[j] = hist1[0][j+1]-hist1[0][j]\n",
      "D2 = numpy.zeros(len(hist1[0]))\n",
      "for j in range(len(D)-1):\n",
      "    D2[j] = D[j+1]-D[j]"
     ],
     "language": "python",
     "metadata": {},
     "outputs": [],
     "prompt_number": 3
    },
    {
     "cell_type": "code",
     "collapsed": false,
     "input": [
      "import numpy\n",
      "start = time.time()\n",
      "peaks = [sample>200 or sample<-200 for sample in D]\n",
      "print [numpy.nonzero(peaks)]\n",
      "end = time.time()\n",
      "print end-start"
     ],
     "language": "python",
     "metadata": {},
     "outputs": [
      {
       "output_type": "stream",
       "stream": "stdout",
       "text": [
        "[(array([395, 396, 397, 398, 399, 449, 450, 452, 453]),)]\n",
        "0.00445103645325\n"
       ]
      }
     ],
     "prompt_number": 4
    },
    {
     "cell_type": "code",
     "collapsed": false,
     "input": [
      "plt.plot(D2)\n",
      "plt.show()"
     ],
     "language": "python",
     "metadata": {},
     "outputs": [],
     "prompt_number": 5
    },
    {
     "cell_type": "code",
     "collapsed": false,
     "input": [
      "f = readFile('../JB_AP_CO_60_2000_samples_092413.h5','HDF5')"
     ],
     "language": "python",
     "metadata": {},
     "outputs": [],
     "prompt_number": 3
    },
    {
     "cell_type": "code",
     "collapsed": false,
     "input": [
      "for trace in f[100000:100100]:\n",
      "    plt.plot(trace)\n",
      "    \n",
      "plt.show()"
     ],
     "language": "python",
     "metadata": {},
     "outputs": [],
     "prompt_number": 171
    },
    {
     "cell_type": "code",
     "collapsed": false,
     "input": [
      "from peakdetect import *"
     ],
     "language": "python",
     "metadata": {},
     "outputs": [],
     "prompt_number": 6
    },
    {
     "cell_type": "code",
     "collapsed": false,
     "input": [
      "import scipy"
     ],
     "language": "python",
     "metadata": {},
     "outputs": [],
     "prompt_number": 13
    },
    {
     "cell_type": "code",
     "collapsed": false,
     "input": [
      "print hist1[0][451-10:451+10]"
     ],
     "language": "python",
     "metadata": {},
     "outputs": [
      {
       "output_type": "stream",
       "stream": "stdout",
       "text": [
        "[  30   21   17   18   27   20   19   24   65 1159 4055 4081 1187   88    6\n",
        "    1    3    6    5    2]\n"
       ]
      }
     ],
     "prompt_number": 50
    },
    {
     "cell_type": "code",
     "collapsed": false,
     "input": [
      "def func(x,a,b,c):\n",
      "    return a*numpy.exp((-2.35*(b-x)**2)/c)\n",
      "peak_info = scipy.optimize.curve_fit(func,numpy.arange(-20,20),hist1[0][452-20:452+20])"
     ],
     "language": "python",
     "metadata": {},
     "outputs": [],
     "prompt_number": 62
    },
    {
     "cell_type": "code",
     "collapsed": false,
     "input": [
      "for peak_num,peak in enumerate(peak_info):\n",
      "    print peak_num, peak"
     ],
     "language": "python",
     "metadata": {},
     "outputs": [
      {
       "output_type": "stream",
       "stream": "stdout",
       "text": [
        "0 [  332.47856531    66.77605961  2803.46788399]\n",
        "1 [  286.23333479   186.82827361  4520.6978393 ]\n",
        "2 [ 2162.00212383   995.55643332    24.63186606]\n",
        "3 [ 1977.55646051  1130.36049881    22.07279814]\n"
       ]
      }
     ],
     "prompt_number": 100
    },
    {
     "cell_type": "code",
     "collapsed": false,
     "input": [
      "peak_info[0][2]/peak_info[0][1]"
     ],
     "language": "python",
     "metadata": {},
     "outputs": [
      {
       "metadata": {},
       "output_type": "pyout",
       "prompt_number": 70,
       "text": [
        "0.010193637409060836"
       ]
      }
     ],
     "prompt_number": 70
    },
    {
     "cell_type": "code",
     "collapsed": false,
     "input": [
      "397*5e7"
     ],
     "language": "python",
     "metadata": {},
     "outputs": [
      {
       "metadata": {},
       "output_type": "pyout",
       "prompt_number": 71,
       "text": [
        "19850000000.0"
       ]
      }
     ],
     "prompt_number": 71
    },
    {
     "cell_type": "code",
     "collapsed": false,
     "input": [
      "peaks = findRise(hist1[0],findPeak=True)"
     ],
     "language": "python",
     "metadata": {},
     "outputs": [
      {
       "output_type": "stream",
       "stream": "stdout",
       "text": [
        "[396, 450]\n"
       ]
      }
     ],
     "prompt_number": 83
    },
    {
     "cell_type": "code",
     "collapsed": false,
     "input": [
      "range(0,50,10)"
     ],
     "language": "python",
     "metadata": {},
     "outputs": [
      {
       "metadata": {},
       "output_type": "pyout",
       "prompt_number": 114,
       "text": [
        "[0, 10, 20, 30, 40]"
       ]
      }
     ],
     "prompt_number": 114
    },
    {
     "cell_type": "code",
     "collapsed": false,
     "input": [
      "peak_info = compareTrapParams()"
     ],
     "language": "python",
     "metadata": {},
     "outputs": [
      {
       "output_type": "stream",
       "stream": "stdout",
       "text": [
        "Reading  178296  traces from  ../JB_AP_CO_60_2000_samples_092413.h5\n"
       ]
      },
      {
       "output_type": "stream",
       "stream": "stdout",
       "text": [
        "Processing  10000  samples ( 0  to  10000 ) took:  5.52974009514\n",
        "Processing "
       ]
      },
      {
       "output_type": "stream",
       "stream": "stdout",
       "text": [
        " 20000  samples ( 10000  to  20000 ) took:  10.1512110233\n",
        "Processing "
       ]
      },
      {
       "output_type": "stream",
       "stream": "stdout",
       "text": [
        " 30000  samples ( 20000  to  30000 ) took:  14.6693382263\n",
        "Processing "
       ]
      },
      {
       "output_type": "stream",
       "stream": "stdout",
       "text": [
        " 40000  samples ( 30000  to  40000 ) took:  19.2457652092\n",
        "Processing "
       ]
      },
      {
       "output_type": "stream",
       "stream": "stdout",
       "text": [
        " 50000  samples ( 40000  to  50000 ) took:  24.1873641014\n",
        "Processing "
       ]
      },
      {
       "output_type": "stream",
       "stream": "stdout",
       "text": [
        " 60000  samples ( 50000  to  60000 ) took:  29.2933690548\n",
        "Processing "
       ]
      },
      {
       "output_type": "stream",
       "stream": "stdout",
       "text": [
        " 70000  samples ( 60000  to  70000 ) took:  35.1110420227\n",
        "Processing "
       ]
      },
      {
       "output_type": "stream",
       "stream": "stdout",
       "text": [
        " 80000  samples ( 70000  to  80000 ) took:  39.7577280998\n",
        "Processing "
       ]
      },
      {
       "output_type": "stream",
       "stream": "stdout",
       "text": [
        " 90000  samples ( 80000  to  90000 ) took:  44.3930780888\n",
        "Processing "
       ]
      },
      {
       "output_type": "stream",
       "stream": "stdout",
       "text": [
        " 100000  samples ( 90000  to  100000 ) took:  49.4574232101\n",
        "Processing "
       ]
      },
      {
       "output_type": "stream",
       "stream": "stdout",
       "text": [
        " 110000  samples ( 100000  to  110000 ) took:  54.81062603\n",
        "Processing "
       ]
      },
      {
       "output_type": "stream",
       "stream": "stdout",
       "text": [
        " 120000  samples ( 110000  to  120000 ) took:  59.57579422\n",
        "Processing "
       ]
      },
      {
       "output_type": "stream",
       "stream": "stdout",
       "text": [
        " 130000  samples ( 120000  to  130000 ) took:  65.3112051487\n",
        "Processing "
       ]
      },
      {
       "output_type": "stream",
       "stream": "stdout",
       "text": [
        " 140000  samples ( 130000  to  140000 ) took:  69.8970460892\n",
        "Processing "
       ]
      },
      {
       "output_type": "stream",
       "stream": "stdout",
       "text": [
        " 150000  samples ( 140000  to  150000 ) took:  74.9592380524\n",
        "Processing "
       ]
      },
      {
       "output_type": "stream",
       "stream": "stdout",
       "text": [
        " 160000  samples ( 150000  to  160000 ) took:  80.1169381142\n",
        "Processing "
       ]
      },
      {
       "output_type": "stream",
       "stream": "stdout",
       "text": [
        " 170000  samples ( 160000  to  170000 ) took:  85.175424099\n",
        "Processing "
       ]
      },
      {
       "ename": "TypeError",
       "evalue": "object of type 'NoneType' has no len()",
       "output_type": "pyerr",
       "traceback": [
        "\u001b[0;31m---------------------------------------------------------------------------\u001b[0m\n\u001b[0;31mTypeError\u001b[0m                                 Traceback (most recent call last)",
        "\u001b[0;32m<ipython-input-147-7f765f7a51af>\u001b[0m in \u001b[0;36m<module>\u001b[0;34m()\u001b[0m\n\u001b[0;32m----> 1\u001b[0;31m \u001b[0mpeak_info\u001b[0m \u001b[0;34m=\u001b[0m \u001b[0mcompareTrapParams\u001b[0m\u001b[0;34m(\u001b[0m\u001b[0;34m)\u001b[0m\u001b[0;34m\u001b[0m\u001b[0m\n\u001b[0m",
        "\u001b[0;32m<ipython-input-146-90207dc7f2f9>\u001b[0m in \u001b[0;36mcompareTrapParams\u001b[0;34m()\u001b[0m\n\u001b[1;32m    216\u001b[0m     \u001b[0;32mfor\u001b[0m \u001b[0mi\u001b[0m \u001b[0;32min\u001b[0m \u001b[0mrange\u001b[0m\u001b[0;34m(\u001b[0m\u001b[0;36m0\u001b[0m\u001b[0;34m,\u001b[0m\u001b[0;36m400\u001b[0m\u001b[0;34m,\u001b[0m\u001b[0;36m100\u001b[0m\u001b[0;34m)\u001b[0m\u001b[0;34m:\u001b[0m\u001b[0;34m\u001b[0m\u001b[0m\n\u001b[1;32m    217\u001b[0m         \u001b[0;32mfor\u001b[0m \u001b[0mj\u001b[0m \u001b[0;32min\u001b[0m \u001b[0mrange\u001b[0m\u001b[0;34m(\u001b[0m\u001b[0;36m0\u001b[0m\u001b[0;34m,\u001b[0m\u001b[0;36m500\u001b[0m\u001b[0;34m,\u001b[0m\u001b[0;36m100\u001b[0m\u001b[0;34m)\u001b[0m\u001b[0;34m:\u001b[0m\u001b[0;34m\u001b[0m\u001b[0m\n\u001b[0;32m--> 218\u001b[0;31m             \u001b[0mgarbage\u001b[0m\u001b[0;34m,\u001b[0m\u001b[0mpeak_info\u001b[0m\u001b[0;34m[\u001b[0m\u001b[0mi\u001b[0m\u001b[0;34m/\u001b[0m\u001b[0;36m100\u001b[0m\u001b[0;34m,\u001b[0m\u001b[0mj\u001b[0m\u001b[0;34m/\u001b[0m\u001b[0;36m100\u001b[0m\u001b[0;34m]\u001b[0m \u001b[0;34m=\u001b[0m \u001b[0mmakeSpect\u001b[0m\u001b[0;34m(\u001b[0m\u001b[0;34m'../JB_AP_CO_60_2000_samples_092413.h5'\u001b[0m\u001b[0;34m,\u001b[0m\u001b[0;34m'HDF5'\u001b[0m\u001b[0;34m,\u001b[0m\u001b[0mrise\u001b[0m\u001b[0;34m+\u001b[0m\u001b[0mi\u001b[0m\u001b[0;34m,\u001b[0m\u001b[0mgap\u001b[0m\u001b[0;34m+\u001b[0m\u001b[0mj\u001b[0m\u001b[0;34m)\u001b[0m\u001b[0;34m\u001b[0m\u001b[0m\n\u001b[0m\u001b[1;32m    219\u001b[0m \u001b[0;34m\u001b[0m\u001b[0m\n\u001b[1;32m    220\u001b[0m     \u001b[0;32mreturn\u001b[0m \u001b[0mpeak_info\u001b[0m\u001b[0;34m\u001b[0m\u001b[0m\n",
        "\u001b[0;32m<ipython-input-146-90207dc7f2f9>\u001b[0m in \u001b[0;36mmakeSpect\u001b[0;34m(fname, ftype, k, m)\u001b[0m\n\u001b[1;32m    194\u001b[0m     \u001b[0mhist\u001b[0m \u001b[0;34m=\u001b[0m \u001b[0mnumpy\u001b[0m\u001b[0;34m.\u001b[0m\u001b[0mhistogram\u001b[0m\u001b[0;34m(\u001b[0m\u001b[0mpulseHeight\u001b[0m\u001b[0;34m/\u001b[0m\u001b[0;36m5e7\u001b[0m\u001b[0;34m,\u001b[0m\u001b[0mxdata\u001b[0m\u001b[0;34m)\u001b[0m\u001b[0;34m\u001b[0m\u001b[0m\n\u001b[1;32m    195\u001b[0m     \u001b[0mpeak_indices\u001b[0m \u001b[0;34m=\u001b[0m \u001b[0mfindRise\u001b[0m\u001b[0;34m(\u001b[0m\u001b[0mhist\u001b[0m\u001b[0;34m[\u001b[0m\u001b[0;36m0\u001b[0m\u001b[0;34m]\u001b[0m\u001b[0;34m,\u001b[0m\u001b[0mfindPeak\u001b[0m\u001b[0;34m=\u001b[0m\u001b[0mTrue\u001b[0m\u001b[0;34m)\u001b[0m\u001b[0;34m\u001b[0m\u001b[0m\n\u001b[0;32m--> 196\u001b[0;31m     \u001b[0mpeak_info\u001b[0m \u001b[0;34m=\u001b[0m \u001b[0mpeakFit\u001b[0m\u001b[0;34m(\u001b[0m\u001b[0mhist\u001b[0m\u001b[0;34m[\u001b[0m\u001b[0;36m0\u001b[0m\u001b[0;34m]\u001b[0m\u001b[0;34m,\u001b[0m\u001b[0mpeak_indices\u001b[0m\u001b[0;34m)\u001b[0m\u001b[0;34m\u001b[0m\u001b[0m\n\u001b[0m\u001b[1;32m    197\u001b[0m     \u001b[0;32mprint\u001b[0m \u001b[0;34m'Peak #\\tPeak Info'\u001b[0m\u001b[0;34m\u001b[0m\u001b[0m\n\u001b[1;32m    198\u001b[0m     \u001b[0;32mprint\u001b[0m \u001b[0;34m'\\tHeight\\t\\tChannel\\t\\tFWHM'\u001b[0m\u001b[0;34m\u001b[0m\u001b[0m\n",
        "\u001b[0;32m<ipython-input-146-90207dc7f2f9>\u001b[0m in \u001b[0;36mpeakFit\u001b[0;34m(hist, peak_locs)\u001b[0m\n\u001b[1;32m    146\u001b[0m     \u001b[0mpeaks\u001b[0m \u001b[0;34m=\u001b[0m \u001b[0;34m[\u001b[0m\u001b[0;34m]\u001b[0m\u001b[0;34m\u001b[0m\u001b[0m\n\u001b[1;32m    147\u001b[0m \u001b[0;34m\u001b[0m\u001b[0m\n\u001b[0;32m--> 148\u001b[0;31m     \u001b[0;32mif\u001b[0m \u001b[0mlen\u001b[0m\u001b[0;34m(\u001b[0m\u001b[0mpeak_locs\u001b[0m\u001b[0;34m)\u001b[0m \u001b[0;34m!=\u001b[0m \u001b[0;36m0\u001b[0m\u001b[0;34m:\u001b[0m\u001b[0;34m\u001b[0m\u001b[0m\n\u001b[0m\u001b[1;32m    149\u001b[0m         \u001b[0;32mfor\u001b[0m \u001b[0mpeak_loc\u001b[0m \u001b[0;32min\u001b[0m \u001b[0mpeak_locs\u001b[0m\u001b[0;34m:\u001b[0m\u001b[0;34m\u001b[0m\u001b[0m\n\u001b[1;32m    150\u001b[0m             \u001b[0mpeak_info\u001b[0m\u001b[0;34m,\u001b[0m\u001b[0mgarbage\u001b[0m \u001b[0;34m=\u001b[0m \u001b[0mscipy\u001b[0m\u001b[0;34m.\u001b[0m\u001b[0moptimize\u001b[0m\u001b[0;34m.\u001b[0m\u001b[0mcurve_fit\u001b[0m\u001b[0;34m(\u001b[0m\u001b[0mfunc\u001b[0m\u001b[0;34m,\u001b[0m\u001b[0mnumpy\u001b[0m\u001b[0;34m.\u001b[0m\u001b[0marange\u001b[0m\u001b[0;34m(\u001b[0m\u001b[0;34m-\u001b[0m\u001b[0;36m20\u001b[0m\u001b[0;34m,\u001b[0m\u001b[0;36m20\u001b[0m\u001b[0;34m)\u001b[0m\u001b[0;34m,\u001b[0m\u001b[0mhist\u001b[0m\u001b[0;34m[\u001b[0m\u001b[0mpeak_loc\u001b[0m\u001b[0;34m-\u001b[0m\u001b[0;36m20\u001b[0m\u001b[0;34m:\u001b[0m\u001b[0mpeak_loc\u001b[0m\u001b[0;34m+\u001b[0m\u001b[0;36m20\u001b[0m\u001b[0;34m]\u001b[0m\u001b[0;34m)\u001b[0m\u001b[0;34m\u001b[0m\u001b[0m\n",
        "\u001b[0;31mTypeError\u001b[0m: object of type 'NoneType' has no len()"
       ]
      },
      {
       "output_type": "stream",
       "stream": "stdout",
       "text": [
        " 178296  samples ( 170000  to  178296 ) took:  89.3001921177\n",
        "Error: There were no peaks found in this histogram. Note: threshold may be too high; try lowering.\n"
       ]
      }
     ],
     "prompt_number": 147
    },
    {
     "cell_type": "code",
     "collapsed": false,
     "input": [
      "test = []\n",
      "test.append(10)\n",
      "print test"
     ],
     "language": "python",
     "metadata": {},
     "outputs": [
      {
       "output_type": "stream",
       "stream": "stdout",
       "text": [
        "[10]\n"
       ]
      }
     ],
     "prompt_number": 145
    },
    {
     "cell_type": "code",
     "collapsed": false,
     "input": [
      "print len(numpy.arange(-20,20))\n",
      "print len(hist1[0][450-20:450+20])"
     ],
     "language": "python",
     "metadata": {},
     "outputs": [
      {
       "output_type": "stream",
       "stream": "stdout",
       "text": [
        "40\n",
        "40\n"
       ]
      }
     ],
     "prompt_number": 165
    },
    {
     "cell_type": "code",
     "collapsed": false,
     "input": [
      "plt.plot(hist1[0])\n",
      "plt.show()"
     ],
     "language": "python",
     "metadata": {},
     "outputs": [],
     "prompt_number": 166
    },
    {
     "cell_type": "code",
     "collapsed": false,
     "input": [
      "import matplotlib.pyplot as plt\n",
      "i=100\n",
      "findRise(f[i])\n",
      "plt.plot(f[i])\n",
      "plt.show()"
     ],
     "language": "python",
     "metadata": {},
     "outputs": [],
     "prompt_number": 9
    },
    {
     "cell_type": "code",
     "collapsed": false,
     "input": [
      "hist1"
     ],
     "language": "python",
     "metadata": {},
     "outputs": [
      {
       "ename": "NameError",
       "evalue": "name 'hist1' is not defined",
       "output_type": "pyerr",
       "traceback": [
        "\u001b[0;31m---------------------------------------------------------------------------\u001b[0m\n\u001b[0;31mNameError\u001b[0m                                 Traceback (most recent call last)",
        "\u001b[0;32m<ipython-input-10-3f184129643e>\u001b[0m in \u001b[0;36m<module>\u001b[0;34m()\u001b[0m\n\u001b[0;32m----> 1\u001b[0;31m \u001b[0mhist1\u001b[0m\u001b[0;34m\u001b[0m\u001b[0m\n\u001b[0m",
        "\u001b[0;31mNameError\u001b[0m: name 'hist1' is not defined"
       ]
      }
     ],
     "prompt_number": 10
    },
    {
     "cell_type": "code",
     "collapsed": false,
     "input": [
      "x = numpy.array([1,2,3,4,5])"
     ],
     "language": "python",
     "metadata": {},
     "outputs": [],
     "prompt_number": 13
    },
    {
     "cell_type": "code",
     "collapsed": false,
     "input": [
      "x[len(x)+1] = 6"
     ],
     "language": "python",
     "metadata": {},
     "outputs": [
      {
       "ename": "IndexError",
       "evalue": "index 6 is out of bounds for axis 0 with size 5",
       "output_type": "pyerr",
       "traceback": [
        "\u001b[0;31m---------------------------------------------------------------------------\u001b[0m\n\u001b[0;31mIndexError\u001b[0m                                Traceback (most recent call last)",
        "\u001b[0;32m<ipython-input-14-73b2768f8c36>\u001b[0m in \u001b[0;36m<module>\u001b[0;34m()\u001b[0m\n\u001b[0;32m----> 1\u001b[0;31m \u001b[0mx\u001b[0m\u001b[0;34m[\u001b[0m\u001b[0mlen\u001b[0m\u001b[0;34m(\u001b[0m\u001b[0mx\u001b[0m\u001b[0;34m)\u001b[0m\u001b[0;34m+\u001b[0m\u001b[0;36m1\u001b[0m\u001b[0;34m]\u001b[0m \u001b[0;34m=\u001b[0m \u001b[0;36m6\u001b[0m\u001b[0;34m\u001b[0m\u001b[0m\n\u001b[0m",
        "\u001b[0;31mIndexError\u001b[0m: index 6 is out of bounds for axis 0 with size 5"
       ]
      }
     ],
     "prompt_number": 14
    },
    {
     "cell_type": "code",
     "collapsed": false,
     "input": [
      "M = 0\n",
      "pulseHeight = numpy.zeros(len(f))\n",
      "s = numpy.zeros(numpy.shape(f))\n",
      "trace_s = numpy.zeros(numpy.shape(f))\n",
      "numPulses = len(f)\n",
      "k=250\n",
      "m=100\n",
      "\n",
      "'''\n",
      "for i in range(100):\n",
      "    o = fitExp(f[i,:])\n",
      "    M = (M + o)/2\n",
      "'''\n",
      "start = time.time()\n",
      "\n",
      "i = 0\n",
      "numRead = 10000\n",
      "iterations = (numPulses-numPulses%numRead)/numRead + 1\n",
      "for n in range(iterations):\n",
      "    n1 = n*10000\n",
      "    if n == iterations-1:\n",
      "        n2 = numPulses\n",
      "    else:\n",
      "        n2 = n1 + 10000\n",
      "    for trace in f[n1:n2,:]:\n",
      "        trace_s[i,:] = subtractBaseline(trace)\n",
      "        s[i,:], pulseHeight[i] = trapezoidalFilter(k,m,4467,trace_s)\n",
      "        i += 1\n",
      "    end = time.time()\n",
      "    print 'Processing ',n2, ' samples (',n1, ' to ', n2, ') took: ', end-start\n",
      "    \n",
      "xdata = numpy.linspace(0,10,800)\n",
      "hist = numpy.histogram(pulseHeight/5e7,xdata)"
     ],
     "language": "python",
     "metadata": {},
     "outputs": [],
     "prompt_number": "*"
    },
    {
     "cell_type": "code",
     "collapsed": false,
     "input": [
      "import scipy.stats as stats\n",
      "hist = stats.histogram(pulseHeight/5e7)"
     ],
     "language": "python",
     "metadata": {},
     "outputs": [],
     "prompt_number": 16
    },
    {
     "cell_type": "code",
     "collapsed": false,
     "input": [
      "import matplotlib.pyplot as plt\n",
      "plt.plot(hist)\n",
      "plt.show()"
     ],
     "language": "python",
     "metadata": {},
     "outputs": [
      {
       "ename": "ValueError",
       "evalue": "setting an array element with a sequence.",
       "output_type": "pyerr",
       "traceback": [
        "\u001b[0;31m---------------------------------------------------------------------------\u001b[0m\n\u001b[0;31mValueError\u001b[0m                                Traceback (most recent call last)",
        "\u001b[0;32m<ipython-input-17-41e0cb2d243e>\u001b[0m in \u001b[0;36m<module>\u001b[0;34m()\u001b[0m\n\u001b[1;32m      1\u001b[0m \u001b[0;32mimport\u001b[0m \u001b[0mmatplotlib\u001b[0m\u001b[0;34m.\u001b[0m\u001b[0mpyplot\u001b[0m \u001b[0;32mas\u001b[0m \u001b[0mplt\u001b[0m\u001b[0;34m\u001b[0m\u001b[0m\n\u001b[0;32m----> 2\u001b[0;31m \u001b[0mplt\u001b[0m\u001b[0;34m.\u001b[0m\u001b[0mplot\u001b[0m\u001b[0;34m(\u001b[0m\u001b[0mhist\u001b[0m\u001b[0;34m)\u001b[0m\u001b[0;34m\u001b[0m\u001b[0m\n\u001b[0m\u001b[1;32m      3\u001b[0m \u001b[0mplt\u001b[0m\u001b[0;34m.\u001b[0m\u001b[0mshow\u001b[0m\u001b[0;34m(\u001b[0m\u001b[0;34m)\u001b[0m\u001b[0;34m\u001b[0m\u001b[0m\n",
        "\u001b[0;32m/Users/Anders/anaconda/python.app/Contents/lib/python2.7/site-packages/matplotlib/pyplot.pyc\u001b[0m in \u001b[0;36mplot\u001b[0;34m(*args, **kwargs)\u001b[0m\n\u001b[1;32m   2830\u001b[0m         \u001b[0max\u001b[0m\u001b[0;34m.\u001b[0m\u001b[0mhold\u001b[0m\u001b[0;34m(\u001b[0m\u001b[0mhold\u001b[0m\u001b[0;34m)\u001b[0m\u001b[0;34m\u001b[0m\u001b[0m\n\u001b[1;32m   2831\u001b[0m     \u001b[0;32mtry\u001b[0m\u001b[0;34m:\u001b[0m\u001b[0;34m\u001b[0m\u001b[0m\n\u001b[0;32m-> 2832\u001b[0;31m         \u001b[0mret\u001b[0m \u001b[0;34m=\u001b[0m \u001b[0max\u001b[0m\u001b[0;34m.\u001b[0m\u001b[0mplot\u001b[0m\u001b[0;34m(\u001b[0m\u001b[0;34m*\u001b[0m\u001b[0margs\u001b[0m\u001b[0;34m,\u001b[0m \u001b[0;34m**\u001b[0m\u001b[0mkwargs\u001b[0m\u001b[0;34m)\u001b[0m\u001b[0;34m\u001b[0m\u001b[0m\n\u001b[0m\u001b[1;32m   2833\u001b[0m         \u001b[0mdraw_if_interactive\u001b[0m\u001b[0;34m(\u001b[0m\u001b[0;34m)\u001b[0m\u001b[0;34m\u001b[0m\u001b[0m\n\u001b[1;32m   2834\u001b[0m     \u001b[0;32mfinally\u001b[0m\u001b[0;34m:\u001b[0m\u001b[0;34m\u001b[0m\u001b[0m\n",
        "\u001b[0;32m/Users/Anders/anaconda/python.app/Contents/lib/python2.7/site-packages/matplotlib/axes.pyc\u001b[0m in \u001b[0;36mplot\u001b[0;34m(self, *args, **kwargs)\u001b[0m\n\u001b[1;32m   3995\u001b[0m \u001b[0;34m\u001b[0m\u001b[0m\n\u001b[1;32m   3996\u001b[0m         \u001b[0;32mfor\u001b[0m \u001b[0mline\u001b[0m \u001b[0;32min\u001b[0m \u001b[0mself\u001b[0m\u001b[0;34m.\u001b[0m\u001b[0m_get_lines\u001b[0m\u001b[0;34m(\u001b[0m\u001b[0;34m*\u001b[0m\u001b[0margs\u001b[0m\u001b[0;34m,\u001b[0m \u001b[0;34m**\u001b[0m\u001b[0mkwargs\u001b[0m\u001b[0;34m)\u001b[0m\u001b[0;34m:\u001b[0m\u001b[0;34m\u001b[0m\u001b[0m\n\u001b[0;32m-> 3997\u001b[0;31m             \u001b[0mself\u001b[0m\u001b[0;34m.\u001b[0m\u001b[0madd_line\u001b[0m\u001b[0;34m(\u001b[0m\u001b[0mline\u001b[0m\u001b[0;34m)\u001b[0m\u001b[0;34m\u001b[0m\u001b[0m\n\u001b[0m\u001b[1;32m   3998\u001b[0m             \u001b[0mlines\u001b[0m\u001b[0;34m.\u001b[0m\u001b[0mappend\u001b[0m\u001b[0;34m(\u001b[0m\u001b[0mline\u001b[0m\u001b[0;34m)\u001b[0m\u001b[0;34m\u001b[0m\u001b[0m\n\u001b[1;32m   3999\u001b[0m \u001b[0;34m\u001b[0m\u001b[0m\n",
        "\u001b[0;32m/Users/Anders/anaconda/python.app/Contents/lib/python2.7/site-packages/matplotlib/axes.pyc\u001b[0m in \u001b[0;36madd_line\u001b[0;34m(self, line)\u001b[0m\n\u001b[1;32m   1505\u001b[0m             \u001b[0mline\u001b[0m\u001b[0;34m.\u001b[0m\u001b[0mset_clip_path\u001b[0m\u001b[0;34m(\u001b[0m\u001b[0mself\u001b[0m\u001b[0;34m.\u001b[0m\u001b[0mpatch\u001b[0m\u001b[0;34m)\u001b[0m\u001b[0;34m\u001b[0m\u001b[0m\n\u001b[1;32m   1506\u001b[0m \u001b[0;34m\u001b[0m\u001b[0m\n\u001b[0;32m-> 1507\u001b[0;31m         \u001b[0mself\u001b[0m\u001b[0;34m.\u001b[0m\u001b[0m_update_line_limits\u001b[0m\u001b[0;34m(\u001b[0m\u001b[0mline\u001b[0m\u001b[0;34m)\u001b[0m\u001b[0;34m\u001b[0m\u001b[0m\n\u001b[0m\u001b[1;32m   1508\u001b[0m         \u001b[0;32mif\u001b[0m \u001b[0;32mnot\u001b[0m \u001b[0mline\u001b[0m\u001b[0;34m.\u001b[0m\u001b[0mget_label\u001b[0m\u001b[0;34m(\u001b[0m\u001b[0;34m)\u001b[0m\u001b[0;34m:\u001b[0m\u001b[0;34m\u001b[0m\u001b[0m\n\u001b[1;32m   1509\u001b[0m             \u001b[0mline\u001b[0m\u001b[0;34m.\u001b[0m\u001b[0mset_label\u001b[0m\u001b[0;34m(\u001b[0m\u001b[0;34m'_line%d'\u001b[0m \u001b[0;34m%\u001b[0m \u001b[0mlen\u001b[0m\u001b[0;34m(\u001b[0m\u001b[0mself\u001b[0m\u001b[0;34m.\u001b[0m\u001b[0mlines\u001b[0m\u001b[0;34m)\u001b[0m\u001b[0;34m)\u001b[0m\u001b[0;34m\u001b[0m\u001b[0m\n",
        "\u001b[0;32m/Users/Anders/anaconda/python.app/Contents/lib/python2.7/site-packages/matplotlib/axes.pyc\u001b[0m in \u001b[0;36m_update_line_limits\u001b[0;34m(self, line)\u001b[0m\n\u001b[1;32m   1514\u001b[0m     \u001b[0;32mdef\u001b[0m \u001b[0m_update_line_limits\u001b[0m\u001b[0;34m(\u001b[0m\u001b[0mself\u001b[0m\u001b[0;34m,\u001b[0m \u001b[0mline\u001b[0m\u001b[0;34m)\u001b[0m\u001b[0;34m:\u001b[0m\u001b[0;34m\u001b[0m\u001b[0m\n\u001b[1;32m   1515\u001b[0m         \u001b[0;34m\"\"\"Figures out the data limit of the given line, updating self.dataLim.\"\"\"\u001b[0m\u001b[0;34m\u001b[0m\u001b[0m\n\u001b[0;32m-> 1516\u001b[0;31m         \u001b[0mpath\u001b[0m \u001b[0;34m=\u001b[0m \u001b[0mline\u001b[0m\u001b[0;34m.\u001b[0m\u001b[0mget_path\u001b[0m\u001b[0;34m(\u001b[0m\u001b[0;34m)\u001b[0m\u001b[0;34m\u001b[0m\u001b[0m\n\u001b[0m\u001b[1;32m   1517\u001b[0m         \u001b[0;32mif\u001b[0m \u001b[0mpath\u001b[0m\u001b[0;34m.\u001b[0m\u001b[0mvertices\u001b[0m\u001b[0;34m.\u001b[0m\u001b[0msize\u001b[0m \u001b[0;34m==\u001b[0m \u001b[0;36m0\u001b[0m\u001b[0;34m:\u001b[0m\u001b[0;34m\u001b[0m\u001b[0m\n\u001b[1;32m   1518\u001b[0m             \u001b[0;32mreturn\u001b[0m\u001b[0;34m\u001b[0m\u001b[0m\n",
        "\u001b[0;32m/Users/Anders/anaconda/python.app/Contents/lib/python2.7/site-packages/matplotlib/lines.pyc\u001b[0m in \u001b[0;36mget_path\u001b[0;34m(self)\u001b[0m\n\u001b[1;32m    675\u001b[0m         \"\"\"\n\u001b[1;32m    676\u001b[0m         \u001b[0;32mif\u001b[0m \u001b[0mself\u001b[0m\u001b[0;34m.\u001b[0m\u001b[0m_invalidy\u001b[0m \u001b[0;32mor\u001b[0m \u001b[0mself\u001b[0m\u001b[0;34m.\u001b[0m\u001b[0m_invalidx\u001b[0m\u001b[0;34m:\u001b[0m\u001b[0;34m\u001b[0m\u001b[0m\n\u001b[0;32m--> 677\u001b[0;31m             \u001b[0mself\u001b[0m\u001b[0;34m.\u001b[0m\u001b[0mrecache\u001b[0m\u001b[0;34m(\u001b[0m\u001b[0;34m)\u001b[0m\u001b[0;34m\u001b[0m\u001b[0m\n\u001b[0m\u001b[1;32m    678\u001b[0m         \u001b[0;32mreturn\u001b[0m \u001b[0mself\u001b[0m\u001b[0;34m.\u001b[0m\u001b[0m_path\u001b[0m\u001b[0;34m\u001b[0m\u001b[0m\n\u001b[1;32m    679\u001b[0m \u001b[0;34m\u001b[0m\u001b[0m\n",
        "\u001b[0;32m/Users/Anders/anaconda/python.app/Contents/lib/python2.7/site-packages/matplotlib/lines.pyc\u001b[0m in \u001b[0;36mrecache\u001b[0;34m(self, always)\u001b[0m\n\u001b[1;32m    408\u001b[0m                 \u001b[0my\u001b[0m \u001b[0;34m=\u001b[0m \u001b[0mma\u001b[0m\u001b[0;34m.\u001b[0m\u001b[0masarray\u001b[0m\u001b[0;34m(\u001b[0m\u001b[0myconv\u001b[0m\u001b[0;34m,\u001b[0m \u001b[0mnp\u001b[0m\u001b[0;34m.\u001b[0m\u001b[0mfloat_\u001b[0m\u001b[0;34m)\u001b[0m\u001b[0;34m\u001b[0m\u001b[0m\n\u001b[1;32m    409\u001b[0m             \u001b[0;32melse\u001b[0m\u001b[0;34m:\u001b[0m\u001b[0;34m\u001b[0m\u001b[0m\n\u001b[0;32m--> 410\u001b[0;31m                 \u001b[0my\u001b[0m \u001b[0;34m=\u001b[0m \u001b[0mnp\u001b[0m\u001b[0;34m.\u001b[0m\u001b[0masarray\u001b[0m\u001b[0;34m(\u001b[0m\u001b[0myconv\u001b[0m\u001b[0;34m,\u001b[0m \u001b[0mnp\u001b[0m\u001b[0;34m.\u001b[0m\u001b[0mfloat_\u001b[0m\u001b[0;34m)\u001b[0m\u001b[0;34m\u001b[0m\u001b[0m\n\u001b[0m\u001b[1;32m    411\u001b[0m             \u001b[0my\u001b[0m \u001b[0;34m=\u001b[0m \u001b[0my\u001b[0m\u001b[0;34m.\u001b[0m\u001b[0mravel\u001b[0m\u001b[0;34m(\u001b[0m\u001b[0;34m)\u001b[0m\u001b[0;34m\u001b[0m\u001b[0m\n\u001b[1;32m    412\u001b[0m         \u001b[0;32melse\u001b[0m\u001b[0;34m:\u001b[0m\u001b[0;34m\u001b[0m\u001b[0m\n",
        "\u001b[0;32m/Users/Anders/anaconda/python.app/Contents/lib/python2.7/site-packages/numpy/core/numeric.pyc\u001b[0m in \u001b[0;36masarray\u001b[0;34m(a, dtype, order)\u001b[0m\n\u001b[1;32m    318\u001b[0m \u001b[0;34m\u001b[0m\u001b[0m\n\u001b[1;32m    319\u001b[0m     \"\"\"\n\u001b[0;32m--> 320\u001b[0;31m     \u001b[0;32mreturn\u001b[0m \u001b[0marray\u001b[0m\u001b[0;34m(\u001b[0m\u001b[0ma\u001b[0m\u001b[0;34m,\u001b[0m \u001b[0mdtype\u001b[0m\u001b[0;34m,\u001b[0m \u001b[0mcopy\u001b[0m\u001b[0;34m=\u001b[0m\u001b[0mFalse\u001b[0m\u001b[0;34m,\u001b[0m \u001b[0morder\u001b[0m\u001b[0;34m=\u001b[0m\u001b[0morder\u001b[0m\u001b[0;34m)\u001b[0m\u001b[0;34m\u001b[0m\u001b[0m\n\u001b[0m\u001b[1;32m    321\u001b[0m \u001b[0;34m\u001b[0m\u001b[0m\n\u001b[1;32m    322\u001b[0m \u001b[0;32mdef\u001b[0m \u001b[0masanyarray\u001b[0m\u001b[0;34m(\u001b[0m\u001b[0ma\u001b[0m\u001b[0;34m,\u001b[0m \u001b[0mdtype\u001b[0m\u001b[0;34m=\u001b[0m\u001b[0mNone\u001b[0m\u001b[0;34m,\u001b[0m \u001b[0morder\u001b[0m\u001b[0;34m=\u001b[0m\u001b[0mNone\u001b[0m\u001b[0;34m)\u001b[0m\u001b[0;34m:\u001b[0m\u001b[0;34m\u001b[0m\u001b[0m\n",
        "\u001b[0;31mValueError\u001b[0m: setting an array element with a sequence."
       ]
      }
     ],
     "prompt_number": 17
    },
    {
     "cell_type": "code",
     "collapsed": false,
     "input": [
      "numpy.shape(hist)"
     ],
     "language": "python",
     "metadata": {},
     "outputs": [
      {
       "metadata": {},
       "output_type": "pyout",
       "prompt_number": 18,
       "text": [
        "(4,)"
       ]
      }
     ],
     "prompt_number": 18
    },
    {
     "cell_type": "code",
     "collapsed": false,
     "input": [
      "for trace in f[1:3,:]:\n",
      "    print trace.shape"
     ],
     "language": "python",
     "metadata": {},
     "outputs": [
      {
       "output_type": "stream",
       "stream": "stdout",
       "text": [
        "(2000,)\n",
        "(2000,)\n"
       ]
      }
     ],
     "prompt_number": 56
    },
    {
     "cell_type": "code",
     "collapsed": false,
     "input": [],
     "language": "python",
     "metadata": {},
     "outputs": []
    }
   ],
   "metadata": {}
  }
 ]
}