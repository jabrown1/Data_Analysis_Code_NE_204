{
 "metadata": {
  "name": ""
 },
 "nbformat": 3,
 "nbformat_minor": 0,
 "worksheets": [
  {
   "cells": [
    {
     "cell_type": "code",
     "collapsed": false,
     "input": [
      "#%%file createSpec.py\n",
      "\n",
      "from numba import autojit,codegen\n",
      "import numpy\n",
      "import matplotlib.pyplot as plt\n",
      "import logging\n",
      "import scipy.optimize as opt\n",
      "import time\n",
      "import scipy.stats as stats\n",
      "codegen.debug.logger.setLevel(logging.INFO)\n",
      "\n",
      "def readFile(fname,ftype):\n",
      "    \n",
      "    '''Reads in file in the current directory of type 'ftype' (string).  Can read HDF5, plain text and ROOT trees.  \n",
      "    \n",
      "    fname:  string containing the file name with extension\n",
      "    \n",
      "    ftype:  string indicating file type.  Use:\n",
      "        'HDF5': .h5 file type containing HDF5 formatted information\n",
      "        'plain': plain text information with ' ' delimeter\n",
      "        'root': ROOT tree formatted information\n",
      "        \n",
      "    '''\n",
      "    \n",
      "    if ftype == 'HDF5':\n",
      "        import h5py\n",
      "        f = h5py.File(fname,'r',dtype=int)\n",
      "        data = f['RawData']\n",
      "        return data\n",
      "    \n",
      "    if ftype == 'plain':\n",
      "        f = numpy.loadtxt(fname)\n",
      "        return f\n",
      "    \n",
      "    if ftype == 'root':\n",
      "        import ROOT\n",
      "        f = ROOT.fopen(fname,'r')\n",
      "        return f\n",
      "\n",
      "def triangularFilter(k,v):\n",
      "    \n",
      "    '''\n",
      "    Takes signal v with rise time k (in samples) and returns the filtered (triangular) signal.\n",
      "    '''\n",
      "    \n",
      "    import numpy as np\n",
      "\n",
      "    s = numpy.zeros_like(v)\n",
      "    for n in range(len(v)):\n",
      "        try:\n",
      "            s[n] = s[n-1] + v[n] - 2*v[n-k] + v[n-2*k]\n",
      "        except:\n",
      "            s[n] = v[n]\n",
      "\n",
      "    return s\n",
      "\n",
      "@autojit\n",
      "def trapezoidalFilter(k,m,t,v):\n",
      "    \n",
      "    '''\n",
      "    Takes signal v with rise time k (in samples) and gap time m (in samples) and returns the filtered signal.\n",
      "    '''\n",
      "    \n",
      "    M = t\n",
      "    s = numpy.zeros_like(v)\n",
      "    p = numpy.zeros_like(v)\n",
      "    r = numpy.zeros_like(v)\n",
      "    d = numpy.zeros_like(v)\n",
      "    length = numpy.size(v)\n",
      "    \n",
      "    for n in range(2*k+m,length):\n",
      "        d[n] = v[n] - v[n-k] - v[n-k-m] + v[n-2*k-m]\n",
      "        p[n] = p[n-1] + d[n]\n",
      "        r[n] = p[n] + M*d[n]\n",
      "        s[n] = s[n-1] + r[n]\n",
      "        \n",
      "    return s/k, max(s)/k\n",
      "\n",
      "def subtractBaseline(v):\n",
      "    \n",
      "    '''\n",
      "    Takes in signal v and subtracts baseline by taking the average of samples before a sharp rise.\n",
      "    '''\n",
      "    mu = numpy.mean(v[:100])\n",
      "\n",
      "    v[:] -= mu*numpy.ones(len(v))\n",
      "        \n",
      "    return v\n",
      "\n",
      "def fitExp(v):\n",
      "    n = numpy.argmax(v)+25\n",
      "    xdata = numpy.arange(len(v[n:]))\n",
      "    ydata = numpy.array(v[n:])\n",
      "    def exp_func(x,a,b):\n",
      "        return a*numpy.exp(-x/b)\n",
      "    fit,fit2 = opt.curve_fit(exp_func,xdata,ydata)\n",
      "    return int(numpy.round(fit[1]))\n",
      "\n",
      "def findRise(v, findPeak=False, thresh=100):\n",
      "    \n",
      "    Dv = numpy.zeros(len(v))\n",
      "    Dv2 = numpy.zeros(len(v))\n",
      "    peak_locs = []\n",
      "    \n",
      "    for j in range(len(v)-1):\n",
      "        Dv[j] = v[j+1]-v[j]\n",
      "        \n",
      "    if findPeak:\n",
      "        try:\n",
      "            for j in range(len(v)-1):\n",
      "                Dv2[j] = Dv[j+1]-Dv[j]\n",
      "            peaks = [sample<-thresh for sample in Dv2]\n",
      "            peaks = list(numpy.nonzero(peaks)[0])\n",
      "            peak_locs.append(peaks[0])\n",
      "            for i in range(1,len(peaks)):\n",
      "                if numpy.abs(peaks[i]-peaks[i-1])>10:\n",
      "                    peak_locs.append(peaks[i])\n",
      "            else:\n",
      "                return numpy.array(peak_locs)\n",
      "        except:\n",
      "            print 'Error: There were no peaks found in this histogram. Note: threshold may be too high; try lowering.'\n",
      "    else:\n",
      "        return numpy.argmax(v)\n",
      "\n",
      "def extractHeight(s,t,k,m):\n",
      "    \n",
      "    '''\n",
      "    Takes a shaped signal, peak rise slope time (sample #) and the shaping parameters and finds the height of the signal for histogramming.\n",
      "    '''\n",
      "    \n",
      "    if (t+numpy.floor((k+m)/2))<len(s):\n",
      "        peak = s[t+numpy.floor((k+m)/2)]\n",
      "    else:\n",
      "        peak = max(s)\n",
      "        \n",
      "    return peak\n",
      "\n",
      "def peakFit(hist,peak_locs):\n",
      "    \n",
      "    '''\n",
      "    Takes the energy histogram and the indices of the peaks, fits the peaks, returns the centroid and the FWHM in a list of tuples.\n",
      "    '''\n",
      "    def exp_func(x,a,b,c,m,y0):\n",
      "        return a*numpy.exp((-5.5451*(x-b)**2.)/(2.*c**2))+m*x+y0\n",
      "    \n",
      "    def lin_func(x,a,b):\n",
      "        return a*x+b\n",
      "    \n",
      "    peaks = []\n",
      "    \n",
      "    if len(peak_locs) > 0:\n",
      "        for peak_loc in peak_locs:\n",
      "            try:\n",
      "                #baseline_info,garbage = opt.curve_fit(lin_func,numpy.arange(-10,10),numpy.array(hist[peak_loc-10:peak_loc+10]))\n",
      "                #hist_s = numpy.array(hist[peak_loc-10:peak_loc+10]) - baseline_info[0]*numpy.arange(peak_loc-10,peak_loc+10)\\\n",
      "                #        - baseline_info[1]*numpy.ones(20)\n",
      "                peak_info,cov = opt.curve_fit(exp_func,numpy.arange(-10,10),numpy.array(hist[peak_loc-10:peak_loc+10]))\n",
      "                peak_info[1] = peak_info[1] + peak_loc\n",
      "                peak_info = numpy.insert(peak_info,3,cov[2,2])\n",
      "                peaks.append(peak_info)\n",
      "            except:\n",
      "                print 'Peak fitting failed for peak at ', peak_loc\n",
      "                continue\n",
      "    else:\n",
      "        print 'Error: There were no peaks to fit.'\n",
      "\n",
      "    return numpy.array(peaks)\n",
      "\n",
      "def makeSpect(fname,ftype,k = 250,m = 100,pulseHeight=None,energies = [],numbins=2000):\n",
      "    \n",
      "    '''\n",
      "    Takes a file name for data to be processed.  Processes and produces a spectrum.\n",
      "    '''\n",
      "    \n",
      "    if pulseHeight == None:\n",
      "        f = readFile(fname,ftype)\n",
      "        M = 0\n",
      "        pulseHeight = numpy.zeros(len(f))\n",
      "        numPulses = len(f)\n",
      "        zeropad = numpy.zeros(2*k+m)\n",
      "        print 'Reading ', numPulses, ' traces from ', fname\n",
      "        \n",
      "        #for i in range(500):\n",
      "        #    o = fitExp(subtractBaseline(f[i,:]))\n",
      "        #    M = (M + o)/2\n",
      "        start = time.time()\n",
      "        \n",
      "        i = 0\n",
      "        numRead = 10000\n",
      "        iterations = (numPulses-numPulses%numRead)/numRead + 1\n",
      "        for n in range(iterations):\n",
      "            n1 = n*10000\n",
      "            if n >= iterations-1:\n",
      "                n2 = numPulses\n",
      "            else:\n",
      "                n2 = n1 + 10000\n",
      "            for trace in f[n1:n2,:]:\n",
      "                trace_s = subtractBaseline(trace)\n",
      "                s, pulseHeight[i] = trapezoidalFilter(k,m,4467,numpy.append(zeropad,trace_s))\n",
      "                #t = findRise(trace_s)\n",
      "                #pulseHeight[i] = extractHeight(s,1000,k,m)\n",
      "                i += 1\n",
      "            end = time.time()\n",
      "        print 'Processing ',n2, ' samples (',n1, ' to ', n2, ') took: ', end-start\n",
      "        \n",
      "    #hist,low_range,binsize,extrapoints = stats.histogram(pulseHeight,numbins=max(pulseHeight))\n",
      "    #plt.plot(hist[0])\n",
      "    #plt.show()\n",
      "    #def onclick(event):\n",
      "    #    return event.xdata\n",
      "    #cid = fig.mpl_connect('button_press_event',onclick)\n",
      "    if len(energies) == 0:\n",
      "        usr_in = ''\n",
      "        while usr_in != 'done':\n",
      "            usr_in = raw_input('Please enter energies of the expected peaks.  When finished, enter \\'done\\': ')\n",
      "            try:\n",
      "                energies.append(float(usr_in))\n",
      "            except:\n",
      "                if usr_in != 'done':\n",
      "                    print 'Error: Please enter numbers. When finished, enter \\'done\\''\n",
      "                continue\n",
      "    \n",
      "    hist,low_range,binsize,extrapoints = stats.histogram(pulseHeight,numbins=int(max(energies)+100))\n",
      "    histogram = hist*(hist>1)\n",
      "    histogram = [point for point in histogram if point>0]\n",
      "    hist,low_range,binsize,extrapoints = stats.histogram(pulseHeight,numbins=int(max(energies)+numbins),defaultlimits=(0.,len(histogram)*binsize))\n",
      "    tries = 0\n",
      "    threshold = 10\n",
      "    peak_indices = []\n",
      "    while len(energies) != len(peak_indices):\n",
      "        tries += 1\n",
      "        thresh=threshold+tries*10\n",
      "        peak_indices = findRise(hist,findPeak=True,thresh=thresh)\n",
      "        if tries > 100:\n",
      "            print 'Error: Could not match number of peaks to energies entered.'\n",
      "            break\n",
      "    \n",
      "    peak_info = peakFit(hist,peak_indices)\n",
      "    calib,cov = opt.curve_fit(lambda x,m,b: m*x+b, numpy.array([peak[1] for peak in peak_info])*binsize,numpy.array(energies))\n",
      "    print calib\n",
      "    bins = numpy.array([binsize*x*calib[0]+calib[1] for x in xrange(len(hist))])\n",
      "    plt.plot(bins,hist)\n",
      "    plt.show()\n",
      "    peak_indices = findRise(hist,findPeak=True,thresh=thresh)\n",
      "    peak_info = peakFit(hist,peak_indices)\n",
      "    peak_info[:,1:2] *= binsize*calib[0]\n",
      "    peak_info[:,1:2] += numpy.ones(peak_info[:,1:2].shape)*calib[1]\n",
      "    peak_info[:,3] *= calib[0]\n",
      "    print 'Peak #\\tPeak Info'\n",
      "    print '\\tHeight (counts)\\t\\tCentroid (keV)\\t\\tFWHM (keV)\\t\\tsigma_FWHM (keV)'\n",
      "    for peak_num,peak in enumerate(peak_info):\n",
      "        print peak_num, list(peak)\n",
      "    #plt.plot(hist[0])\n",
      "    #plt.show()\n",
      "    return hist, bins, peak_info, pulseHeight\n",
      "\n",
      "def compareTrapParams():\n",
      "    \n",
      "    '''\n",
      "    Script to test rise and gap times on data and determine optimal parameters.\n",
      "    '''\n",
      "    \n",
      "    rise = 200\n",
      "    gap = 100\n",
      "    steps = range(0,500,20)\n",
      "    peak_array = numpy.ndarray([len(steps),3,4])\n",
      "    \n",
      "    for i,j in enumerate(steps):\n",
      "        hist,bins,peak_info,pulseHeight = makeSpect('../JB_AP_CO_60_AM_241_2000_samples_092413.h5','HDF5',rise+j,gap,energies=[59.5,1173,1332])\n",
      "        peak_array[i,:,:] = peak_info[:,:4]\n",
      "        fname = 'pulseHeight_' + str(rise+j) + '_' + str(gap) + '.txt'\n",
      "        header = 'Peak #\\t\\t{Height} [counts]\\t\\{tCentroid\\t\\tFWHM\\t\\tsigma_FWHM} [keV]'+ '\\n' + str([str(peak_num)+str(peak) for peak_num,peak in enumerate(peak_info)])\n",
      "        print peak_num, peak\n",
      "        numpy.savetxt(fname,pulseHeight,header=header)\n",
      "            \n",
      "    return peak_array"
     ],
     "language": "python",
     "metadata": {},
     "outputs": [],
     "prompt_number": 330
    },
    {
     "cell_type": "code",
     "collapsed": false,
     "input": [
      "hist1,bins,peak_info,pulseHeight = makeSpect('../JB_AP_CO_60_AM_241_2000_samples_092413.h5','HDF5',k=410,m=100,pulseHeight=pulseHeight,energies=[59.5,1173,1332])"
     ],
     "language": "python",
     "metadata": {},
     "outputs": [
      {
       "output_type": "stream",
       "stream": "stdout",
       "text": [
        "[  4.70845417e-04   1.90808113e+00]\n",
        "Peak #\tPeak Info"
       ]
      },
      {
       "output_type": "stream",
       "stream": "stdout",
       "text": [
        "\n",
        "\tHeight (counts)\t\tCentroid (keV)\t\tFWHM (keV)\t\tsigma_FWHM (keV)\n",
        "0 [1842.3418037145441, 59.473854330259122, -2.2337587459451549, 5.8104133669982833e-06, -11.334705963263255, 295.8485488709743]\n",
        "1 [3030.7185740165851, 1173.2097405442198, -2.8185011303879048, 2.1256511786691831e-06, -7.3873559242847442, 104.06482700655701]\n",
        "2 [2571.9343362008599, 1331.816405125533, -2.9439797034322766, 2.6611896750341815e-06, -6.8624894031242913, 64.973497907513163]\n"
       ]
      }
     ],
     "prompt_number": 295
    },
    {
     "cell_type": "code",
     "collapsed": false,
     "input": [
      "def lin_func(x,m,b):\n",
      "    return m*x+b\n",
      "lin, cov = opt.curve_fit(lin_func,peak_info[:,1],numpy.abs(peak_info[:,2])**2,sigma=peak_info[:,3]*numpy.abs(peak_info[:,2])*4)\n",
      "plt.errorbar(peak_info[:,1],numpy.abs(peak_info[:,2])**2,yerr=peak_info[:,3]**2)\n",
      "x = numpy.linspace(0,1400,2000)\n",
      "y = lin_func(x,lin[0],lin[1])\n",
      "plt.plot(x,y,color='black')\n",
      "print lin[0]/2.97e-3/2.35**2,cov[0,0]/2.95e-3/2.35**2\n",
      "print numpy.sqrt(lin[1]),numpy.sqrt(cov[1,1])"
     ],
     "language": "python",
     "metadata": {},
     "outputs": [
      {
       "output_type": "stream",
       "stream": "stdout",
       "text": [
        "0.171360522875 6.74717363207e-06\n",
        "2.18118065142 0.384210397283\n"
       ]
      }
     ],
     "prompt_number": 315
    },
    {
     "cell_type": "code",
     "collapsed": false,
     "input": [
      "plt.plot(hist1)\n",
      "plt.show()"
     ],
     "language": "python",
     "metadata": {},
     "outputs": [],
     "prompt_number": 289
    },
    {
     "cell_type": "code",
     "collapsed": false,
     "input": [
      "hist,low_range,binsize,extrapoints = stats.histogram(pulseHeight,numbins=int(1332+100))\n",
      "histogram = hist*(hist>1)\n",
      "histogram = [point for point in histogram if point>0]\n",
      "hist,low_range,binsize,extrapoints = stats.histogram(pulseHeight,numbins=int(1332+100),defaultlimits=(0.,len(histogram)*binsize))\n",
      "plt.plot(hist)\n",
      "plt.show()"
     ],
     "language": "python",
     "metadata": {},
     "outputs": [],
     "prompt_number": 155
    },
    {
     "cell_type": "code",
     "collapsed": false,
     "input": [
      "calib,cov = opt.curve_fit(lambda x,m: m*x, numpy.array([peak[1] for peak in peak_info])*1000,numpy.array([59.5,1173,1332]))\n",
      "print calib"
     ],
     "language": "python",
     "metadata": {},
     "outputs": [
      {
       "output_type": "stream",
       "stream": "stdout",
       "text": [
        "[ 0.00205466]\n"
       ]
      }
     ],
     "prompt_number": 170
    },
    {
     "cell_type": "code",
     "collapsed": false,
     "input": [
      "abs((.11-.1725)/.11)"
     ],
     "language": "python",
     "metadata": {},
     "outputs": [
      {
       "metadata": {},
       "output_type": "pyout",
       "prompt_number": 311,
       "text": [
        "0.568181818181818"
       ]
      }
     ],
     "prompt_number": 311
    },
    {
     "cell_type": "code",
     "collapsed": false,
     "input": [
      "%matplotlib osx\n",
      "\n",
      "import time\n",
      "import numpy\n",
      "import matplotlib.pyplot as plt\n",
      "\n",
      "k=410\n",
      "m=70\n",
      "\n",
      "trap = numpy.ndarray((numpy.shape(f[:190,:])[0],numpy.shape(f[:190,:])[1]+(2*k+m)))\n",
      "\n",
      "zeropad = numpy.zeros(2*k+m)\n",
      "s = numpy.ones(len(f[0,:]))\n",
      "mxmum = numpy.zeros(100)\n",
      "\n",
      "t_s2 = time.time()\n",
      "for i,j in enumerate(range(10,200,10)):\n",
      "    s = subtractBaseline(f[10,:])\n",
      "    trap[i,:],garbage = trapezoidalFilter(k,j,4467,numpy.append(zeropad,s))\n",
      "    t = 1000 #findRise(f[j,:])\n",
      "    mxmum[i] = extractHeight(trap[i,:],t,k,m)\n",
      "    plt.plot(numpy.linspace(0,len(trap[i,:])/100,len(trap[i,:])),trap[i,:])\n",
      "    #plt.plot(t+numpy.floor((m+k)/2),mxmum[i],'*')\n",
      "\n",
      "plt.xlabel('Time (us)')\n",
      "plt.ylabel('Arbitrary Units')\n",
      "t_x2 = time.time()\n",
      "print t_x2-t_s2\n",
      "print mxmum\n",
      "plt.show()\n",
      "\n",
      "#xlim([900,1500])\n",
      "#ylim([-20000,70000])"
     ],
     "language": "python",
     "metadata": {},
     "outputs": [
      {
       "output_type": "stream",
       "stream": "stdout",
       "text": [
        "0.517920970917\n",
        "[  748.56341463   748.56341463   748.56341463   748.56341463   748.56341463\n",
        "   748.56341463   748.56341463   455.15121951   689.53658537   771.54390244\n",
        "   864.77804878   946.18780488  1050.83170732  1039.12682927   958.1195122\n",
        "   808.0195122    900.09756098   796.66341463   819.64390244     0.             0.\n",
        "     0.             0.             0.             0.             0.             0.\n",
        "     0.             0.             0.             0.             0.             0.\n",
        "     0.             0.             0.             0.             0.             0.\n",
        "     0.             0.             0.             0.             0.             0.\n",
        "     0.             0.             0.             0.             0.             0.\n",
        "     0.             0.             0.             0.             0.             0.\n",
        "     0.             0.             0.             0.             0.             0.\n",
        "     0.             0.             0.             0.             0.             0.\n",
        "     0.             0.             0.             0.             0.             0.\n",
        "     0.             0.             0.             0.             0.             0.\n",
        "     0.             0.             0.             0.             0.             0.\n",
        "     0.             0.             0.             0.             0.             0.\n",
        "     0.             0.             0.             0.             0.             0.\n",
        "     0.        ]\n"
       ]
      }
     ],
     "prompt_number": 251
    },
    {
     "cell_type": "code",
     "collapsed": false,
     "input": [
      "plt.plot(numpy.linspace(0,len(trap[10,:])/100,len(trap[10,:])),trap[10,:])\n",
      "plt.xlabel('Time (us)')\n",
      "plt.ylabel('Arbitrary Units')"
     ],
     "language": "python",
     "metadata": {},
     "outputs": [
      {
       "metadata": {},
       "output_type": "pyout",
       "prompt_number": 253,
       "text": [
        "<matplotlib.text.Text at 0x11fd2d1d0>"
       ]
      }
     ],
     "prompt_number": 253
    },
    {
     "cell_type": "code",
     "collapsed": false,
     "input": [
      "k=100\n",
      "m=100\n",
      "zeropad = numpy.zeros(2*k+m)\n",
      "\n",
      "trace = numpy.zeros(2000)\n",
      "trace[len(trace)/2]=1.\n",
      "trap = trapezoidalFilter(k,m,0,numpy.append(zeropad,numpy.append(trace,zeropad)))\n",
      "plt.plot(trap[0])\n",
      "plt.plot(trace)\n",
      "plt.show()"
     ],
     "language": "python",
     "metadata": {},
     "outputs": [],
     "prompt_number": 18
    },
    {
     "cell_type": "code",
     "collapsed": false,
     "input": [
      "import numpy\n",
      "import matplotlib.pyplot as plt"
     ],
     "language": "python",
     "metadata": {},
     "outputs": [],
     "prompt_number": 2
    },
    {
     "cell_type": "code",
     "collapsed": false,
     "input": [
      "len(hist1[0])\n",
      "plt.plot(pulseHeights[:10100])"
     ],
     "language": "python",
     "metadata": {},
     "outputs": [
      {
       "metadata": {},
       "output_type": "pyout",
       "prompt_number": 9,
       "text": [
        "[<matplotlib.lines.Line2D at 0x10b0a80d0>]"
       ]
      }
     ],
     "prompt_number": 9
    },
    {
     "cell_type": "code",
     "collapsed": false,
     "input": [
      "plt.show()"
     ],
     "language": "python",
     "metadata": {},
     "outputs": [],
     "prompt_number": 10
    },
    {
     "cell_type": "code",
     "collapsed": false,
     "input": [
      "D = numpy.zeros(len(hist1))\n",
      "for j in range(len(hist1)-1):\n",
      "    D[j] = hist1[j+1]-hist1[j]\n",
      "D2 = numpy.zeros(len(hist1))\n",
      "for j in range(len(D)-1):\n",
      "    D2[j] = D[j+1]-D[j]"
     ],
     "language": "python",
     "metadata": {},
     "outputs": [],
     "prompt_number": 32
    },
    {
     "cell_type": "code",
     "collapsed": false,
     "input": [
      "import numpy\n",
      "start = time.time()\n",
      "peaks = [sample>200 or sample<-200 for sample in D]\n",
      "print [numpy.nonzero(peaks)]\n",
      "end = time.time()\n",
      "print end-start"
     ],
     "language": "python",
     "metadata": {},
     "outputs": [
      {
       "output_type": "stream",
       "stream": "stdout",
       "text": [
        "[(array([   0,   77,   78,   80,   81, 1538, 1539, 1540, 1542, 1543, 1544,\n",
        "       1746, 1747, 1748, 1750, 1751, 1752]),)]\n",
        "0.0144500732422\n"
       ]
      }
     ],
     "prompt_number": 33
    },
    {
     "cell_type": "code",
     "collapsed": false,
     "input": [
      "plt.plot(D2)\n",
      "plt.show()"
     ],
     "language": "python",
     "metadata": {},
     "outputs": [],
     "prompt_number": 34
    },
    {
     "cell_type": "code",
     "collapsed": false,
     "input": [
      "f = readFile('../JB_AP_CO_60_2000_samples_092413.h5','HDF5')"
     ],
     "language": "python",
     "metadata": {},
     "outputs": [],
     "prompt_number": 238
    },
    {
     "cell_type": "code",
     "collapsed": false,
     "input": [
      "for trace in f[4:5]:\n",
      "    plt.plot(trace)\n",
      "    \n",
      "plt.show()"
     ],
     "language": "python",
     "metadata": {},
     "outputs": [],
     "prompt_number": 17
    },
    {
     "cell_type": "code",
     "collapsed": false,
     "input": [
      "from peakdetect import *"
     ],
     "language": "python",
     "metadata": {},
     "outputs": [],
     "prompt_number": 6
    },
    {
     "cell_type": "code",
     "collapsed": false,
     "input": [
      "import scipy"
     ],
     "language": "python",
     "metadata": {},
     "outputs": [],
     "prompt_number": 13
    },
    {
     "cell_type": "code",
     "collapsed": false,
     "input": [
      "print hist1[0][451-10:451+10]"
     ],
     "language": "python",
     "metadata": {},
     "outputs": [
      {
       "output_type": "stream",
       "stream": "stdout",
       "text": [
        "[  30   21   17   18   27   20   19   24   65 1159 4055 4081 1187   88    6\n",
        "    1    3    6    5    2]\n"
       ]
      }
     ],
     "prompt_number": 50
    },
    {
     "cell_type": "code",
     "collapsed": false,
     "input": [
      "def func(x,a,b,c):\n",
      "    return a*numpy.exp((-2.35*(b-x)**2)/c)\n",
      "peak_info = scipy.optimize.curve_fit(func,numpy.arange(-20,20),hist1[0][452-20:452+20])"
     ],
     "language": "python",
     "metadata": {},
     "outputs": [],
     "prompt_number": 62
    },
    {
     "cell_type": "code",
     "collapsed": false,
     "input": [
      "for peak_num,peak in enumerate(peak_info):\n",
      "    print peak_num, peak"
     ],
     "language": "python",
     "metadata": {},
     "outputs": [
      {
       "output_type": "stream",
       "stream": "stdout",
       "text": [
        "0 [  332.47856531    66.77605961  2803.46788399]\n",
        "1 [  286.23333479   186.82827361  4520.6978393 ]\n",
        "2 [ 2162.00212383   995.55643332    24.63186606]\n",
        "3 [ 1977.55646051  1130.36049881    22.07279814]\n"
       ]
      }
     ],
     "prompt_number": 100
    },
    {
     "cell_type": "code",
     "collapsed": false,
     "input": [
      "peak_info[0][2]/peak_info[0][1]"
     ],
     "language": "python",
     "metadata": {},
     "outputs": [
      {
       "metadata": {},
       "output_type": "pyout",
       "prompt_number": 70,
       "text": [
        "0.010193637409060836"
       ]
      }
     ],
     "prompt_number": 70
    },
    {
     "cell_type": "code",
     "collapsed": false,
     "input": [
      "397*5e7"
     ],
     "language": "python",
     "metadata": {},
     "outputs": [
      {
       "metadata": {},
       "output_type": "pyout",
       "prompt_number": 71,
       "text": [
        "19850000000.0"
       ]
      }
     ],
     "prompt_number": 71
    },
    {
     "cell_type": "code",
     "collapsed": false,
     "input": [
      "peaks = findRise(hist1[0],findPeak=True)"
     ],
     "language": "python",
     "metadata": {},
     "outputs": [
      {
       "output_type": "stream",
       "stream": "stdout",
       "text": [
        "[396, 450]\n"
       ]
      }
     ],
     "prompt_number": 83
    },
    {
     "cell_type": "code",
     "collapsed": false,
     "input": [
      "range(0,50,10)"
     ],
     "language": "python",
     "metadata": {},
     "outputs": [
      {
       "metadata": {},
       "output_type": "pyout",
       "prompt_number": 114,
       "text": [
        "[0, 10, 20, 30, 40]"
       ]
      }
     ],
     "prompt_number": 114
    },
    {
     "cell_type": "code",
     "collapsed": false,
     "input": [
      "peaks = compareTrapParams()"
     ],
     "language": "python",
     "metadata": {},
     "outputs": [
      {
       "output_type": "stream",
       "stream": "stdout",
       "text": [
        "Reading  185186  traces from  ../JB_AP_CO_60_AM_241_2000_samples_092413.h5\n"
       ]
      }
     ],
     "prompt_number": "*"
    },
    {
     "cell_type": "code",
     "collapsed": false,
     "input": [
      "import matplotlib\n",
      "ax = plt.gca()\n",
      "plt.Axes.set_xlabel(ax,'Energy (keV)')\n",
      "plt.Axes.set_ylabel(ax,'Counts')\n",
      "plt.Axes.set_title(ax,'Co-60 and Am-241 Energy Spectrum')"
     ],
     "language": "python",
     "metadata": {},
     "outputs": [
      {
       "metadata": {},
       "output_type": "pyout",
       "prompt_number": 171,
       "text": [
        "<matplotlib.text.Text at 0x1114ac6d0>"
       ]
      }
     ],
     "prompt_number": 171
    },
    {
     "cell_type": "code",
     "collapsed": false,
     "input": [
      "def func(x,a,b,c):\n",
      "    return a + b/x + c*x\n",
      "f,ax = plt.subplots(nrows=3,ncols=1,sharex=True,sharey=True)\n",
      "#curve0,cov0 = opt.curve_fit(func,numpy.arange(.6,2.1,.1),peaks_gap[:,0,2]**2,sigma=abs(peaks_gap[:,0,3])**2)\n",
      "#curve1,cov1 = opt.curve_fit(func,numpy.arange(.6,2.1,.1),peaks_gap[:,1,2]**2,sigma=abs(peaks_gap[:,1,3])**2)\n",
      "#curve2,cov2 = opt.curve_fit(func,numpy.arange(.6,2.1,.1),peaks_gap[:,2,2]**2,sigma=abs(peaks_gap[:,2,3])**2)\n",
      "ax[0].errorbar(numpy.arange(.1,2.1,.1),peaks_gap[:,0,2]**2,yerr=abs(peaks_gap[:,0,3])**2,color='black')\n",
      "ax[1].errorbar(numpy.arange(.1,2.1,.1),peaks_gap[:,1,2]**2,yerr=abs(peaks_gap[:,1,3])**2,color='black')\n",
      "ax[2].errorbar(numpy.arange(.1,2.1,.1),peaks_gap[:,2,2]**2,yerr=abs(peaks_gap[:,2,3])**2,color='black')\n",
      "#x = numpy.linspace(3,5.2,100)\n",
      "#y0 = func(x,curve0[0],curve0[1],curve0[2])\n",
      "#y1 = func(x,curve1[0],curve1[1],curve1[2])\n",
      "#y2 = func(x,curve2[0],curve2[1],curve2[2])\n",
      "#ax[0].plot(x,y0,'k')\n",
      "#ax[1].plot(x,y1,'k')\n",
      "#ax[2].plot(x,y2,'k')\n",
      "#x1 = numpy.linspace(2.8,5.3,100)\n",
      "#ax[0].plot(x1,curve0[0]*numpy.ones(len(x)),'k--')\n",
      "#ax[0].plot(x1,curve0[1]/x1,'k--')\n",
      "#ax[0].plot(x1,curve0[2]*x1,'k--')\n",
      "#ax[1].plot(x1,curve1[0]*numpy.ones(len(x)),'k--')\n",
      "#ax[1].plot(x1,curve1[1]/x1,'k--')\n",
      "#ax[1].plot(x1,curve1[2]*x1,'k--')\n",
      "#ax[2].plot(x1,curve2[0]*numpy.ones(len(x)),'k--')\n",
      "#ax[2].plot(x1,curve2[1]/x1,'k--')\n",
      "#ax[2].plot(x1,curve2[2]*x1,'k--')\n",
      "ax[0].set_title('Am-241: 59.5 keV Peak')\n",
      "ax[1].set_title('Co-60: 1173 keV Peak')\n",
      "ax[2].set_title('Co-60: 1332 keV Peak')\n",
      "ax[2].set_xlabel('Gap Time (us)')\n",
      "ax[1].set_ylabel('FWHM^2 (keV^2)')\n",
      "plt.show()\n",
      "#plt.xlim([2.8,5.3])\n",
      "plt.ylim([5,50])"
     ],
     "language": "python",
     "metadata": {},
     "outputs": [
      {
       "metadata": {},
       "output_type": "pyout",
       "prompt_number": 327,
       "text": [
        "(5, 50)"
       ]
      }
     ],
     "prompt_number": 327
    },
    {
     "cell_type": "code",
     "collapsed": false,
     "input": [
      "header = 'Fitting to \\'a + b/x + c\\':\\nAm-241 59.5 Fit Parameters:\\n' + str(curve0) + '\\nCovariance Matrix:\\n' + str(cov0)\n",
      "header += '\\nCo-60 1172 Fit Parameters:\\n' + str(curve1) + '\\nCovariance Matrix:\\n' + str(cov1)\n",
      "header += '\\nCo-60 1332 Fit Parameters:\\n' + str(curve2) + '\\nCovariance Matrix:\\n' + str(cov2)\n",
      "numpy.save('peakInfo_peakingTime_300_510_by10.txt',peaks)"
     ],
     "language": "python",
     "metadata": {},
     "outputs": [],
     "prompt_number": 232
    },
    {
     "cell_type": "code",
     "collapsed": false,
     "input": [
      "peaks"
     ],
     "language": "python",
     "metadata": {},
     "outputs": [
      {
       "metadata": {},
       "output_type": "pyout",
       "prompt_number": 231,
       "text": [
        "array([[[  1.43567592e+03,   5.76675012e+01,   2.89456204e+00,\n",
        "           2.76307404e-01],\n",
        "        [  2.37201262e+03,   1.17312612e+03,   2.65517632e+00,\n",
        "           2.94220235e-02],\n",
        "        [  2.00146089e+03,   1.33196826e+03,  -2.75493080e+00,\n",
        "           2.63139510e-02]],\n",
        "\n",
        "       [[  1.44671559e+03,   5.76747818e+01,   2.86213633e+00,\n",
        "           2.70064894e-01],\n",
        "        [  2.39175898e+03,   1.17312941e+03,   2.61474700e+00,\n",
        "           2.81934194e-02],\n",
        "        [  2.01338311e+03,   1.33196505e+03,  -2.72235946e+00,\n",
        "           2.36574646e-02]],\n",
        "\n",
        "       [[  1.45965757e+03,   5.76583870e+01,   2.81560378e+00,\n",
        "           2.59001158e-01],\n",
        "        [  2.40146622e+03,   1.17312860e+03,   2.60337642e+00,\n",
        "           2.43251215e-02],\n",
        "        [  2.03196517e+03,   1.33196646e+03,   2.67721721e+00,\n",
        "           2.16285569e-02]],\n",
        "\n",
        "       [[  1.48748829e+03,   5.76636871e+01,   2.73237545e+00,\n",
        "           2.45387677e-01],\n",
        "        [  2.42300422e+03,   1.17312988e+03,   2.56879068e+00,\n",
        "           2.28975259e-02],\n",
        "        [  2.06364583e+03,   1.33196511e+03,   2.61795699e+00,\n",
        "           2.04807585e-02]],\n",
        "\n",
        "       [[  1.50572402e+03,   5.76458344e+01,   2.68424111e+00,\n",
        "           2.30653012e-01],\n",
        "        [  2.43863925e+03,   1.17313274e+03,   2.54083824e+00,\n",
        "           2.23345864e-02],\n",
        "        [  2.06969737e+03,   1.33196333e+03,   2.60560342e+00,\n",
        "           1.97970702e-02]],\n",
        "\n",
        "       [[  1.50613892e+03,   5.76346258e+01,   2.68618510e+00,\n",
        "           2.25639603e-01],\n",
        "        [  2.43848102e+03,   1.17313108e+03,   2.53915439e+00,\n",
        "           2.18541978e-02],\n",
        "        [  2.05251665e+03,   1.33196526e+03,   2.62874907e+00,\n",
        "           1.90435765e-02]],\n",
        "\n",
        "       [[  1.55958403e+03,   5.76325839e+01,   2.69896734e+00,\n",
        "           2.09761815e-01],\n",
        "        [  2.51937594e+03,   1.17312632e+03,   2.55639445e+00,\n",
        "           2.68558136e-02],\n",
        "        [  2.16063948e+03,   1.33196955e+03,   2.57470345e+00,\n",
        "           2.02283995e-02]],\n",
        "\n",
        "       [[  1.50484923e+03,   5.76352827e+01,   2.68222679e+00,\n",
        "           2.22011626e-01],\n",
        "        [  2.43151425e+03,   1.17312318e+03,   2.54867927e+00,\n",
        "           2.49896824e-02],\n",
        "        [  2.06614516e+03,   1.33197220e+03,   2.60412593e+00,\n",
        "           2.16177854e-02]],\n",
        "\n",
        "       [[  1.57120417e+03,   5.76161527e+01,   2.65558709e+00,\n",
        "           2.10429682e-01],\n",
        "        [  2.51467780e+03,   1.17312083e+03,   2.55042288e+00,\n",
        "           2.26746043e-02],\n",
        "        [  2.14360393e+03,   1.33197507e+03,  -2.59425863e+00,\n",
        "           1.91428101e-02]],\n",
        "\n",
        "       [[  1.58166807e+03,   5.76115536e+01,   2.62918766e+00,\n",
        "           2.06379846e-01],\n",
        "        [  2.52211132e+03,   1.17312429e+03,   2.53331770e+00,\n",
        "           2.21119852e-02],\n",
        "        [  2.14320216e+03,   1.33197221e+03,   2.59132228e+00,\n",
        "           1.72005354e-02]],\n",
        "\n",
        "       [[  1.62571388e+03,   5.75958217e+01,   2.67177738e+00,\n",
        "           2.01437277e-01],\n",
        "        [  2.61494355e+03,   1.17312269e+03,   2.52955984e+00,\n",
        "           2.06554426e-02],\n",
        "        [  2.22558376e+03,   1.33197428e+03,   2.58569564e+00,\n",
        "           1.83732709e-02]],\n",
        "\n",
        "       [[  1.65175561e+03,   5.75925824e+01,   2.61045046e+00,\n",
        "           1.93877306e-01],\n",
        "        [  2.62741712e+03,   1.17312124e+03,   2.51033611e+00,\n",
        "           2.01941790e-02],\n",
        "        [  2.21500862e+03,   1.33197569e+03,  -2.59060171e+00,\n",
        "           1.90647175e-02]],\n",
        "\n",
        "       [[  1.67695250e+03,   5.75822876e+01,   2.53637613e+00,\n",
        "           2.16684976e-01],\n",
        "        [  2.63171000e+03,   1.17312607e+03,   2.50218098e+00,\n",
        "           2.00125656e-02],\n",
        "        [  2.22241299e+03,   1.33197187e+03,  -2.58181161e+00,\n",
        "           1.65299714e-02]],\n",
        "\n",
        "       [[  1.65568265e+03,   5.75690880e+01,   2.58877652e+00,\n",
        "           2.26033293e-01],\n",
        "        [  2.62490300e+03,   1.17313210e+03,   2.50487760e+00,\n",
        "           2.03918087e-02],\n",
        "        [  2.21959160e+03,   1.33196711e+03,   2.58528398e+00,\n",
        "           1.87281594e-02]],\n",
        "\n",
        "       [[  1.65236909e+03,   5.75594908e+01,   2.59063686e+00,\n",
        "           2.26844057e-01],\n",
        "        [  2.60721755e+03,   1.17313449e+03,   2.52484007e+00,\n",
        "           2.58930076e-02],\n",
        "        [  2.23788610e+03,   1.33196541e+03,   2.55000870e+00,\n",
        "           1.80441660e-02]],\n",
        "\n",
        "       [[  1.63348150e+03,   5.75461027e+01,   2.63465014e+00,\n",
        "           2.34223607e-01],\n",
        "        [  2.58951503e+03,   1.17313115e+03,   2.54090178e+00,\n",
        "           2.46903275e-02],\n",
        "        [  2.22103800e+03,   1.33196891e+03,  -2.56689258e+00,\n",
        "           1.78989973e-02]],\n",
        "\n",
        "       [[  1.63081061e+03,   5.75373961e+01,   2.64157844e+00,\n",
        "           2.28448974e-01],\n",
        "        [  2.60263720e+03,   1.17313087e+03,   2.51873287e+00,\n",
        "           2.42764056e-02],\n",
        "        [  2.22213474e+03,   1.33196951e+03,   2.55708643e+00,\n",
        "           1.83558545e-02]],\n",
        "\n",
        "       [[  1.62441638e+03,   5.75387501e+01,  -2.65816864e+00,\n",
        "           2.33063673e-01],\n",
        "        [  2.59471777e+03,   1.17313128e+03,   2.52577169e+00,\n",
        "           2.24316646e-02],\n",
        "        [  2.20268043e+03,   1.33196910e+03,  -2.58086513e+00,\n",
        "           1.71143227e-02]],\n",
        "\n",
        "       [[  1.62122204e+03,   5.75349391e+01,   2.65430047e+00,\n",
        "           2.34221327e-01],\n",
        "        [  2.58220430e+03,   1.17313247e+03,   2.53280799e+00,\n",
        "           2.24492208e-02],\n",
        "        [  2.19819964e+03,   1.33196821e+03,   2.58299697e+00,\n",
        "           1.69346793e-02]],\n",
        "\n",
        "       [[  1.59188328e+03,   5.75167227e+01,   2.73200436e+00,\n",
        "           2.41648025e-01],\n",
        "        [  2.56882687e+03,   1.17313494e+03,  -2.54727264e+00,\n",
        "           2.08910067e-02],\n",
        "        [  2.17640697e+03,   1.33196679e+03,  -2.61218719e+00,\n",
        "           1.57713450e-02]],\n",
        "\n",
        "       [[  1.48340832e+03,   5.75270678e+01,   2.71779477e+00,\n",
        "           2.13327514e-01],\n",
        "        [  2.37198279e+03,   1.17313837e+03,   2.56515044e+00,\n",
        "           2.12708760e-02],\n",
        "        [  2.03011208e+03,   1.33196334e+03,   2.59569371e+00,\n",
        "           1.57446429e-02]],\n",
        "\n",
        "       [[  1.47812261e+03,   5.75244005e+01,   2.72859184e+00,\n",
        "           2.12141175e-01],\n",
        "        [  2.37015369e+03,   1.17313899e+03,   2.56145013e+00,\n",
        "           2.05990052e-02],\n",
        "        [  2.02110006e+03,   1.33196290e+03,   2.61486592e+00,\n",
        "           2.09808983e-02]]])"
       ]
      }
     ],
     "prompt_number": 231
    },
    {
     "cell_type": "code",
     "collapsed": false,
     "input": [
      "import matplotlib.pyplot as plt\n",
      "i=100\n",
      "findRise(f[i])\n",
      "plt.plot(f[i])\n",
      "plt.show()"
     ],
     "language": "python",
     "metadata": {},
     "outputs": [],
     "prompt_number": 9
    },
    {
     "cell_type": "code",
     "collapsed": false,
     "input": [
      "hist1"
     ],
     "language": "python",
     "metadata": {},
     "outputs": [
      {
       "ename": "NameError",
       "evalue": "name 'hist1' is not defined",
       "output_type": "pyerr",
       "traceback": [
        "\u001b[0;31m---------------------------------------------------------------------------\u001b[0m\n\u001b[0;31mNameError\u001b[0m                                 Traceback (most recent call last)",
        "\u001b[0;32m<ipython-input-10-3f184129643e>\u001b[0m in \u001b[0;36m<module>\u001b[0;34m()\u001b[0m\n\u001b[0;32m----> 1\u001b[0;31m \u001b[0mhist1\u001b[0m\u001b[0;34m\u001b[0m\u001b[0m\n\u001b[0m",
        "\u001b[0;31mNameError\u001b[0m: name 'hist1' is not defined"
       ]
      }
     ],
     "prompt_number": 10
    },
    {
     "cell_type": "code",
     "collapsed": false,
     "input": [
      "x = numpy.array([1,2,3,4,5])"
     ],
     "language": "python",
     "metadata": {},
     "outputs": [],
     "prompt_number": 13
    },
    {
     "cell_type": "code",
     "collapsed": false,
     "input": [
      "x[len(x)+1] = 6"
     ],
     "language": "python",
     "metadata": {},
     "outputs": [
      {
       "ename": "IndexError",
       "evalue": "index 6 is out of bounds for axis 0 with size 5",
       "output_type": "pyerr",
       "traceback": [
        "\u001b[0;31m---------------------------------------------------------------------------\u001b[0m\n\u001b[0;31mIndexError\u001b[0m                                Traceback (most recent call last)",
        "\u001b[0;32m<ipython-input-14-73b2768f8c36>\u001b[0m in \u001b[0;36m<module>\u001b[0;34m()\u001b[0m\n\u001b[0;32m----> 1\u001b[0;31m \u001b[0mx\u001b[0m\u001b[0;34m[\u001b[0m\u001b[0mlen\u001b[0m\u001b[0;34m(\u001b[0m\u001b[0mx\u001b[0m\u001b[0;34m)\u001b[0m\u001b[0;34m+\u001b[0m\u001b[0;36m1\u001b[0m\u001b[0;34m]\u001b[0m \u001b[0;34m=\u001b[0m \u001b[0;36m6\u001b[0m\u001b[0;34m\u001b[0m\u001b[0m\n\u001b[0m",
        "\u001b[0;31mIndexError\u001b[0m: index 6 is out of bounds for axis 0 with size 5"
       ]
      }
     ],
     "prompt_number": 14
    },
    {
     "cell_type": "code",
     "collapsed": false,
     "input": [
      "M = 0\n",
      "pulseHeight = numpy.zeros(len(f))\n",
      "numPulses = len(f)\n",
      "k=250\n",
      "m=100\n",
      "\n",
      "'''\n",
      "for i in range(100):\n",
      "    o = fitExp(f[i,:])\n",
      "    M = (M + o)/2\n",
      "'''\n",
      "start = time.time()\n",
      "\n",
      "i = 0\n",
      "numRead = 10000\n",
      "iterations = (numPulses-numPulses%numRead)/numRead + 1\n",
      "for n in range(iterations):\n",
      "    n1 = n*10000\n",
      "    if n == iterations-1:\n",
      "        n2 = numPulses\n",
      "    else:\n",
      "        n2 = n1 + 10000\n",
      "    for trace in f[n1:n2,:]:\n",
      "        trace_s = subtractBaseline(trace)\n",
      "        s, pulseHeight[i] = trapezoidalFilter(k,m,4467,trace_s)\n",
      "        i += 1\n",
      "    end = time.time()\n",
      "    print 'Processing ',n2, ' samples (',n1, ' to ', n2, ') took: ', end-start\n",
      "    \n",
      "xdata = numpy.linspace(0,10,800)\n",
      "hist = numpy.histogram(pulseHeight/5e7,xdata)"
     ],
     "language": "python",
     "metadata": {},
     "outputs": [
      {
       "output_type": "stream",
       "stream": "stdout",
       "text": [
        "Processing  10000  samples ( 0  to  10000 ) took:  5.57373690605\n",
        "Processing "
       ]
      },
      {
       "output_type": "stream",
       "stream": "stdout",
       "text": [
        " 20000  samples ( 10000  to  20000 ) took:  10.3856520653\n",
        "Processing "
       ]
      },
      {
       "output_type": "stream",
       "stream": "stdout",
       "text": [
        " 30000  samples ( 20000  to  30000 ) took:  15.0487689972\n",
        "Processing "
       ]
      },
      {
       "output_type": "stream",
       "stream": "stdout",
       "text": [
        " 40000  samples ( 30000  to  40000 ) took:  20.1423630714\n",
        "Processing "
       ]
      },
      {
       "output_type": "stream",
       "stream": "stdout",
       "text": [
        " 50000  samples ( 40000  to  50000 ) took:  25.2419679165\n",
        "Processing "
       ]
      },
      {
       "output_type": "stream",
       "stream": "stdout",
       "text": [
        " 60000  samples ( 50000  to  60000 ) took:  30.7795710564\n",
        "Processing "
       ]
      },
      {
       "output_type": "stream",
       "stream": "stdout",
       "text": [
        " 70000  samples ( 60000  to  70000 ) took:  35.8847670555\n",
        "Processing "
       ]
      },
      {
       "output_type": "stream",
       "stream": "stdout",
       "text": [
        " 80000  samples ( 70000  to  80000 ) took:  40.745839119\n",
        "Processing "
       ]
      },
      {
       "output_type": "stream",
       "stream": "stdout",
       "text": [
        " 90000  samples ( 80000  to  90000 ) took:  45.8717389107\n",
        "Processing "
       ]
      },
      {
       "output_type": "stream",
       "stream": "stdout",
       "text": [
        " 100000  samples ( 90000  to  100000 ) took:  50.8521430492\n",
        "Processing "
       ]
      },
      {
       "output_type": "stream",
       "stream": "stdout",
       "text": [
        " 110000  samples ( 100000  to  110000 ) took:  55.9459140301\n",
        "Processing "
       ]
      },
      {
       "output_type": "stream",
       "stream": "stdout",
       "text": [
        " 120000  samples ( 110000  to  120000 ) took:  60.7334871292\n",
        "Processing "
       ]
      },
      {
       "output_type": "stream",
       "stream": "stdout",
       "text": [
        " 130000  samples ( 120000  to  130000 ) took:  65.5206029415\n",
        "Processing "
       ]
      },
      {
       "output_type": "stream",
       "stream": "stdout",
       "text": [
        " 140000  samples ( 130000  to  140000 ) took:  70.1864190102\n",
        "Processing "
       ]
      },
      {
       "output_type": "stream",
       "stream": "stdout",
       "text": [
        " 150000  samples ( 140000  to  150000 ) took:  74.8416810036\n",
        "Processing "
       ]
      },
      {
       "output_type": "stream",
       "stream": "stdout",
       "text": [
        " 160000  samples ( 150000  to  160000 ) took:  79.7130789757\n",
        "Processing "
       ]
      },
      {
       "output_type": "stream",
       "stream": "stdout",
       "text": [
        " 170000  samples ( 160000  to  170000 ) took:  84.8731510639\n",
        "Processing "
       ]
      },
      {
       "output_type": "stream",
       "stream": "stdout",
       "text": [
        " 178296  samples ( 170000  to  178296 ) took:  88.9406180382\n"
       ]
      }
     ],
     "prompt_number": 4
    },
    {
     "cell_type": "code",
     "collapsed": false,
     "input": [
      "import scipy.stats as stats\n",
      "hist = stats.histogram(pulseHeight/5e7,numbins=2000,defaultlimits=(0.,max(pulseHeight/5e7)/6))"
     ],
     "language": "python",
     "metadata": {},
     "outputs": [],
     "prompt_number": 32
    },
    {
     "cell_type": "code",
     "collapsed": false,
     "input": [
      "import matplotlib.pyplot as plt\n",
      "plt.plot(hist[0])\n",
      "plt.show()"
     ],
     "language": "python",
     "metadata": {},
     "outputs": [],
     "prompt_number": 33
    },
    {
     "cell_type": "code",
     "collapsed": false,
     "input": [
      "print hist[0][-7]"
     ],
     "language": "python",
     "metadata": {},
     "outputs": [
      {
       "output_type": "stream",
       "stream": "stdout",
       "text": [
        "4.0\n"
       ]
      }
     ],
     "prompt_number": 24
    },
    {
     "cell_type": "code",
     "collapsed": false,
     "input": [
      "Dv = numpy.zeros(len(hist1[0]))\n",
      "Dv2 = numpy.zeros(len(hist1[0]))\n",
      "peak_locs = []\n",
      "\n",
      "for j in range(len(hist1[0])-1):\n",
      "    Dv[j] = hist1[0][j+1]-hist1[0][j]\n",
      "    \n",
      "for j in range(len(hist1[0])-1):\n",
      "    Dv2[j] = Dv[j+1]-Dv[j]"
     ],
     "language": "python",
     "metadata": {},
     "outputs": [],
     "prompt_number": 81
    },
    {
     "cell_type": "code",
     "collapsed": false,
     "input": [
      "plt.plot(Dv)\n",
      "plt.plot(Dv2)\n",
      "plt.plot(hist1[0])\n",
      "plt.show()"
     ],
     "language": "python",
     "metadata": {},
     "outputs": [],
     "prompt_number": 82
    },
    {
     "cell_type": "code",
     "collapsed": false,
     "input": [
      "hist_trap,garbage = trapezoidalFilter(100,100,2000,hist[0])"
     ],
     "language": "python",
     "metadata": {},
     "outputs": [],
     "prompt_number": 78
    },
    {
     "cell_type": "code",
     "collapsed": false,
     "input": [
      "len(hist1[0])"
     ],
     "language": "python",
     "metadata": {},
     "outputs": [
      {
       "metadata": {},
       "output_type": "pyout",
       "prompt_number": 102,
       "text": [
        "2000"
       ]
      }
     ],
     "prompt_number": 102
    },
    {
     "cell_type": "code",
     "collapsed": false,
     "input": [
      "baseline_info,garbage = opt.curve_fit(lambda x,a,b: a*x+b,numpy.array([range(69-10,69-5),range(69+5,69+10)]),numpy.array([hist1[0][69-10:69-5],hist1[0][69-5:69+10]]))\n",
      "hist_s = numpy.array(hist1[0][69-10:69+10]) - baseline_info[0]*numpy.arange(69-10,69+10)\\\n",
      "                    - baseline_info[1]*numpy.ones(20)\n",
      "plt.plot(hist_s)\n",
      "plt.plot(hist1[0])\n",
      "plt.show()"
     ],
     "language": "python",
     "metadata": {},
     "outputs": [
      {
       "ename": "ValueError",
       "evalue": "operands could not be broadcast together with shapes (2,5) (2) ",
       "output_type": "pyerr",
       "traceback": [
        "\u001b[0;31m---------------------------------------------------------------------------\u001b[0m\n\u001b[0;31mValueError\u001b[0m                                Traceback (most recent call last)",
        "\u001b[0;32m<ipython-input-99-b0429871bf25>\u001b[0m in \u001b[0;36m<module>\u001b[0;34m()\u001b[0m\n\u001b[0;32m----> 1\u001b[0;31m \u001b[0mbaseline_info\u001b[0m\u001b[0;34m,\u001b[0m\u001b[0mgarbage\u001b[0m \u001b[0;34m=\u001b[0m \u001b[0mopt\u001b[0m\u001b[0;34m.\u001b[0m\u001b[0mcurve_fit\u001b[0m\u001b[0;34m(\u001b[0m\u001b[0;32mlambda\u001b[0m \u001b[0mx\u001b[0m\u001b[0;34m,\u001b[0m\u001b[0ma\u001b[0m\u001b[0;34m,\u001b[0m\u001b[0mb\u001b[0m\u001b[0;34m:\u001b[0m \u001b[0ma\u001b[0m\u001b[0;34m*\u001b[0m\u001b[0mx\u001b[0m\u001b[0;34m+\u001b[0m\u001b[0mb\u001b[0m\u001b[0;34m,\u001b[0m\u001b[0mnumpy\u001b[0m\u001b[0;34m.\u001b[0m\u001b[0marray\u001b[0m\u001b[0;34m(\u001b[0m\u001b[0;34m[\u001b[0m\u001b[0mrange\u001b[0m\u001b[0;34m(\u001b[0m\u001b[0;36m69\u001b[0m\u001b[0;34m-\u001b[0m\u001b[0;36m10\u001b[0m\u001b[0;34m,\u001b[0m\u001b[0;36m69\u001b[0m\u001b[0;34m-\u001b[0m\u001b[0;36m5\u001b[0m\u001b[0;34m)\u001b[0m\u001b[0;34m,\u001b[0m\u001b[0mrange\u001b[0m\u001b[0;34m(\u001b[0m\u001b[0;36m69\u001b[0m\u001b[0;34m+\u001b[0m\u001b[0;36m5\u001b[0m\u001b[0;34m,\u001b[0m\u001b[0;36m69\u001b[0m\u001b[0;34m+\u001b[0m\u001b[0;36m10\u001b[0m\u001b[0;34m)\u001b[0m\u001b[0;34m]\u001b[0m\u001b[0;34m)\u001b[0m\u001b[0;34m,\u001b[0m\u001b[0mnumpy\u001b[0m\u001b[0;34m.\u001b[0m\u001b[0marray\u001b[0m\u001b[0;34m(\u001b[0m\u001b[0;34m[\u001b[0m\u001b[0mhist1\u001b[0m\u001b[0;34m[\u001b[0m\u001b[0;36m0\u001b[0m\u001b[0;34m]\u001b[0m\u001b[0;34m[\u001b[0m\u001b[0;36m69\u001b[0m\u001b[0;34m-\u001b[0m\u001b[0;36m10\u001b[0m\u001b[0;34m:\u001b[0m\u001b[0;36m69\u001b[0m\u001b[0;34m-\u001b[0m\u001b[0;36m5\u001b[0m\u001b[0;34m]\u001b[0m\u001b[0;34m,\u001b[0m\u001b[0mhist1\u001b[0m\u001b[0;34m[\u001b[0m\u001b[0;36m0\u001b[0m\u001b[0;34m]\u001b[0m\u001b[0;34m[\u001b[0m\u001b[0;36m69\u001b[0m\u001b[0;34m-\u001b[0m\u001b[0;36m5\u001b[0m\u001b[0;34m:\u001b[0m\u001b[0;36m69\u001b[0m\u001b[0;34m+\u001b[0m\u001b[0;36m10\u001b[0m\u001b[0;34m]\u001b[0m\u001b[0;34m]\u001b[0m\u001b[0;34m)\u001b[0m\u001b[0;34m)\u001b[0m\u001b[0;34m\u001b[0m\u001b[0m\n\u001b[0m\u001b[1;32m      2\u001b[0m \u001b[0mhist_s\u001b[0m \u001b[0;34m=\u001b[0m \u001b[0mnumpy\u001b[0m\u001b[0;34m.\u001b[0m\u001b[0marray\u001b[0m\u001b[0;34m(\u001b[0m\u001b[0mhist1\u001b[0m\u001b[0;34m[\u001b[0m\u001b[0;36m0\u001b[0m\u001b[0;34m]\u001b[0m\u001b[0;34m[\u001b[0m\u001b[0;36m69\u001b[0m\u001b[0;34m-\u001b[0m\u001b[0;36m10\u001b[0m\u001b[0;34m:\u001b[0m\u001b[0;36m69\u001b[0m\u001b[0;34m+\u001b[0m\u001b[0;36m10\u001b[0m\u001b[0;34m]\u001b[0m\u001b[0;34m)\u001b[0m \u001b[0;34m-\u001b[0m \u001b[0mbaseline_info\u001b[0m\u001b[0;34m[\u001b[0m\u001b[0;36m0\u001b[0m\u001b[0;34m]\u001b[0m\u001b[0;34m*\u001b[0m\u001b[0mnumpy\u001b[0m\u001b[0;34m.\u001b[0m\u001b[0marange\u001b[0m\u001b[0;34m(\u001b[0m\u001b[0;36m69\u001b[0m\u001b[0;34m-\u001b[0m\u001b[0;36m10\u001b[0m\u001b[0;34m,\u001b[0m\u001b[0;36m69\u001b[0m\u001b[0;34m+\u001b[0m\u001b[0;36m10\u001b[0m\u001b[0;34m)\u001b[0m                    \u001b[0;34m-\u001b[0m \u001b[0mbaseline_info\u001b[0m\u001b[0;34m[\u001b[0m\u001b[0;36m1\u001b[0m\u001b[0;34m]\u001b[0m\u001b[0;34m*\u001b[0m\u001b[0mnumpy\u001b[0m\u001b[0;34m.\u001b[0m\u001b[0mones\u001b[0m\u001b[0;34m(\u001b[0m\u001b[0;36m20\u001b[0m\u001b[0;34m)\u001b[0m\u001b[0;34m\u001b[0m\u001b[0m\n\u001b[1;32m      3\u001b[0m \u001b[0mplt\u001b[0m\u001b[0;34m.\u001b[0m\u001b[0mplot\u001b[0m\u001b[0;34m(\u001b[0m\u001b[0mhist_s\u001b[0m\u001b[0;34m)\u001b[0m\u001b[0;34m\u001b[0m\u001b[0m\n\u001b[1;32m      4\u001b[0m \u001b[0mplt\u001b[0m\u001b[0;34m.\u001b[0m\u001b[0mplot\u001b[0m\u001b[0;34m(\u001b[0m\u001b[0mhist1\u001b[0m\u001b[0;34m[\u001b[0m\u001b[0;36m0\u001b[0m\u001b[0;34m]\u001b[0m\u001b[0;34m)\u001b[0m\u001b[0;34m\u001b[0m\u001b[0m\n\u001b[1;32m      5\u001b[0m \u001b[0mplt\u001b[0m\u001b[0;34m.\u001b[0m\u001b[0mshow\u001b[0m\u001b[0;34m(\u001b[0m\u001b[0;34m)\u001b[0m\u001b[0;34m\u001b[0m\u001b[0m\n",
        "\u001b[0;32m/Users/Anders/anaconda/python.app/Contents/lib/python2.7/site-packages/scipy/optimize/minpack.pyc\u001b[0m in \u001b[0;36mcurve_fit\u001b[0;34m(f, xdata, ydata, p0, sigma, **kw)\u001b[0m\n\u001b[1;32m    513\u001b[0m     \u001b[0;31m# Remove full_output from kw, otherwise we're passing it in twice.\u001b[0m\u001b[0;34m\u001b[0m\u001b[0;34m\u001b[0m\u001b[0m\n\u001b[1;32m    514\u001b[0m     \u001b[0mreturn_full\u001b[0m \u001b[0;34m=\u001b[0m \u001b[0mkw\u001b[0m\u001b[0;34m.\u001b[0m\u001b[0mpop\u001b[0m\u001b[0;34m(\u001b[0m\u001b[0;34m'full_output'\u001b[0m\u001b[0;34m,\u001b[0m \u001b[0mFalse\u001b[0m\u001b[0;34m)\u001b[0m\u001b[0;34m\u001b[0m\u001b[0m\n\u001b[0;32m--> 515\u001b[0;31m     \u001b[0mres\u001b[0m \u001b[0;34m=\u001b[0m \u001b[0mleastsq\u001b[0m\u001b[0;34m(\u001b[0m\u001b[0mfunc\u001b[0m\u001b[0;34m,\u001b[0m \u001b[0mp0\u001b[0m\u001b[0;34m,\u001b[0m \u001b[0margs\u001b[0m\u001b[0;34m=\u001b[0m\u001b[0margs\u001b[0m\u001b[0;34m,\u001b[0m \u001b[0mfull_output\u001b[0m\u001b[0;34m=\u001b[0m\u001b[0;36m1\u001b[0m\u001b[0;34m,\u001b[0m \u001b[0;34m**\u001b[0m\u001b[0mkw\u001b[0m\u001b[0;34m)\u001b[0m\u001b[0;34m\u001b[0m\u001b[0m\n\u001b[0m\u001b[1;32m    516\u001b[0m     \u001b[0;34m(\u001b[0m\u001b[0mpopt\u001b[0m\u001b[0;34m,\u001b[0m \u001b[0mpcov\u001b[0m\u001b[0;34m,\u001b[0m \u001b[0minfodict\u001b[0m\u001b[0;34m,\u001b[0m \u001b[0merrmsg\u001b[0m\u001b[0;34m,\u001b[0m \u001b[0mier\u001b[0m\u001b[0;34m)\u001b[0m \u001b[0;34m=\u001b[0m \u001b[0mres\u001b[0m\u001b[0;34m\u001b[0m\u001b[0m\n\u001b[1;32m    517\u001b[0m \u001b[0;34m\u001b[0m\u001b[0m\n",
        "\u001b[0;32m/Users/Anders/anaconda/python.app/Contents/lib/python2.7/site-packages/scipy/optimize/minpack.pyc\u001b[0m in \u001b[0;36mleastsq\u001b[0;34m(func, x0, args, Dfun, full_output, col_deriv, ftol, xtol, gtol, maxfev, epsfcn, factor, diag)\u001b[0m\n\u001b[1;32m    352\u001b[0m     \u001b[0;32mif\u001b[0m \u001b[0mtype\u001b[0m\u001b[0;34m(\u001b[0m\u001b[0margs\u001b[0m\u001b[0;34m)\u001b[0m \u001b[0;34m!=\u001b[0m \u001b[0mtype\u001b[0m\u001b[0;34m(\u001b[0m\u001b[0;34m(\u001b[0m\u001b[0;34m)\u001b[0m\u001b[0;34m)\u001b[0m\u001b[0;34m:\u001b[0m\u001b[0;34m\u001b[0m\u001b[0m\n\u001b[1;32m    353\u001b[0m         \u001b[0margs\u001b[0m \u001b[0;34m=\u001b[0m \u001b[0;34m(\u001b[0m\u001b[0margs\u001b[0m\u001b[0;34m,\u001b[0m\u001b[0;34m)\u001b[0m\u001b[0;34m\u001b[0m\u001b[0m\n\u001b[0;32m--> 354\u001b[0;31m     \u001b[0mshape\u001b[0m\u001b[0;34m,\u001b[0m \u001b[0mdtype\u001b[0m \u001b[0;34m=\u001b[0m \u001b[0m_check_func\u001b[0m\u001b[0;34m(\u001b[0m\u001b[0;34m'leastsq'\u001b[0m\u001b[0;34m,\u001b[0m \u001b[0;34m'func'\u001b[0m\u001b[0;34m,\u001b[0m \u001b[0mfunc\u001b[0m\u001b[0;34m,\u001b[0m \u001b[0mx0\u001b[0m\u001b[0;34m,\u001b[0m \u001b[0margs\u001b[0m\u001b[0;34m,\u001b[0m \u001b[0mn\u001b[0m\u001b[0;34m)\u001b[0m\u001b[0;34m\u001b[0m\u001b[0m\n\u001b[0m\u001b[1;32m    355\u001b[0m     \u001b[0mm\u001b[0m \u001b[0;34m=\u001b[0m \u001b[0mshape\u001b[0m\u001b[0;34m[\u001b[0m\u001b[0;36m0\u001b[0m\u001b[0;34m]\u001b[0m\u001b[0;34m\u001b[0m\u001b[0m\n\u001b[1;32m    356\u001b[0m     \u001b[0;32mif\u001b[0m \u001b[0mn\u001b[0m \u001b[0;34m>\u001b[0m \u001b[0mm\u001b[0m\u001b[0;34m:\u001b[0m\u001b[0;34m\u001b[0m\u001b[0m\n",
        "\u001b[0;32m/Users/Anders/anaconda/python.app/Contents/lib/python2.7/site-packages/scipy/optimize/minpack.pyc\u001b[0m in \u001b[0;36m_check_func\u001b[0;34m(checker, argname, thefunc, x0, args, numinputs, output_shape)\u001b[0m\n\u001b[1;32m     15\u001b[0m \u001b[0;34m\u001b[0m\u001b[0m\n\u001b[1;32m     16\u001b[0m \u001b[0;32mdef\u001b[0m \u001b[0m_check_func\u001b[0m\u001b[0;34m(\u001b[0m\u001b[0mchecker\u001b[0m\u001b[0;34m,\u001b[0m \u001b[0margname\u001b[0m\u001b[0;34m,\u001b[0m \u001b[0mthefunc\u001b[0m\u001b[0;34m,\u001b[0m \u001b[0mx0\u001b[0m\u001b[0;34m,\u001b[0m \u001b[0margs\u001b[0m\u001b[0;34m,\u001b[0m \u001b[0mnuminputs\u001b[0m\u001b[0;34m,\u001b[0m \u001b[0moutput_shape\u001b[0m\u001b[0;34m=\u001b[0m\u001b[0mNone\u001b[0m\u001b[0;34m)\u001b[0m\u001b[0;34m:\u001b[0m\u001b[0;34m\u001b[0m\u001b[0m\n\u001b[0;32m---> 17\u001b[0;31m     \u001b[0mres\u001b[0m \u001b[0;34m=\u001b[0m \u001b[0matleast_1d\u001b[0m\u001b[0;34m(\u001b[0m\u001b[0mthefunc\u001b[0m\u001b[0;34m(\u001b[0m\u001b[0;34m*\u001b[0m\u001b[0;34m(\u001b[0m\u001b[0;34m(\u001b[0m\u001b[0mx0\u001b[0m\u001b[0;34m[\u001b[0m\u001b[0;34m:\u001b[0m\u001b[0mnuminputs\u001b[0m\u001b[0;34m]\u001b[0m\u001b[0;34m,\u001b[0m\u001b[0;34m)\u001b[0m \u001b[0;34m+\u001b[0m \u001b[0margs\u001b[0m\u001b[0;34m)\u001b[0m\u001b[0;34m)\u001b[0m\u001b[0;34m)\u001b[0m\u001b[0;34m\u001b[0m\u001b[0m\n\u001b[0m\u001b[1;32m     18\u001b[0m     \u001b[0;32mif\u001b[0m \u001b[0;34m(\u001b[0m\u001b[0moutput_shape\u001b[0m \u001b[0;32mis\u001b[0m \u001b[0;32mnot\u001b[0m \u001b[0mNone\u001b[0m\u001b[0;34m)\u001b[0m \u001b[0;32mand\u001b[0m \u001b[0;34m(\u001b[0m\u001b[0mshape\u001b[0m\u001b[0;34m(\u001b[0m\u001b[0mres\u001b[0m\u001b[0;34m)\u001b[0m \u001b[0;34m!=\u001b[0m \u001b[0moutput_shape\u001b[0m\u001b[0;34m)\u001b[0m\u001b[0;34m:\u001b[0m\u001b[0;34m\u001b[0m\u001b[0m\n\u001b[1;32m     19\u001b[0m         \u001b[0;32mif\u001b[0m \u001b[0;34m(\u001b[0m\u001b[0moutput_shape\u001b[0m\u001b[0;34m[\u001b[0m\u001b[0;36m0\u001b[0m\u001b[0;34m]\u001b[0m \u001b[0;34m!=\u001b[0m \u001b[0;36m1\u001b[0m\u001b[0;34m)\u001b[0m\u001b[0;34m:\u001b[0m\u001b[0;34m\u001b[0m\u001b[0m\n",
        "\u001b[0;32m/Users/Anders/anaconda/python.app/Contents/lib/python2.7/site-packages/scipy/optimize/minpack.pyc\u001b[0m in \u001b[0;36m_general_function\u001b[0;34m(params, xdata, ydata, function)\u001b[0m\n\u001b[1;32m    425\u001b[0m \u001b[0;34m\u001b[0m\u001b[0m\n\u001b[1;32m    426\u001b[0m \u001b[0;32mdef\u001b[0m \u001b[0m_general_function\u001b[0m\u001b[0;34m(\u001b[0m\u001b[0mparams\u001b[0m\u001b[0;34m,\u001b[0m \u001b[0mxdata\u001b[0m\u001b[0;34m,\u001b[0m \u001b[0mydata\u001b[0m\u001b[0;34m,\u001b[0m \u001b[0mfunction\u001b[0m\u001b[0;34m)\u001b[0m\u001b[0;34m:\u001b[0m\u001b[0;34m\u001b[0m\u001b[0m\n\u001b[0;32m--> 427\u001b[0;31m     \u001b[0;32mreturn\u001b[0m \u001b[0mfunction\u001b[0m\u001b[0;34m(\u001b[0m\u001b[0mxdata\u001b[0m\u001b[0;34m,\u001b[0m \u001b[0;34m*\u001b[0m\u001b[0mparams\u001b[0m\u001b[0;34m)\u001b[0m \u001b[0;34m-\u001b[0m \u001b[0mydata\u001b[0m\u001b[0;34m\u001b[0m\u001b[0m\n\u001b[0m\u001b[1;32m    428\u001b[0m \u001b[0;34m\u001b[0m\u001b[0m\n\u001b[1;32m    429\u001b[0m \u001b[0;32mdef\u001b[0m \u001b[0m_weighted_general_function\u001b[0m\u001b[0;34m(\u001b[0m\u001b[0mparams\u001b[0m\u001b[0;34m,\u001b[0m \u001b[0mxdata\u001b[0m\u001b[0;34m,\u001b[0m \u001b[0mydata\u001b[0m\u001b[0;34m,\u001b[0m \u001b[0mfunction\u001b[0m\u001b[0;34m,\u001b[0m \u001b[0mweights\u001b[0m\u001b[0;34m)\u001b[0m\u001b[0;34m:\u001b[0m\u001b[0;34m\u001b[0m\u001b[0m\n",
        "\u001b[0;31mValueError\u001b[0m: operands could not be broadcast together with shapes (2,5) (2) "
       ]
      }
     ],
     "prompt_number": 99
    },
    {
     "cell_type": "code",
     "collapsed": false,
     "input": [
      "print numpy.array(range(69-10,69-5).append(range(69+5,69+10)))"
     ],
     "language": "python",
     "metadata": {},
     "outputs": [
      {
       "output_type": "stream",
       "stream": "stdout",
       "text": [
        "None\n"
       ]
      }
     ],
     "prompt_number": 114
    },
    {
     "cell_type": "code",
     "collapsed": false,
     "input": [
      "a = range(69-10,69-5)\n",
      "print a.extend(range(69+5,69+10))"
     ],
     "language": "python",
     "metadata": {},
     "outputs": [
      {
       "output_type": "stream",
       "stream": "stdout",
       "text": [
        "None\n"
       ]
      }
     ],
     "prompt_number": 120
    },
    {
     "cell_type": "code",
     "collapsed": false,
     "input": [
      "v = subtractBaseline(f[4,:])\n",
      "s = trapezoidalFilter(250,100,4467,v)\n",
      "print numpy.shape(s)\n",
      "plt.plot(s[0])\n",
      "plt.show()"
     ],
     "language": "python",
     "metadata": {},
     "outputs": [
      {
       "output_type": "stream",
       "stream": "stdout",
       "text": [
        "(2,)\n"
       ]
      }
     ],
     "prompt_number": 34
    },
    {
     "cell_type": "code",
     "collapsed": false,
     "input": [
      "print len(xdata)"
     ],
     "language": "python",
     "metadata": {},
     "outputs": [
      {
       "output_type": "stream",
       "stream": "stdout",
       "text": [
        "947\n"
       ]
      }
     ],
     "prompt_number": 163
    },
    {
     "cell_type": "code",
     "collapsed": false,
     "input": [
      "v = subtractBaseline(f[100,:])\n",
      "v1 = numpy.append(v,numpy.zeros(2*250+100))\n",
      "plt.plot(v1)\n",
      "plt.show()"
     ],
     "language": "python",
     "metadata": {},
     "outputs": [],
     "prompt_number": 35
    },
    {
     "cell_type": "code",
     "collapsed": false,
     "input": [
      "peaks = compareTrapParams()"
     ],
     "language": "python",
     "metadata": {},
     "outputs": [
      {
       "output_type": "stream",
       "stream": "stdout",
       "text": [
        "Reading  185186  traces from  ../JB_AP_CO_60_AM_241_2000_samples_092413.h5\n"
       ]
      },
      {
       "output_type": "stream",
       "stream": "stdout",
       "text": [
        "Processing "
       ]
      },
      {
       "output_type": "stream",
       "stream": "stdout",
       "text": [
        " 185186  samples ( 180000  to  185186 ) took:  112.315057039\n",
        "[ 0.00047152]"
       ]
      },
      {
       "output_type": "stream",
       "stream": "stdout",
       "text": [
        "\n",
        "Peak #\tPeak Info"
       ]
      },
      {
       "ename": "ValueError",
       "evalue": "could not broadcast input array from shape (3,2) into shape (3,3)",
       "output_type": "pyerr",
       "traceback": [
        "\u001b[0;31m---------------------------------------------------------------------------\u001b[0m\n\u001b[0;31mValueError\u001b[0m                                Traceback (most recent call last)",
        "\u001b[0;32m<ipython-input-86-d261baba6a78>\u001b[0m in \u001b[0;36m<module>\u001b[0;34m()\u001b[0m\n\u001b[0;32m----> 1\u001b[0;31m \u001b[0mpeaks\u001b[0m \u001b[0;34m=\u001b[0m \u001b[0mcompareTrapParams\u001b[0m\u001b[0;34m(\u001b[0m\u001b[0;34m)\u001b[0m\u001b[0;34m\u001b[0m\u001b[0m\n\u001b[0m",
        "\u001b[0;32m<ipython-input-85-e0a89c744339>\u001b[0m in \u001b[0;36mcompareTrapParams\u001b[0;34m()\u001b[0m\n\u001b[1;32m    260\u001b[0m     \u001b[0;32mfor\u001b[0m \u001b[0mi\u001b[0m\u001b[0;34m,\u001b[0m\u001b[0mj\u001b[0m \u001b[0;32min\u001b[0m \u001b[0menumerate\u001b[0m\u001b[0;34m(\u001b[0m\u001b[0mrange\u001b[0m\u001b[0;34m(\u001b[0m\u001b[0;36m0\u001b[0m\u001b[0;34m,\u001b[0m\u001b[0;36m1\u001b[0m\u001b[0;34m,\u001b[0m\u001b[0;36m1\u001b[0m\u001b[0;34m)\u001b[0m\u001b[0;34m)\u001b[0m\u001b[0;34m:\u001b[0m\u001b[0;34m\u001b[0m\u001b[0m\n\u001b[1;32m    261\u001b[0m         \u001b[0mhist\u001b[0m\u001b[0;34m,\u001b[0m\u001b[0mbins\u001b[0m\u001b[0;34m,\u001b[0m\u001b[0mpeak_info\u001b[0m\u001b[0;34m,\u001b[0m\u001b[0mpulseHeight\u001b[0m \u001b[0;34m=\u001b[0m \u001b[0mmakeSpect\u001b[0m\u001b[0;34m(\u001b[0m\u001b[0;34m'../JB_AP_CO_60_AM_241_2000_samples_092413.h5'\u001b[0m\u001b[0;34m,\u001b[0m\u001b[0;34m'HDF5'\u001b[0m\u001b[0;34m,\u001b[0m\u001b[0mrise\u001b[0m\u001b[0;34m+\u001b[0m\u001b[0mj\u001b[0m\u001b[0;34m,\u001b[0m\u001b[0mgap\u001b[0m\u001b[0;34m,\u001b[0m\u001b[0menergies\u001b[0m\u001b[0;34m=\u001b[0m\u001b[0;34m[\u001b[0m\u001b[0;36m59.5\u001b[0m\u001b[0;34m,\u001b[0m\u001b[0;36m1173\u001b[0m\u001b[0;34m,\u001b[0m\u001b[0;36m1332\u001b[0m\u001b[0;34m]\u001b[0m\u001b[0;34m)\u001b[0m\u001b[0;34m\u001b[0m\u001b[0m\n\u001b[0;32m--> 262\u001b[0;31m         \u001b[0mpeak_array\u001b[0m\u001b[0;34m[\u001b[0m\u001b[0mi\u001b[0m\u001b[0;34m,\u001b[0m\u001b[0;34m:\u001b[0m\u001b[0;34m,\u001b[0m\u001b[0;34m:\u001b[0m\u001b[0;34m]\u001b[0m \u001b[0;34m=\u001b[0m \u001b[0mpeak_info\u001b[0m\u001b[0;34m\u001b[0m\u001b[0m\n\u001b[0m\u001b[1;32m    263\u001b[0m         \u001b[0mfname\u001b[0m \u001b[0;34m=\u001b[0m \u001b[0;34m'pulseHeight_'\u001b[0m \u001b[0;34m+\u001b[0m \u001b[0mstr\u001b[0m\u001b[0;34m(\u001b[0m\u001b[0mrise\u001b[0m\u001b[0;34m+\u001b[0m\u001b[0mj\u001b[0m\u001b[0;34m)\u001b[0m \u001b[0;34m+\u001b[0m \u001b[0;34m'_'\u001b[0m \u001b[0;34m+\u001b[0m \u001b[0mstr\u001b[0m\u001b[0;34m(\u001b[0m\u001b[0mgap\u001b[0m\u001b[0;34m)\u001b[0m \u001b[0;34m+\u001b[0m \u001b[0;34m'.txt'\u001b[0m\u001b[0;34m\u001b[0m\u001b[0m\n\u001b[1;32m    264\u001b[0m         \u001b[0mheader\u001b[0m \u001b[0;34m=\u001b[0m \u001b[0;34m'Peak #\\t\\t{Height} [counts]\\t\\{tCentroid\\t\\tFWHM\\t\\tsigma_FWHM} [keV]'\u001b[0m\u001b[0;34m+\u001b[0m \u001b[0;34m'\\n'\u001b[0m \u001b[0;34m+\u001b[0m \u001b[0mstr\u001b[0m\u001b[0;34m(\u001b[0m\u001b[0;34m[\u001b[0m\u001b[0mstr\u001b[0m\u001b[0;34m(\u001b[0m\u001b[0mpeak_num\u001b[0m\u001b[0;34m)\u001b[0m\u001b[0;34m+\u001b[0m\u001b[0mstr\u001b[0m\u001b[0;34m(\u001b[0m\u001b[0mpeak\u001b[0m\u001b[0;34m)\u001b[0m \u001b[0;32mfor\u001b[0m \u001b[0mpeak_num\u001b[0m\u001b[0;34m,\u001b[0m\u001b[0mpeak\u001b[0m \u001b[0;32min\u001b[0m \u001b[0menumerate\u001b[0m\u001b[0;34m(\u001b[0m\u001b[0mpeak_info\u001b[0m\u001b[0;34m)\u001b[0m\u001b[0;34m]\u001b[0m\u001b[0;34m)\u001b[0m\u001b[0;34m\u001b[0m\u001b[0m\n",
        "\u001b[0;31mValueError\u001b[0m: could not broadcast input array from shape (3,2) into shape (3,3)"
       ]
      },
      {
       "output_type": "stream",
       "stream": "stdout",
       "text": [
        "\n",
        "\tHeight (counts)\t\tCentroid (keV)\t\tFWHM (keV)\t\tsigma_FWHM (keV)\n",
        "0 [array([ 1435.67592018,    57.66750121,     2.89456204]), 0.27630740429958878]\n",
        "1 [array([ 2372.01261855,  1173.12611872,     2.65517632]), 0.029422023462990575]\n",
        "2 [array([ 2011.4634683 ,  1331.96220514,     2.71935268]), 0.020802241968590259]\n"
       ]
      }
     ],
     "prompt_number": 86
    },
    {
     "cell_type": "code",
     "collapsed": false,
     "input": [
      "import numpy as np\n",
      "plt.plot(np.array(800*np.ones(16)+range(0,320,20)),peaks[:-1,0,2],'r--')\n",
      "plt.plot(np.array(800*np.ones(16)+range(0,320,20)),peaks[:-1,1,2],'b--')\n",
      "plt.plot(np.array(800*np.ones(16)+range(0,320,20)),peaks[:-1,2,2],'g--')\n",
      "plt.show()"
     ],
     "language": "python",
     "metadata": {},
     "outputs": [
      {
       "ename": "NameError",
       "evalue": "name 'peaks' is not defined",
       "output_type": "pyerr",
       "traceback": [
        "\u001b[0;31m---------------------------------------------------------------------------\u001b[0m\n\u001b[0;31mNameError\u001b[0m                                 Traceback (most recent call last)",
        "\u001b[0;32m<ipython-input-4-e70fd3adbadc>\u001b[0m in \u001b[0;36m<module>\u001b[0;34m()\u001b[0m\n\u001b[1;32m      1\u001b[0m \u001b[0;32mimport\u001b[0m \u001b[0mnumpy\u001b[0m \u001b[0;32mas\u001b[0m \u001b[0mnp\u001b[0m\u001b[0;34m\u001b[0m\u001b[0m\n\u001b[0;32m----> 2\u001b[0;31m \u001b[0mplt\u001b[0m\u001b[0;34m.\u001b[0m\u001b[0mplot\u001b[0m\u001b[0;34m(\u001b[0m\u001b[0mnp\u001b[0m\u001b[0;34m.\u001b[0m\u001b[0marray\u001b[0m\u001b[0;34m(\u001b[0m\u001b[0;36m800\u001b[0m\u001b[0;34m*\u001b[0m\u001b[0mnp\u001b[0m\u001b[0;34m.\u001b[0m\u001b[0mones\u001b[0m\u001b[0;34m(\u001b[0m\u001b[0;36m16\u001b[0m\u001b[0;34m)\u001b[0m\u001b[0;34m+\u001b[0m\u001b[0mrange\u001b[0m\u001b[0;34m(\u001b[0m\u001b[0;36m0\u001b[0m\u001b[0;34m,\u001b[0m\u001b[0;36m320\u001b[0m\u001b[0;34m,\u001b[0m\u001b[0;36m20\u001b[0m\u001b[0;34m)\u001b[0m\u001b[0;34m)\u001b[0m\u001b[0;34m,\u001b[0m\u001b[0mpeaks\u001b[0m\u001b[0;34m[\u001b[0m\u001b[0;34m:\u001b[0m\u001b[0;34m-\u001b[0m\u001b[0;36m1\u001b[0m\u001b[0;34m,\u001b[0m\u001b[0;36m0\u001b[0m\u001b[0;34m,\u001b[0m\u001b[0;36m2\u001b[0m\u001b[0;34m]\u001b[0m\u001b[0;34m,\u001b[0m\u001b[0;34m'r--'\u001b[0m\u001b[0;34m)\u001b[0m\u001b[0;34m\u001b[0m\u001b[0m\n\u001b[0m\u001b[1;32m      3\u001b[0m \u001b[0mplt\u001b[0m\u001b[0;34m.\u001b[0m\u001b[0mplot\u001b[0m\u001b[0;34m(\u001b[0m\u001b[0mnp\u001b[0m\u001b[0;34m.\u001b[0m\u001b[0marray\u001b[0m\u001b[0;34m(\u001b[0m\u001b[0;36m800\u001b[0m\u001b[0;34m*\u001b[0m\u001b[0mnp\u001b[0m\u001b[0;34m.\u001b[0m\u001b[0mones\u001b[0m\u001b[0;34m(\u001b[0m\u001b[0;36m16\u001b[0m\u001b[0;34m)\u001b[0m\u001b[0;34m+\u001b[0m\u001b[0mrange\u001b[0m\u001b[0;34m(\u001b[0m\u001b[0;36m0\u001b[0m\u001b[0;34m,\u001b[0m\u001b[0;36m320\u001b[0m\u001b[0;34m,\u001b[0m\u001b[0;36m20\u001b[0m\u001b[0;34m)\u001b[0m\u001b[0;34m)\u001b[0m\u001b[0;34m,\u001b[0m\u001b[0mpeaks\u001b[0m\u001b[0;34m[\u001b[0m\u001b[0;34m:\u001b[0m\u001b[0;34m-\u001b[0m\u001b[0;36m1\u001b[0m\u001b[0;34m,\u001b[0m\u001b[0;36m1\u001b[0m\u001b[0;34m,\u001b[0m\u001b[0;36m2\u001b[0m\u001b[0;34m]\u001b[0m\u001b[0;34m,\u001b[0m\u001b[0;34m'b--'\u001b[0m\u001b[0;34m)\u001b[0m\u001b[0;34m\u001b[0m\u001b[0m\n\u001b[1;32m      4\u001b[0m \u001b[0mplt\u001b[0m\u001b[0;34m.\u001b[0m\u001b[0mplot\u001b[0m\u001b[0;34m(\u001b[0m\u001b[0mnp\u001b[0m\u001b[0;34m.\u001b[0m\u001b[0marray\u001b[0m\u001b[0;34m(\u001b[0m\u001b[0;36m800\u001b[0m\u001b[0;34m*\u001b[0m\u001b[0mnp\u001b[0m\u001b[0;34m.\u001b[0m\u001b[0mones\u001b[0m\u001b[0;34m(\u001b[0m\u001b[0;36m16\u001b[0m\u001b[0;34m)\u001b[0m\u001b[0;34m+\u001b[0m\u001b[0mrange\u001b[0m\u001b[0;34m(\u001b[0m\u001b[0;36m0\u001b[0m\u001b[0;34m,\u001b[0m\u001b[0;36m320\u001b[0m\u001b[0;34m,\u001b[0m\u001b[0;36m20\u001b[0m\u001b[0;34m)\u001b[0m\u001b[0;34m)\u001b[0m\u001b[0;34m,\u001b[0m\u001b[0mpeaks\u001b[0m\u001b[0;34m[\u001b[0m\u001b[0;34m:\u001b[0m\u001b[0;34m-\u001b[0m\u001b[0;36m1\u001b[0m\u001b[0;34m,\u001b[0m\u001b[0;36m2\u001b[0m\u001b[0;34m,\u001b[0m\u001b[0;36m2\u001b[0m\u001b[0;34m]\u001b[0m\u001b[0;34m,\u001b[0m\u001b[0;34m'g--'\u001b[0m\u001b[0;34m)\u001b[0m\u001b[0;34m\u001b[0m\u001b[0m\n\u001b[1;32m      5\u001b[0m \u001b[0mplt\u001b[0m\u001b[0;34m.\u001b[0m\u001b[0mshow\u001b[0m\u001b[0;34m(\u001b[0m\u001b[0;34m)\u001b[0m\u001b[0;34m\u001b[0m\u001b[0m\n",
        "\u001b[0;31mNameError\u001b[0m: name 'peaks' is not defined"
       ]
      }
     ],
     "prompt_number": 4
    },
    {
     "cell_type": "code",
     "collapsed": false,
     "input": [
      "peaks.shape"
     ],
     "language": "python",
     "metadata": {},
     "outputs": [
      {
       "metadata": {},
       "output_type": "pyout",
       "prompt_number": 3,
       "text": [
        "(17, 3, 3)"
       ]
      }
     ],
     "prompt_number": 3
    },
    {
     "cell_type": "code",
     "collapsed": false,
     "input": [
      "len(range(0,320,20))"
     ],
     "language": "python",
     "metadata": {},
     "outputs": [
      {
       "metadata": {},
       "output_type": "pyout",
       "prompt_number": 7,
       "text": [
        "16"
       ]
      }
     ],
     "prompt_number": 7
    },
    {
     "cell_type": "code",
     "collapsed": false,
     "input": [
      "i = []\n",
      "while len(i)<10:\n",
      "    i.append(1)\n",
      "    print i"
     ],
     "language": "python",
     "metadata": {},
     "outputs": [
      {
       "output_type": "stream",
       "stream": "stdout",
       "text": [
        "[1]\n",
        "[1, 1]\n",
        "[1, 1, 1]\n",
        "[1, 1, 1, 1]\n",
        "[1, 1, 1, 1, 1]\n",
        "[1, 1, 1, 1, 1, 1]\n",
        "[1, 1, 1, 1, 1, 1, 1]\n",
        "[1, 1, 1, 1, 1, 1, 1, 1]\n",
        "[1, 1, 1, 1, 1, 1, 1, 1, 1]\n",
        "[1, 1, 1, 1, 1, 1, 1, 1, 1, 1]\n"
       ]
      }
     ],
     "prompt_number": 39
    },
    {
     "cell_type": "code",
     "collapsed": false,
     "input": [
      "len(range(0,220,10))"
     ],
     "language": "python",
     "metadata": {},
     "outputs": [
      {
       "metadata": {},
       "output_type": "pyout",
       "prompt_number": 157,
       "text": [
        "22"
       ]
      }
     ],
     "prompt_number": 157
    },
    {
     "cell_type": "code",
     "collapsed": false,
     "input": [
      "test = [[1.80891724e+03,7.01504120e+01,3.31416897e+00,2.60138637e-01],\n",
      "   [2.89247438e+03,1.43056379e+03,3.12802942e+00,2.59384107e-02],\n",
      "   [2.47558592e+03,1.62424021e+03,3.16527489e+00,1.91995391e-02]]\n",
      "print test\n",
      "print [peak[1] for peak in test]"
     ],
     "language": "python",
     "metadata": {},
     "outputs": [
      {
       "output_type": "stream",
       "stream": "stdout",
       "text": [
        "[[1808.91724, 70.150412, 3.31416897, 0.260138637], [2892.47438, 1430.56379, 3.12802942, 0.0259384107], [2475.58592, 1624.24021, 3.16527489, 0.0191995391]]\n",
        "[70.150412, 1430.56379, 1624.24021]\n"
       ]
      }
     ],
     "prompt_number": 117
    },
    {
     "cell_type": "code",
     "collapsed": false,
     "input": [],
     "language": "python",
     "metadata": {},
     "outputs": []
    }
   ],
   "metadata": {}
  }
 ]
}