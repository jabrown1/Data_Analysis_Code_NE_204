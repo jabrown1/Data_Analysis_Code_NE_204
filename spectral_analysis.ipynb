{
 "metadata": {
  "name": ""
 },
 "nbformat": 3,
 "nbformat_minor": 0,
 "worksheets": [
  {
   "cells": [
    {
     "cell_type": "code",
     "collapsed": false,
     "input": [
      "from jb_functions import *\n"
     ],
     "language": "python",
     "metadata": {},
     "outputs": [],
     "prompt_number": 1
    },
    {
     "cell_type": "code",
     "collapsed": false,
     "input": [
      "plot(x[1][1:],x[0])\n",
      "show()"
     ],
     "language": "python",
     "metadata": {},
     "outputs": [],
     "prompt_number": 41
    },
    {
     "cell_type": "code",
     "collapsed": false,
     "input": [
      "spectrum = analyze_spectrum(\"JB_AP_CO_60_AM_241_4000_samples_092413.h5\",800,75,4400,.25,3000,1)\n",
      "par1, cov1 = gaussfit(spectrum[0],spectrum[1][1:],45,75,1000,59,4,1)\n",
      "par2, cov2 = gaussfit(spectrum[0],spectrum[1][1:],1155,1195,1000,1173,4,1)\n",
      "par3, cov3 = gaussfit(spectrum[0],spectrum[1][1:],1312,1352,1000,1332,4,1)\n",
      "show()"
     ],
     "language": "python",
     "metadata": {},
     "outputs": [
      {
       "output_type": "stream",
       "stream": "stdout",
       "text": [
        "106291\n",
        "4000\n",
        "8.247164011"
       ]
      },
      {
       "output_type": "stream",
       "stream": "stdout",
       "text": [
        "\n",
        "[   37.25   766.5    870.5   1171.  ]"
       ]
      },
      {
       "output_type": "stream",
       "stream": "stdout",
       "text": [
        "\n",
        "[[    0.  5200.  5200. ...,     0.     0.     0.]\n",
        " [    0.     0.  5199. ...,     0.     0.     0.]\n",
        " [    0.     0.     0. ...,     0.     0.     0.]\n",
        " ..., \n",
        " [    0.     0.     0. ...,     0.  4401.  4402.]\n",
        " [    0.     0.     0. ...,     0.     0.  4401.]\n",
        " [    0.     0.     0. ...,     0.     0.     0.]]\n",
        "8.20807290077"
       ]
      },
      {
       "output_type": "stream",
       "stream": "stdout",
       "text": [
        "\n",
        "8.42882418633"
       ]
      },
      {
       "output_type": "stream",
       "stream": "stdout",
       "text": [
        "\n",
        "8.59098792076"
       ]
      },
      {
       "output_type": "stream",
       "stream": "stdout",
       "text": [
        "\n",
        "8.40574407578"
       ]
      },
      {
       "output_type": "stream",
       "stream": "stdout",
       "text": [
        "\n",
        "8.35476398468"
       ]
      },
      {
       "output_type": "stream",
       "stream": "stdout",
       "text": [
        "\n",
        "8.66678595543"
       ]
      },
      {
       "output_type": "stream",
       "stream": "stdout",
       "text": [
        "\n",
        "8.70583581924"
       ]
      },
      {
       "output_type": "stream",
       "stream": "stdout",
       "text": [
        "\n",
        "8.83811020851"
       ]
      },
      {
       "output_type": "stream",
       "stream": "stdout",
       "text": [
        "\n",
        "8.73914790154"
       ]
      },
      {
       "output_type": "stream",
       "stream": "stdout",
       "text": [
        "\n",
        "8.74290704727"
       ]
      },
      {
       "output_type": "stream",
       "stream": "stdout",
       "text": [
        "\n",
        "[   60.25  1173.5   1332.    1458.5   1765.25  1848.    1901.    1989.25\n",
        "  2014.5   2046.25  2219.5   2410.75  2414.75  2501.25  2612.25]"
       ]
      },
      {
       "output_type": "stream",
       "stream": "stdout",
       "text": [
        "\n",
        "45\n",
        "180\n",
        "1155"
       ]
      },
      {
       "output_type": "stream",
       "stream": "stdout",
       "text": [
        "\n",
        "4620\n",
        "1312\n",
        "5248\n"
       ]
      }
     ],
     "prompt_number": 2
    },
    {
     "cell_type": "code",
     "collapsed": false,
     "input": [
      "f = open('spectrum.txt', 'w')\n",
      "for i in range(0,12000): \n",
      "    f.write('{0:f} {1:f} \\n'.format(spectrum[1][i],spectrum[0][i]))\n",
      "f.close()"
     ],
     "language": "python",
     "metadata": {},
     "outputs": [],
     "prompt_number": 4
    },
    {
     "cell_type": "code",
     "collapsed": false,
     "input": [
      "print par1[2],par2[2],par3[2]\n",
      "plot(spectrum[1][1:],spectrum[0])\n",
      "show()"
     ],
     "language": "python",
     "metadata": {},
     "outputs": [
      {
       "output_type": "stream",
       "stream": "stdout",
       "text": [
        "1.984818404 2.22518704718 2.38556761031\n"
       ]
      }
     ],
     "prompt_number": 11
    },
    {
     "cell_type": "code",
     "collapsed": false,
     "input": [
      "a9 = []\n",
      "for n in range(0,10):\n",
      "    spectrum = analyze_spectrum(\"JB_AP_CO_60_AM_241_4000_samples_092413.h5\",800,(n+1)*20,4400,.25,5000,1)\n",
      "    par1, cov1 = gaussfit(spectrum[0],spectrum[1][1:],45,75,1000,59,4,0)\n",
      "    par2, cov2 = gaussfit(spectrum[0],spectrum[1][1:],1155,1195,1000,1173,4,0)\n",
      "    par3, cov3 = gaussfit(spectrum[0],spectrum[1][1:],1312,1352,1000,1332,4,0)\n",
      "    #show()\n",
      "    a9.append([par1,cov1,par2,cov2,par3,cov3,(n+1)*15])\n"
     ],
     "language": "python",
     "metadata": {},
     "outputs": [
      {
       "output_type": "stream",
       "stream": "stdout",
       "text": [
        "106291\n",
        "4000\n",
        "8.16235303879"
       ]
      },
      {
       "output_type": "stream",
       "stream": "stdout",
       "text": [
        "\n",
        "[  36.5   765.25  869.  ]"
       ]
      },
      {
       "output_type": "stream",
       "stream": "stdout",
       "text": [
        "\n",
        "[[    0.  5200.  5200. ...,     0.     0.     0.]\n",
        " [    0.     0.  5199. ...,     0.     0.     0.]\n",
        " [    0.     0.     0. ...,     0.     0.     0.]\n",
        " ..., \n",
        " [    0.     0.     0. ...,     0.  4401.  4402.]\n",
        " [    0.     0.     0. ...,     0.     0.  4401.]\n",
        " [    0.     0.     0. ...,     0.     0.     0.]]\n",
        "8.45691108704"
       ]
      },
      {
       "output_type": "stream",
       "stream": "stdout",
       "text": [
        "\n",
        "8.30640792847"
       ]
      },
      {
       "output_type": "stream",
       "stream": "stdout",
       "text": [
        "\n",
        "8.34467387199"
       ]
      },
      {
       "output_type": "stream",
       "stream": "stdout",
       "text": [
        "\n",
        "8.26859807968"
       ]
      },
      {
       "output_type": "stream",
       "stream": "stdout",
       "text": [
        "\n",
        "8.71832203865"
       ]
      },
      {
       "output_type": "stream",
       "stream": "stdout",
       "text": [
        "\n",
        "8.71577501297"
       ]
      },
      {
       "output_type": "stream",
       "stream": "stdout",
       "text": [
        "\n",
        "8.74981212616"
       ]
      },
      {
       "output_type": "stream",
       "stream": "stdout",
       "text": [
        "\n",
        "8.74329996109"
       ]
      },
      {
       "output_type": "stream",
       "stream": "stdout",
       "text": [
        "\n",
        "8.74761509895"
       ]
      },
      {
       "output_type": "stream",
       "stream": "stdout",
       "text": [
        "\n",
        "8.77672600746"
       ]
      },
      {
       "output_type": "stream",
       "stream": "stdout",
       "text": [
        "\n",
        "[   60.25  1173.5   1332.25  1458.25  1587.5   1667.5   2016.25  2496.\n",
        "  2500.  ]"
       ]
      },
      {
       "output_type": "stream",
       "stream": "stdout",
       "text": [
        "\n",
        "45\n",
        "180\n",
        "1155\n",
        "4620\n",
        "1312\n",
        "5248\n",
        "106291"
       ]
      },
      {
       "output_type": "stream",
       "stream": "stdout",
       "text": [
        "\n",
        "4000\n",
        "8.32608103752"
       ]
      },
      {
       "output_type": "stream",
       "stream": "stdout",
       "text": [
        "\n",
        "[  37.    766.5   870.25]"
       ]
      },
      {
       "output_type": "stream",
       "stream": "stdout",
       "text": [
        "\n",
        "[[    0.  5200.  5200. ...,     0.     0.     0.]\n",
        " [    0.     0.  5199. ...,     0.     0.     0.]\n",
        " [    0.     0.     0. ...,     0.     0.     0.]\n",
        " ..., \n",
        " [    0.     0.     0. ...,     0.  4401.  4402.]\n",
        " [    0.     0.     0. ...,     0.     0.  4401.]\n",
        " [    0.     0.     0. ...,     0.     0.     0.]]\n",
        "8.25313305855"
       ]
      },
      {
       "output_type": "stream",
       "stream": "stdout",
       "text": [
        "\n",
        "8.41805195808"
       ]
      },
      {
       "output_type": "stream",
       "stream": "stdout",
       "text": [
        "\n",
        "8.73447203636"
       ]
      },
      {
       "output_type": "stream",
       "stream": "stdout",
       "text": [
        "\n",
        "8.78293895721"
       ]
      },
      {
       "output_type": "stream",
       "stream": "stdout",
       "text": [
        "\n",
        "8.75718903542"
       ]
      },
      {
       "output_type": "stream",
       "stream": "stdout",
       "text": [
        "\n",
        "8.79172801971"
       ]
      },
      {
       "output_type": "stream",
       "stream": "stdout",
       "text": [
        "\n",
        "8.77695298195"
       ]
      },
      {
       "output_type": "stream",
       "stream": "stdout",
       "text": [
        "\n",
        "8.72758197784"
       ]
      },
      {
       "output_type": "stream",
       "stream": "stdout",
       "text": [
        "\n",
        "8.79317498207"
       ]
      },
      {
       "output_type": "stream",
       "stream": "stdout",
       "text": [
        "\n",
        "8.78152489662"
       ]
      },
      {
       "output_type": "stream",
       "stream": "stdout",
       "text": [
        "\n",
        "[   60.5   1173.5   1332.25  1588.    1626.75  1822.25  1943.5   2019.\n",
        "  2499.75  2609.  ]"
       ]
      },
      {
       "output_type": "stream",
       "stream": "stdout",
       "text": [
        "\n",
        "45\n",
        "180\n",
        "1155\n",
        "4620\n",
        "1312"
       ]
      },
      {
       "output_type": "stream",
       "stream": "stdout",
       "text": [
        "\n",
        "5248\n",
        "106291\n",
        "4000\n",
        "8.3771378994"
       ]
      },
      {
       "output_type": "stream",
       "stream": "stdout",
       "text": [
        "\n",
        "[   37.25   766.5    870.25  1170.25]"
       ]
      },
      {
       "output_type": "stream",
       "stream": "stdout",
       "text": [
        "\n",
        "[[    0.  5200.  5200. ...,     0.     0.     0.]\n",
        " [    0.     0.  5199. ...,     0.     0.     0.]\n",
        " [    0.     0.     0. ...,     0.     0.     0.]\n",
        " ..., \n",
        " [    0.     0.     0. ...,     0.  4401.  4402.]\n",
        " [    0.     0.     0. ...,     0.     0.  4401.]\n",
        " [    0.     0.     0. ...,     0.     0.     0.]]\n",
        "8.27556300163"
       ]
      },
      {
       "output_type": "stream",
       "stream": "stdout",
       "text": [
        "\n",
        "8.45165205002"
       ]
      },
      {
       "output_type": "stream",
       "stream": "stdout",
       "text": [
        "\n",
        "8.78691387177"
       ]
      },
      {
       "output_type": "stream",
       "stream": "stdout",
       "text": [
        "\n",
        "8.75002098083"
       ]
      },
      {
       "output_type": "stream",
       "stream": "stdout",
       "text": [
        "\n",
        "8.8062081337"
       ]
      },
      {
       "output_type": "stream",
       "stream": "stdout",
       "text": [
        "\n",
        "8.74908494949"
       ]
      },
      {
       "output_type": "stream",
       "stream": "stdout",
       "text": [
        "\n",
        "8.75651884079"
       ]
      },
      {
       "output_type": "stream",
       "stream": "stdout",
       "text": [
        "\n",
        "8.78411579132"
       ]
      },
      {
       "output_type": "stream",
       "stream": "stdout",
       "text": [
        "\n",
        "8.73426413536"
       ]
      },
      {
       "output_type": "stream",
       "stream": "stdout",
       "text": [
        "\n",
        "8.74106478691"
       ]
      },
      {
       "output_type": "stream",
       "stream": "stdout",
       "text": [
        "\n",
        "[   60.25  1173.5   1332.25  1458.75  1901.    1946.25  1987.5   2219.\n",
        "  2411.5   2501.25  2610.25]"
       ]
      },
      {
       "output_type": "stream",
       "stream": "stdout",
       "text": [
        "\n",
        "45\n",
        "180\n",
        "1155\n",
        "4620"
       ]
      },
      {
       "output_type": "stream",
       "stream": "stdout",
       "text": [
        "\n",
        "1312\n",
        "5248\n",
        "106291\n",
        "4000\n",
        "8.32933402061"
       ]
      },
      {
       "output_type": "stream",
       "stream": "stdout",
       "text": [
        "\n",
        "[   37.    766.5   870.5  1171. ]"
       ]
      },
      {
       "output_type": "stream",
       "stream": "stdout",
       "text": [
        "\n",
        "[[    0.  5200.  5200. ...,     0.     0.     0.]\n",
        " [    0.     0.  5199. ...,     0.     0.     0.]\n",
        " [    0.     0.     0. ...,     0.     0.     0.]\n",
        " ..., \n",
        " [    0.     0.     0. ...,     0.  4401.  4402.]\n",
        " [    0.     0.     0. ...,     0.     0.  4401.]\n",
        " [    0.     0.     0. ...,     0.     0.     0.]]\n",
        "8.28448009491"
       ]
      },
      {
       "output_type": "stream",
       "stream": "stdout",
       "text": [
        "\n",
        "8.4635720253"
       ]
      },
      {
       "output_type": "stream",
       "stream": "stdout",
       "text": [
        "\n",
        "8.76307606697"
       ]
      },
      {
       "output_type": "stream",
       "stream": "stdout",
       "text": [
        "\n",
        "8.78265690804"
       ]
      },
      {
       "output_type": "stream",
       "stream": "stdout",
       "text": [
        "\n",
        "8.77118110657"
       ]
      },
      {
       "output_type": "stream",
       "stream": "stdout",
       "text": [
        "\n",
        "8.78485393524"
       ]
      },
      {
       "output_type": "stream",
       "stream": "stdout",
       "text": [
        "\n",
        "9.06534290314"
       ]
      },
      {
       "output_type": "stream",
       "stream": "stdout",
       "text": [
        "\n",
        "8.79906702042"
       ]
      },
      {
       "output_type": "stream",
       "stream": "stdout",
       "text": [
        "\n",
        "8.78467082977"
       ]
      },
      {
       "output_type": "stream",
       "stream": "stdout",
       "text": [
        "\n",
        "8.77613401413"
       ]
      },
      {
       "output_type": "stream",
       "stream": "stdout",
       "text": [
        "\n",
        "[   60.5     75.5   1173.5   1332.    1765.    1848.    1900.5   1989.\n",
        "  2014.25  2219.    2500.5   2611.75]"
       ]
      },
      {
       "output_type": "stream",
       "stream": "stdout",
       "text": [
        "\n",
        "45\n",
        "180\n",
        "1155\n",
        "4620\n",
        "1312"
       ]
      },
      {
       "output_type": "stream",
       "stream": "stdout",
       "text": [
        "\n",
        "5248\n",
        "106291\n",
        "4000\n",
        "8.33368182182"
       ]
      },
      {
       "output_type": "stream",
       "stream": "stdout",
       "text": [
        "\n",
        "[   37.    766.5   870.5  1171.5]"
       ]
      },
      {
       "output_type": "stream",
       "stream": "stdout",
       "text": [
        "\n",
        "[[    0.  5200.  5200. ...,     0.     0.     0.]\n",
        " [    0.     0.  5199. ...,     0.     0.     0.]\n",
        " [    0.     0.     0. ...,     0.     0.     0.]\n",
        " ..., \n",
        " [    0.     0.     0. ...,     0.  4401.  4402.]\n",
        " [    0.     0.     0. ...,     0.     0.  4401.]\n",
        " [    0.     0.     0. ...,     0.     0.     0.]]\n",
        "8.29547691345"
       ]
      },
      {
       "output_type": "stream",
       "stream": "stdout",
       "text": [
        "\n",
        "8.5356490612"
       ]
      },
      {
       "output_type": "stream",
       "stream": "stdout",
       "text": [
        "\n",
        "8.80757188797"
       ]
      },
      {
       "output_type": "stream",
       "stream": "stdout",
       "text": [
        "\n",
        "8.76694297791"
       ]
      },
      {
       "output_type": "stream",
       "stream": "stdout",
       "text": [
        "\n",
        "8.79025316238"
       ]
      },
      {
       "output_type": "stream",
       "stream": "stdout",
       "text": [
        "\n",
        "8.77561903"
       ]
      },
      {
       "output_type": "stream",
       "stream": "stdout",
       "text": [
        "\n",
        "8.77575516701"
       ]
      },
      {
       "output_type": "stream",
       "stream": "stdout",
       "text": [
        "\n",
        "8.78798794746"
       ]
      },
      {
       "output_type": "stream",
       "stream": "stdout",
       "text": [
        "\n",
        "8.77958393097"
       ]
      },
      {
       "output_type": "stream",
       "stream": "stdout",
       "text": [
        "\n",
        "8.77528715134"
       ]
      },
      {
       "output_type": "stream",
       "stream": "stdout",
       "text": [
        "\n",
        "[   60.5     75.5   1173.5   1332.    1458.5   1635.5   1810.    1822.\n",
        "  1830.75  2219.5   2500.5   2612.25]"
       ]
      },
      {
       "output_type": "stream",
       "stream": "stdout",
       "text": [
        "\n",
        "45\n",
        "180\n",
        "1155\n",
        "4620\n",
        "1312\n",
        "5248\n",
        "106291"
       ]
      },
      {
       "output_type": "stream",
       "stream": "stdout",
       "text": [
        "\n",
        "4000\n",
        "8.38050580025"
       ]
      },
      {
       "output_type": "stream",
       "stream": "stdout",
       "text": [
        "\n",
        "[   37.     766.5    870.5   1172.25]"
       ]
      },
      {
       "output_type": "stream",
       "stream": "stdout",
       "text": [
        "\n",
        "[[    0.  5200.  5200. ...,     0.     0.     0.]\n",
        " [    0.     0.  5199. ...,     0.     0.     0.]\n",
        " [    0.     0.     0. ...,     0.     0.     0.]\n",
        " ..., \n",
        " [    0.     0.     0. ...,     0.  4401.  4402.]\n",
        " [    0.     0.     0. ...,     0.     0.  4401.]\n",
        " [    0.     0.     0. ...,     0.     0.     0.]]\n",
        "8.29223299026"
       ]
      },
      {
       "output_type": "stream",
       "stream": "stdout",
       "text": [
        "\n",
        "8.48427414894"
       ]
      },
      {
       "output_type": "stream",
       "stream": "stdout",
       "text": [
        "\n",
        "8.79352593422"
       ]
      },
      {
       "output_type": "stream",
       "stream": "stdout",
       "text": [
        "\n",
        "8.76902794838"
       ]
      },
      {
       "output_type": "stream",
       "stream": "stdout",
       "text": [
        "\n",
        "8.81448507309"
       ]
      },
      {
       "output_type": "stream",
       "stream": "stdout",
       "text": [
        "\n",
        "8.80891394615"
       ]
      },
      {
       "output_type": "stream",
       "stream": "stdout",
       "text": [
        "\n",
        "8.78981208801"
       ]
      },
      {
       "output_type": "stream",
       "stream": "stdout",
       "text": [
        "\n",
        "8.79417204857"
       ]
      },
      {
       "output_type": "stream",
       "stream": "stdout",
       "text": [
        "\n",
        "8.77491903305"
       ]
      },
      {
       "output_type": "stream",
       "stream": "stdout",
       "text": [
        "\n",
        "8.80927395821"
       ]
      },
      {
       "output_type": "stream",
       "stream": "stdout",
       "text": [
        "\n",
        "[   60.5     75.5   1173.5   1332.    1458.75  1588.5   1833.75  1885.5\n",
        "  1923.    2219.5   2255.75  2612.25]"
       ]
      },
      {
       "output_type": "stream",
       "stream": "stdout",
       "text": [
        "\n",
        "45\n",
        "180\n",
        "1155\n",
        "4620\n",
        "1312\n",
        "5248\n",
        "106291"
       ]
      },
      {
       "output_type": "stream",
       "stream": "stdout",
       "text": [
        "\n",
        "4000\n",
        "8.35289907455"
       ]
      },
      {
       "output_type": "stream",
       "stream": "stdout",
       "text": [
        "\n",
        "[  37.   766.5  870.5]"
       ]
      },
      {
       "output_type": "stream",
       "stream": "stdout",
       "text": [
        "\n",
        "[[    0.  5200.  5200. ...,     0.     0.     0.]\n",
        " [    0.     0.  5199. ...,     0.     0.     0.]\n",
        " [    0.     0.     0. ...,     0.     0.     0.]\n",
        " ..., \n",
        " [    0.     0.     0. ...,     0.  4401.  4402.]\n",
        " [    0.     0.     0. ...,     0.     0.  4401.]\n",
        " [    0.     0.     0. ...,     0.     0.     0.]]\n",
        "8.2902200222"
       ]
      },
      {
       "output_type": "stream",
       "stream": "stdout",
       "text": [
        "\n",
        "8.51511502266"
       ]
      },
      {
       "output_type": "stream",
       "stream": "stdout",
       "text": [
        "\n",
        "8.79000616074"
       ]
      },
      {
       "output_type": "stream",
       "stream": "stdout",
       "text": [
        "\n",
        "8.79843997955"
       ]
      },
      {
       "output_type": "stream",
       "stream": "stdout",
       "text": [
        "\n",
        "8.83371686935"
       ]
      },
      {
       "output_type": "stream",
       "stream": "stdout",
       "text": [
        "\n",
        "8.82579898834"
       ]
      },
      {
       "output_type": "stream",
       "stream": "stdout",
       "text": [
        "\n",
        "8.80832600594"
       ]
      },
      {
       "output_type": "stream",
       "stream": "stdout",
       "text": [
        "\n",
        "8.78278493881"
       ]
      },
      {
       "output_type": "stream",
       "stream": "stdout",
       "text": [
        "\n",
        "8.80681204796"
       ]
      },
      {
       "output_type": "stream",
       "stream": "stdout",
       "text": [
        "\n",
        "8.7932100296"
       ]
      },
      {
       "output_type": "stream",
       "stream": "stdout",
       "text": [
        "\n",
        "[   60.5     75.5   1173.5   1332.    1458.75  1836.75  2500.75  2612.25]"
       ]
      },
      {
       "output_type": "stream",
       "stream": "stdout",
       "text": [
        "\n",
        "45\n",
        "180\n",
        "1155\n",
        "4620\n",
        "1312\n",
        "5248"
       ]
      },
      {
       "output_type": "stream",
       "stream": "stdout",
       "text": [
        "\n",
        "106291\n",
        "4000\n",
        "8.37581706047"
       ]
      },
      {
       "output_type": "stream",
       "stream": "stdout",
       "text": [
        "\n",
        "[  37.   766.5  870.5]"
       ]
      },
      {
       "output_type": "stream",
       "stream": "stdout",
       "text": [
        "\n",
        "[[    0.  5200.  5200. ...,     0.     0.     0.]\n",
        " [    0.     0.  5199. ...,     0.     0.     0.]\n",
        " [    0.     0.     0. ...,     0.     0.     0.]\n",
        " ..., \n",
        " [    0.     0.     0. ...,     0.  4401.  4402.]\n",
        " [    0.     0.     0. ...,     0.     0.  4401.]\n",
        " [    0.     0.     0. ...,     0.     0.     0.]]\n",
        "8.30547189713"
       ]
      },
      {
       "output_type": "stream",
       "stream": "stdout",
       "text": [
        "\n",
        "8.51449084282"
       ]
      },
      {
       "output_type": "stream",
       "stream": "stdout",
       "text": [
        "\n",
        "8.82073307037"
       ]
      },
      {
       "output_type": "stream",
       "stream": "stdout",
       "text": [
        "\n",
        "8.8007338047"
       ]
      },
      {
       "output_type": "stream",
       "stream": "stdout",
       "text": [
        "\n",
        "8.80884599686"
       ]
      },
      {
       "output_type": "stream",
       "stream": "stdout",
       "text": [
        "\n",
        "8.80796098709"
       ]
      },
      {
       "output_type": "stream",
       "stream": "stdout",
       "text": [
        "\n",
        "9.04540014267"
       ]
      },
      {
       "output_type": "stream",
       "stream": "stdout",
       "text": [
        "\n",
        "9.71052098274"
       ]
      },
      {
       "output_type": "stream",
       "stream": "stdout",
       "text": [
        "\n",
        "8.84737610817"
       ]
      },
      {
       "output_type": "stream",
       "stream": "stdout",
       "text": [
        "\n",
        "8.81433010101"
       ]
      },
      {
       "output_type": "stream",
       "stream": "stdout",
       "text": [
        "\n",
        "[   60.5     75.5   1173.5   1332.    1458.75  1839.75  1933.75  2612.25]"
       ]
      },
      {
       "output_type": "stream",
       "stream": "stdout",
       "text": [
        "\n",
        "45\n",
        "180\n",
        "1155\n",
        "4620\n",
        "1312"
       ]
      },
      {
       "output_type": "stream",
       "stream": "stdout",
       "text": [
        "\n",
        "5248\n",
        "106291\n",
        "4000\n",
        "8.37241482735"
       ]
      },
      {
       "output_type": "stream",
       "stream": "stdout",
       "text": [
        "\n",
        "[  37.   766.5  870.5]"
       ]
      },
      {
       "output_type": "stream",
       "stream": "stdout",
       "text": [
        "\n",
        "[[    0.  5200.  5200. ...,     0.     0.     0.]\n",
        " [    0.     0.  5199. ...,     0.     0.     0.]\n",
        " [    0.     0.     0. ...,     0.     0.     0.]\n",
        " ..., \n",
        " [    0.     0.     0. ...,     0.  4401.  4402.]\n",
        " [    0.     0.     0. ...,     0.     0.  4401.]\n",
        " [    0.     0.     0. ...,     0.     0.     0.]]\n",
        "8.31068396568"
       ]
      },
      {
       "output_type": "stream",
       "stream": "stdout",
       "text": [
        "\n",
        "8.53813695908"
       ]
      },
      {
       "output_type": "stream",
       "stream": "stdout",
       "text": [
        "\n",
        "8.8196439743"
       ]
      },
      {
       "output_type": "stream",
       "stream": "stdout",
       "text": [
        "\n",
        "8.7971470356"
       ]
      },
      {
       "output_type": "stream",
       "stream": "stdout",
       "text": [
        "\n",
        "8.8186070919"
       ]
      },
      {
       "output_type": "stream",
       "stream": "stdout",
       "text": [
        "\n",
        "8.81223917007"
       ]
      },
      {
       "output_type": "stream",
       "stream": "stdout",
       "text": [
        "\n",
        "8.81183409691"
       ]
      },
      {
       "output_type": "stream",
       "stream": "stdout",
       "text": [
        "\n",
        "8.831772089"
       ]
      },
      {
       "output_type": "stream",
       "stream": "stdout",
       "text": [
        "\n",
        "8.80102801323"
       ]
      },
      {
       "output_type": "stream",
       "stream": "stdout",
       "text": [
        "\n",
        "8.82251620293"
       ]
      },
      {
       "output_type": "stream",
       "stream": "stdout",
       "text": [
        "\n",
        "[   60.5     75.5   1173.5   1332.    1458.75  1783.25  1843.    1932.\n",
        "  1937.    2430.5   2436.25  2612.25]"
       ]
      },
      {
       "output_type": "stream",
       "stream": "stdout",
       "text": [
        "\n",
        "45\n",
        "180\n",
        "1155\n",
        "4620\n",
        "1312"
       ]
      },
      {
       "output_type": "stream",
       "stream": "stdout",
       "text": [
        "\n",
        "5248\n",
        "106291\n",
        "4000\n",
        "8.36929893494"
       ]
      },
      {
       "output_type": "stream",
       "stream": "stdout",
       "text": [
        "\n",
        "[  37.   766.5  870.5]"
       ]
      },
      {
       "output_type": "stream",
       "stream": "stdout",
       "text": [
        "\n",
        "[[    0.  5200.  5200. ...,     0.     0.     0.]\n",
        " [    0.     0.  5199. ...,     0.     0.     0.]\n",
        " [    0.     0.     0. ...,     0.     0.     0.]\n",
        " ..., \n",
        " [    0.     0.     0. ...,     0.  4401.  4402.]\n",
        " [    0.     0.     0. ...,     0.     0.  4401.]\n",
        " [    0.     0.     0. ...,     0.     0.     0.]]\n",
        "8.30165290833"
       ]
      },
      {
       "output_type": "stream",
       "stream": "stdout",
       "text": [
        "\n",
        "8.52327203751"
       ]
      },
      {
       "output_type": "stream",
       "stream": "stdout",
       "text": [
        "\n",
        "8.80238413811"
       ]
      },
      {
       "output_type": "stream",
       "stream": "stdout",
       "text": [
        "\n",
        "8.78022003174"
       ]
      },
      {
       "output_type": "stream",
       "stream": "stdout",
       "text": [
        "\n",
        "8.95618605614"
       ]
      },
      {
       "output_type": "stream",
       "stream": "stdout",
       "text": [
        "\n",
        "8.80291295052"
       ]
      },
      {
       "output_type": "stream",
       "stream": "stdout",
       "text": [
        "\n",
        "8.85025596619"
       ]
      },
      {
       "output_type": "stream",
       "stream": "stdout",
       "text": [
        "\n",
        "8.80543088913"
       ]
      },
      {
       "output_type": "stream",
       "stream": "stdout",
       "text": [
        "\n",
        "8.84497594833"
       ]
      },
      {
       "output_type": "stream",
       "stream": "stdout",
       "text": [
        "\n",
        "8.8618991375"
       ]
      },
      {
       "output_type": "stream",
       "stream": "stdout",
       "text": [
        "\n",
        "[   60.5     75.5   1173.5   1332.    1807.    1934.25  1940.    2063.75\n",
        "  2185.75  2190.    2500.75  2612.25]"
       ]
      },
      {
       "output_type": "stream",
       "stream": "stdout",
       "text": [
        "\n",
        "45\n",
        "180\n",
        "1155\n",
        "4620\n",
        "1312"
       ]
      },
      {
       "output_type": "stream",
       "stream": "stdout",
       "text": [
        "\n",
        "5248\n"
       ]
      }
     ],
     "prompt_number": 2
    },
    {
     "cell_type": "code",
     "collapsed": false,
     "input": [
      "for n in range(0,16):\n",
      "    print a9[n][6]/100., a9[n][4][2]**2, 2*np.sqrt(a9[n][5][2,2])*a9[n][4][2]"
     ],
     "language": "python",
     "metadata": {},
     "outputs": [
      {
       "ename": "IndexError",
       "evalue": "list index out of range",
       "output_type": "pyerr",
       "traceback": [
        "\u001b[0;31m---------------------------------------------------------------------------\u001b[0m\n\u001b[0;31mIndexError\u001b[0m                                Traceback (most recent call last)",
        "\u001b[0;32m<ipython-input-4-add3be8ca644>\u001b[0m in \u001b[0;36m<module>\u001b[0;34m()\u001b[0m\n\u001b[1;32m      1\u001b[0m \u001b[0;32mfor\u001b[0m \u001b[0mn\u001b[0m \u001b[0;32min\u001b[0m \u001b[0mrange\u001b[0m\u001b[0;34m(\u001b[0m\u001b[0;36m0\u001b[0m\u001b[0;34m,\u001b[0m\u001b[0;36m16\u001b[0m\u001b[0;34m)\u001b[0m\u001b[0;34m:\u001b[0m\u001b[0;34m\u001b[0m\u001b[0m\n\u001b[0;32m----> 2\u001b[0;31m     \u001b[0;32mprint\u001b[0m \u001b[0ma9\u001b[0m\u001b[0;34m[\u001b[0m\u001b[0mn\u001b[0m\u001b[0;34m]\u001b[0m\u001b[0;34m[\u001b[0m\u001b[0;36m6\u001b[0m\u001b[0;34m]\u001b[0m\u001b[0;34m/\u001b[0m\u001b[0;36m100.\u001b[0m\u001b[0;34m,\u001b[0m \u001b[0ma9\u001b[0m\u001b[0;34m[\u001b[0m\u001b[0mn\u001b[0m\u001b[0;34m]\u001b[0m\u001b[0;34m[\u001b[0m\u001b[0;36m4\u001b[0m\u001b[0;34m]\u001b[0m\u001b[0;34m[\u001b[0m\u001b[0;36m2\u001b[0m\u001b[0;34m]\u001b[0m\u001b[0;34m**\u001b[0m\u001b[0;36m2\u001b[0m\u001b[0;34m,\u001b[0m \u001b[0;36m2\u001b[0m\u001b[0;34m*\u001b[0m\u001b[0mnp\u001b[0m\u001b[0;34m.\u001b[0m\u001b[0msqrt\u001b[0m\u001b[0;34m(\u001b[0m\u001b[0ma9\u001b[0m\u001b[0;34m[\u001b[0m\u001b[0mn\u001b[0m\u001b[0;34m]\u001b[0m\u001b[0;34m[\u001b[0m\u001b[0;36m5\u001b[0m\u001b[0;34m]\u001b[0m\u001b[0;34m[\u001b[0m\u001b[0;36m2\u001b[0m\u001b[0;34m,\u001b[0m\u001b[0;36m2\u001b[0m\u001b[0;34m]\u001b[0m\u001b[0;34m)\u001b[0m\u001b[0;34m*\u001b[0m\u001b[0ma9\u001b[0m\u001b[0;34m[\u001b[0m\u001b[0mn\u001b[0m\u001b[0;34m]\u001b[0m\u001b[0;34m[\u001b[0m\u001b[0;36m4\u001b[0m\u001b[0;34m]\u001b[0m\u001b[0;34m[\u001b[0m\u001b[0;36m2\u001b[0m\u001b[0;34m]\u001b[0m\u001b[0;34m\u001b[0m\u001b[0m\n\u001b[0m",
        "\u001b[0;31mIndexError\u001b[0m: list index out of range"
       ]
      },
      {
       "output_type": "stream",
       "stream": "stdout",
       "text": [
        "0.15 8.90541029046 0.285944983075\n",
        "0.3 6.2315784708 0.143217397847\n",
        "0.45 5.8846388563 0.10548517441\n",
        "0.6 5.64400214993 0.0920573883286\n",
        "0.75 5.49494835633 0.0790144306243\n",
        "0.9 5.51128368739 0.0780304279709\n",
        "1.05 5.57766228809 0.0957252940376\n",
        "1.2 5.56072815841 0.101894985084\n",
        "1.35 5.62422112509 0.0867349449876\n",
        "1.5 5.6957772798 0.0846259263426\n"
       ]
      }
     ],
     "prompt_number": 4
    },
    {
     "cell_type": "code",
     "collapsed": false,
     "input": [
      "#retrieve widths\n",
      "for n in range (0,15):\n",
      "    print a9[n][0][2], a9[n][0][1], a9[n][6], a9[n][0][2]/a9[n][0][1]*100\n",
      "    print a9[n][2][2], a9[n][2][1], a9[n][6], a9[n][2][2]/a9[n][2][1]*100\n",
      "    print a9[n][4][2], a9[n][4][1], a9[n][6], a9[n][4][2]/a9[n][4][1]*100\n",
      "    print  a9[n][6], np.sqrt(a9[n][4][2]**2+a9[n][2][2]**2+a9[n][0][2]**2)\n",
      "    show()"
     ],
     "language": "python",
     "metadata": {},
     "outputs": [
      {
       "ename": "IndexError",
       "evalue": "list index out of range",
       "output_type": "pyerr",
       "traceback": [
        "\u001b[0;31m---------------------------------------------------------------------------\u001b[0m\n\u001b[0;31mIndexError\u001b[0m                                Traceback (most recent call last)",
        "\u001b[0;32m<ipython-input-5-0c7c31356c09>\u001b[0m in \u001b[0;36m<module>\u001b[0;34m()\u001b[0m\n\u001b[1;32m      1\u001b[0m \u001b[0;31m#retrieve widths\u001b[0m\u001b[0;34m\u001b[0m\u001b[0;34m\u001b[0m\u001b[0m\n\u001b[1;32m      2\u001b[0m \u001b[0;32mfor\u001b[0m \u001b[0mn\u001b[0m \u001b[0;32min\u001b[0m \u001b[0mrange\u001b[0m \u001b[0;34m(\u001b[0m\u001b[0;36m0\u001b[0m\u001b[0;34m,\u001b[0m\u001b[0;36m15\u001b[0m\u001b[0;34m)\u001b[0m\u001b[0;34m:\u001b[0m\u001b[0;34m\u001b[0m\u001b[0m\n\u001b[0;32m----> 3\u001b[0;31m     \u001b[0;32mprint\u001b[0m \u001b[0ma9\u001b[0m\u001b[0;34m[\u001b[0m\u001b[0mn\u001b[0m\u001b[0;34m]\u001b[0m\u001b[0;34m[\u001b[0m\u001b[0;36m0\u001b[0m\u001b[0;34m]\u001b[0m\u001b[0;34m[\u001b[0m\u001b[0;36m2\u001b[0m\u001b[0;34m]\u001b[0m\u001b[0;34m,\u001b[0m \u001b[0ma9\u001b[0m\u001b[0;34m[\u001b[0m\u001b[0mn\u001b[0m\u001b[0;34m]\u001b[0m\u001b[0;34m[\u001b[0m\u001b[0;36m0\u001b[0m\u001b[0;34m]\u001b[0m\u001b[0;34m[\u001b[0m\u001b[0;36m1\u001b[0m\u001b[0;34m]\u001b[0m\u001b[0;34m,\u001b[0m \u001b[0ma9\u001b[0m\u001b[0;34m[\u001b[0m\u001b[0mn\u001b[0m\u001b[0;34m]\u001b[0m\u001b[0;34m[\u001b[0m\u001b[0;36m6\u001b[0m\u001b[0;34m]\u001b[0m\u001b[0;34m,\u001b[0m \u001b[0ma9\u001b[0m\u001b[0;34m[\u001b[0m\u001b[0mn\u001b[0m\u001b[0;34m]\u001b[0m\u001b[0;34m[\u001b[0m\u001b[0;36m0\u001b[0m\u001b[0;34m]\u001b[0m\u001b[0;34m[\u001b[0m\u001b[0;36m2\u001b[0m\u001b[0;34m]\u001b[0m\u001b[0;34m/\u001b[0m\u001b[0ma9\u001b[0m\u001b[0;34m[\u001b[0m\u001b[0mn\u001b[0m\u001b[0;34m]\u001b[0m\u001b[0;34m[\u001b[0m\u001b[0;36m0\u001b[0m\u001b[0;34m]\u001b[0m\u001b[0;34m[\u001b[0m\u001b[0;36m1\u001b[0m\u001b[0;34m]\u001b[0m\u001b[0;34m*\u001b[0m\u001b[0;36m100\u001b[0m\u001b[0;34m\u001b[0m\u001b[0m\n\u001b[0m\u001b[1;32m      4\u001b[0m     \u001b[0;32mprint\u001b[0m \u001b[0ma9\u001b[0m\u001b[0;34m[\u001b[0m\u001b[0mn\u001b[0m\u001b[0;34m]\u001b[0m\u001b[0;34m[\u001b[0m\u001b[0;36m2\u001b[0m\u001b[0;34m]\u001b[0m\u001b[0;34m[\u001b[0m\u001b[0;36m2\u001b[0m\u001b[0;34m]\u001b[0m\u001b[0;34m,\u001b[0m \u001b[0ma9\u001b[0m\u001b[0;34m[\u001b[0m\u001b[0mn\u001b[0m\u001b[0;34m]\u001b[0m\u001b[0;34m[\u001b[0m\u001b[0;36m2\u001b[0m\u001b[0;34m]\u001b[0m\u001b[0;34m[\u001b[0m\u001b[0;36m1\u001b[0m\u001b[0;34m]\u001b[0m\u001b[0;34m,\u001b[0m \u001b[0ma9\u001b[0m\u001b[0;34m[\u001b[0m\u001b[0mn\u001b[0m\u001b[0;34m]\u001b[0m\u001b[0;34m[\u001b[0m\u001b[0;36m6\u001b[0m\u001b[0;34m]\u001b[0m\u001b[0;34m,\u001b[0m \u001b[0ma9\u001b[0m\u001b[0;34m[\u001b[0m\u001b[0mn\u001b[0m\u001b[0;34m]\u001b[0m\u001b[0;34m[\u001b[0m\u001b[0;36m2\u001b[0m\u001b[0;34m]\u001b[0m\u001b[0;34m[\u001b[0m\u001b[0;36m2\u001b[0m\u001b[0;34m]\u001b[0m\u001b[0;34m/\u001b[0m\u001b[0ma9\u001b[0m\u001b[0;34m[\u001b[0m\u001b[0mn\u001b[0m\u001b[0;34m]\u001b[0m\u001b[0;34m[\u001b[0m\u001b[0;36m2\u001b[0m\u001b[0;34m]\u001b[0m\u001b[0;34m[\u001b[0m\u001b[0;36m1\u001b[0m\u001b[0;34m]\u001b[0m\u001b[0;34m*\u001b[0m\u001b[0;36m100\u001b[0m\u001b[0;34m\u001b[0m\u001b[0m\n\u001b[1;32m      5\u001b[0m     \u001b[0;32mprint\u001b[0m \u001b[0ma9\u001b[0m\u001b[0;34m[\u001b[0m\u001b[0mn\u001b[0m\u001b[0;34m]\u001b[0m\u001b[0;34m[\u001b[0m\u001b[0;36m4\u001b[0m\u001b[0;34m]\u001b[0m\u001b[0;34m[\u001b[0m\u001b[0;36m2\u001b[0m\u001b[0;34m]\u001b[0m\u001b[0;34m,\u001b[0m \u001b[0ma9\u001b[0m\u001b[0;34m[\u001b[0m\u001b[0mn\u001b[0m\u001b[0;34m]\u001b[0m\u001b[0;34m[\u001b[0m\u001b[0;36m4\u001b[0m\u001b[0;34m]\u001b[0m\u001b[0;34m[\u001b[0m\u001b[0;36m1\u001b[0m\u001b[0;34m]\u001b[0m\u001b[0;34m,\u001b[0m \u001b[0ma9\u001b[0m\u001b[0;34m[\u001b[0m\u001b[0mn\u001b[0m\u001b[0;34m]\u001b[0m\u001b[0;34m[\u001b[0m\u001b[0;36m6\u001b[0m\u001b[0;34m]\u001b[0m\u001b[0;34m,\u001b[0m \u001b[0ma9\u001b[0m\u001b[0;34m[\u001b[0m\u001b[0mn\u001b[0m\u001b[0;34m]\u001b[0m\u001b[0;34m[\u001b[0m\u001b[0;36m4\u001b[0m\u001b[0;34m]\u001b[0m\u001b[0;34m[\u001b[0m\u001b[0;36m2\u001b[0m\u001b[0;34m]\u001b[0m\u001b[0;34m/\u001b[0m\u001b[0ma9\u001b[0m\u001b[0;34m[\u001b[0m\u001b[0mn\u001b[0m\u001b[0;34m]\u001b[0m\u001b[0;34m[\u001b[0m\u001b[0;36m4\u001b[0m\u001b[0;34m]\u001b[0m\u001b[0;34m[\u001b[0m\u001b[0;36m1\u001b[0m\u001b[0;34m]\u001b[0m\u001b[0;34m*\u001b[0m\u001b[0;36m100\u001b[0m\u001b[0;34m\u001b[0m\u001b[0m\n",
        "\u001b[0;31mIndexError\u001b[0m: list index out of range"
       ]
      },
      {
       "output_type": "stream",
       "stream": "stdout",
       "text": [
        "1.93032595997 60.2635786732 15 3.20313861617\n",
        "2.85301671088 1173.52966245 15 0.243114154007\n",
        "2.98419340701 1332.21183385 15 0.224002919894\n",
        "15 4.55755120155\n",
        "1.96627432498 60.4782325934 30 3.2512099654\n",
        "2.32585112339 1173.65207252 30 0.198172114024\n",
        "2.49631297533 1332.25983553 30 0.187374332601\n",
        "30 3.93794319919\n",
        "2.00137192059 60.2594340144 45 3.32125907474\n",
        "2.30033366939 1173.73286674 45 0.195984430067\n",
        "2.42582745806 1332.40894929 45 0.182063281649\n",
        "45 3.8963654104\n",
        "1.90594066763 60.6356356625 60 3.14326822306\n",
        "2.20067318595 1173.56129539 60 0.187520941138\n",
        "2.37571087254 1332.16331944 60 0.178334806091\n",
        "60 3.75760222081\n",
        "1.93202190006 60.6311538307 75 3.18651679541\n",
        "2.19781283931 1173.59003418 75 0.187272622917\n",
        "2.34413061844 1332.18813566 75 0.175960928918\n",
        "75 3.74940505351\n",
        "1.93771307181 60.6294884716 90 3.19599112686\n",
        "2.1979914098 1173.60431279 90 0.187285560034\n",
        "2.34761233755 1332.19997892 90 0.176220715711\n",
        "90 3.75462140217\n",
        "1.94393299048 60.6244631152 105 3.20651580334\n",
        "2.19794872283 1173.60080973 105 0.187282481796\n",
        "2.36170749419 1332.21121543 105 0.177277256551\n",
        "105 3.76663196341\n",
        "1.941260688 60.611277536 120 3.20280443989\n",
        "2.19813504986 1173.60338816 120 0.187297946823\n",
        "2.35811962343 1332.21463273 120 0.177007485544\n",
        "120 3.76311292876\n",
        "1.95083385134 60.5958407196 135 3.21941873927\n",
        "2.21847670695 1173.59822681 135 0.189032043188\n",
        "2.37154403819 1332.20044868 135 0.178017057459\n",
        "135 3.78835224602\n",
        "1.99270947251 60.5859690541 150 3.28906098825\n",
        "2.2212872683 1173.60205534 150 0.189270908158\n",
        "2.38658276198 1332.20439926 150 0.17914538965\n",
        "150 3.82109741435\n"
       ]
      }
     ],
     "prompt_number": 5
    },
    {
     "cell_type": "code",
     "collapsed": false,
     "input": [
      "#retrieve widths\n",
      "for n in range (0,17):\n",
      "    print a9[n][0][2], a9[n][0][1], (n+1)*100, a9[n][0][2]/a9[n][0][1]*100\n",
      "    print a9[n][2][2], a9[n][2][1], (n+1)*100, a9[n][2][2]/a9[n][2][1]*100\n",
      "    print a9[n][4][2], a9[n][4][1], (n+1)*100, a9[n][4][2]/a9[n][4][1]*100\n",
      "    print  a9[n][6]/100., np.sqrt(a9[n][4][2]**2+a9[n][2][2]**2+a9[n][0][2]**2)\n",
      "    show()"
     ],
     "language": "python",
     "metadata": {},
     "outputs": [
      {
       "ename": "IndexError",
       "evalue": "list index out of range",
       "output_type": "pyerr",
       "traceback": [
        "\u001b[0;31m---------------------------------------------------------------------------\u001b[0m\n\u001b[0;31mIndexError\u001b[0m                                Traceback (most recent call last)",
        "\u001b[0;32m<ipython-input-6-704f91e10b5d>\u001b[0m in \u001b[0;36m<module>\u001b[0;34m()\u001b[0m\n\u001b[1;32m      1\u001b[0m \u001b[0;31m#retrieve widths\u001b[0m\u001b[0;34m\u001b[0m\u001b[0;34m\u001b[0m\u001b[0m\n\u001b[1;32m      2\u001b[0m \u001b[0;32mfor\u001b[0m \u001b[0mn\u001b[0m \u001b[0;32min\u001b[0m \u001b[0mrange\u001b[0m \u001b[0;34m(\u001b[0m\u001b[0;36m0\u001b[0m\u001b[0;34m,\u001b[0m\u001b[0;36m17\u001b[0m\u001b[0;34m)\u001b[0m\u001b[0;34m:\u001b[0m\u001b[0;34m\u001b[0m\u001b[0m\n\u001b[0;32m----> 3\u001b[0;31m     \u001b[0;32mprint\u001b[0m \u001b[0ma9\u001b[0m\u001b[0;34m[\u001b[0m\u001b[0mn\u001b[0m\u001b[0;34m]\u001b[0m\u001b[0;34m[\u001b[0m\u001b[0;36m0\u001b[0m\u001b[0;34m]\u001b[0m\u001b[0;34m[\u001b[0m\u001b[0;36m2\u001b[0m\u001b[0;34m]\u001b[0m\u001b[0;34m,\u001b[0m \u001b[0ma9\u001b[0m\u001b[0;34m[\u001b[0m\u001b[0mn\u001b[0m\u001b[0;34m]\u001b[0m\u001b[0;34m[\u001b[0m\u001b[0;36m0\u001b[0m\u001b[0;34m]\u001b[0m\u001b[0;34m[\u001b[0m\u001b[0;36m1\u001b[0m\u001b[0;34m]\u001b[0m\u001b[0;34m,\u001b[0m \u001b[0;34m(\u001b[0m\u001b[0mn\u001b[0m\u001b[0;34m+\u001b[0m\u001b[0;36m1\u001b[0m\u001b[0;34m)\u001b[0m\u001b[0;34m*\u001b[0m\u001b[0;36m100\u001b[0m\u001b[0;34m,\u001b[0m \u001b[0ma9\u001b[0m\u001b[0;34m[\u001b[0m\u001b[0mn\u001b[0m\u001b[0;34m]\u001b[0m\u001b[0;34m[\u001b[0m\u001b[0;36m0\u001b[0m\u001b[0;34m]\u001b[0m\u001b[0;34m[\u001b[0m\u001b[0;36m2\u001b[0m\u001b[0;34m]\u001b[0m\u001b[0;34m/\u001b[0m\u001b[0ma9\u001b[0m\u001b[0;34m[\u001b[0m\u001b[0mn\u001b[0m\u001b[0;34m]\u001b[0m\u001b[0;34m[\u001b[0m\u001b[0;36m0\u001b[0m\u001b[0;34m]\u001b[0m\u001b[0;34m[\u001b[0m\u001b[0;36m1\u001b[0m\u001b[0;34m]\u001b[0m\u001b[0;34m*\u001b[0m\u001b[0;36m100\u001b[0m\u001b[0;34m\u001b[0m\u001b[0m\n\u001b[0m\u001b[1;32m      4\u001b[0m     \u001b[0;32mprint\u001b[0m \u001b[0ma9\u001b[0m\u001b[0;34m[\u001b[0m\u001b[0mn\u001b[0m\u001b[0;34m]\u001b[0m\u001b[0;34m[\u001b[0m\u001b[0;36m2\u001b[0m\u001b[0;34m]\u001b[0m\u001b[0;34m[\u001b[0m\u001b[0;36m2\u001b[0m\u001b[0;34m]\u001b[0m\u001b[0;34m,\u001b[0m \u001b[0ma9\u001b[0m\u001b[0;34m[\u001b[0m\u001b[0mn\u001b[0m\u001b[0;34m]\u001b[0m\u001b[0;34m[\u001b[0m\u001b[0;36m2\u001b[0m\u001b[0;34m]\u001b[0m\u001b[0;34m[\u001b[0m\u001b[0;36m1\u001b[0m\u001b[0;34m]\u001b[0m\u001b[0;34m,\u001b[0m \u001b[0;34m(\u001b[0m\u001b[0mn\u001b[0m\u001b[0;34m+\u001b[0m\u001b[0;36m1\u001b[0m\u001b[0;34m)\u001b[0m\u001b[0;34m*\u001b[0m\u001b[0;36m100\u001b[0m\u001b[0;34m,\u001b[0m \u001b[0ma9\u001b[0m\u001b[0;34m[\u001b[0m\u001b[0mn\u001b[0m\u001b[0;34m]\u001b[0m\u001b[0;34m[\u001b[0m\u001b[0;36m2\u001b[0m\u001b[0;34m]\u001b[0m\u001b[0;34m[\u001b[0m\u001b[0;36m2\u001b[0m\u001b[0;34m]\u001b[0m\u001b[0;34m/\u001b[0m\u001b[0ma9\u001b[0m\u001b[0;34m[\u001b[0m\u001b[0mn\u001b[0m\u001b[0;34m]\u001b[0m\u001b[0;34m[\u001b[0m\u001b[0;36m2\u001b[0m\u001b[0;34m]\u001b[0m\u001b[0;34m[\u001b[0m\u001b[0;36m1\u001b[0m\u001b[0;34m]\u001b[0m\u001b[0;34m*\u001b[0m\u001b[0;36m100\u001b[0m\u001b[0;34m\u001b[0m\u001b[0m\n\u001b[1;32m      5\u001b[0m     \u001b[0;32mprint\u001b[0m \u001b[0ma9\u001b[0m\u001b[0;34m[\u001b[0m\u001b[0mn\u001b[0m\u001b[0;34m]\u001b[0m\u001b[0;34m[\u001b[0m\u001b[0;36m4\u001b[0m\u001b[0;34m]\u001b[0m\u001b[0;34m[\u001b[0m\u001b[0;36m2\u001b[0m\u001b[0;34m]\u001b[0m\u001b[0;34m,\u001b[0m \u001b[0ma9\u001b[0m\u001b[0;34m[\u001b[0m\u001b[0mn\u001b[0m\u001b[0;34m]\u001b[0m\u001b[0;34m[\u001b[0m\u001b[0;36m4\u001b[0m\u001b[0;34m]\u001b[0m\u001b[0;34m[\u001b[0m\u001b[0;36m1\u001b[0m\u001b[0;34m]\u001b[0m\u001b[0;34m,\u001b[0m \u001b[0;34m(\u001b[0m\u001b[0mn\u001b[0m\u001b[0;34m+\u001b[0m\u001b[0;36m1\u001b[0m\u001b[0;34m)\u001b[0m\u001b[0;34m*\u001b[0m\u001b[0;36m100\u001b[0m\u001b[0;34m,\u001b[0m \u001b[0ma9\u001b[0m\u001b[0;34m[\u001b[0m\u001b[0mn\u001b[0m\u001b[0;34m]\u001b[0m\u001b[0;34m[\u001b[0m\u001b[0;36m4\u001b[0m\u001b[0;34m]\u001b[0m\u001b[0;34m[\u001b[0m\u001b[0;36m2\u001b[0m\u001b[0;34m]\u001b[0m\u001b[0;34m/\u001b[0m\u001b[0ma9\u001b[0m\u001b[0;34m[\u001b[0m\u001b[0mn\u001b[0m\u001b[0;34m]\u001b[0m\u001b[0;34m[\u001b[0m\u001b[0;36m4\u001b[0m\u001b[0;34m]\u001b[0m\u001b[0;34m[\u001b[0m\u001b[0;36m1\u001b[0m\u001b[0;34m]\u001b[0m\u001b[0;34m*\u001b[0m\u001b[0;36m100\u001b[0m\u001b[0;34m\u001b[0m\u001b[0m\n",
        "\u001b[0;31mIndexError\u001b[0m: list index out of range"
       ]
      },
      {
       "output_type": "stream",
       "stream": "stdout",
       "text": [
        "1.93032595997 60.2635786732 100 3.20313861617\n",
        "2.85301671088 1173.52966245 100 0.243114154007\n",
        "2.98419340701 1332.21183385 100 0.224002919894\n",
        "0.15 4.55755120155\n",
        "1.96627432498 60.4782325934 200 3.2512099654\n",
        "2.32585112339 1173.65207252 200 0.198172114024\n",
        "2.49631297533 1332.25983553 200 0.187374332601\n",
        "0.3 3.93794319919\n",
        "2.00137192059 60.2594340144 300 3.32125907474\n",
        "2.30033366939 1173.73286674 300 0.195984430067\n",
        "2.42582745806 1332.40894929 300 0.182063281649\n",
        "0.45 3.8963654104\n",
        "1.90594066763 60.6356356625 400 3.14326822306\n",
        "2.20067318595 1173.56129539 400 0.187520941138\n",
        "2.37571087254 1332.16331944 400 0.178334806091\n",
        "0.6 3.75760222081\n",
        "1.93202190006 60.6311538307 500 3.18651679541\n",
        "2.19781283931 1173.59003418 500 0.187272622917\n",
        "2.34413061844 1332.18813566 500 0.175960928918\n",
        "0.75 3.74940505351\n",
        "1.93771307181 60.6294884716 600 3.19599112686\n",
        "2.1979914098 1173.60431279 600 0.187285560034\n",
        "2.34761233755 1332.19997892 600 0.176220715711\n",
        "0.9 3.75462140217\n",
        "1.94393299048 60.6244631152 700 3.20651580334\n",
        "2.19794872283 1173.60080973 700 0.187282481796\n",
        "2.36170749419 1332.21121543 700 0.177277256551\n",
        "1.05 3.76663196341\n",
        "1.941260688 60.611277536 800 3.20280443989\n",
        "2.19813504986 1173.60338816 800 0.187297946823\n",
        "2.35811962343 1332.21463273 800 0.177007485544\n",
        "1.2 3.76311292876\n",
        "1.95083385134 60.5958407196 900 3.21941873927\n",
        "2.21847670695 1173.59822681 900 0.189032043188\n",
        "2.37154403819 1332.20044868 900 0.178017057459\n",
        "1.35 3.78835224602\n",
        "1.99270947251 60.5859690541 1000 3.28906098825\n",
        "2.2212872683 1173.60205534 1000 0.189270908158\n",
        "2.38658276198 1332.20439926 1000 0.17914538965\n",
        "1.5 3.82109741435\n"
       ]
      }
     ],
     "prompt_number": 6
    },
    {
     "cell_type": "code",
     "collapsed": false,
     "input": [
      "np.save(\"min_gap_t_shape_800.npy\",a9)\n",
      "#a9[1][1][2,2]"
     ],
     "language": "python",
     "metadata": {},
     "outputs": [],
     "prompt_number": 13
    },
    {
     "cell_type": "code",
     "collapsed": false,
     "input": [
      "calib_spectrum([34.5,712.5,809.5])\n",
      "plot(spectrum[1][1:],spectrum[0])\n",
      "show()"
     ],
     "language": "python",
     "metadata": {},
     "outputs": [],
     "prompt_number": 66
    },
    {
     "cell_type": "code",
     "collapsed": false,
     "input": [
      "\t# spectrum = histogram data to be fitted \n",
      "\t# x1 = start of fit region\n",
      "\t# x2 = end of fit region\n",
      "\t# area = start value of area\n",
      "\t# centroid = start value of centroid\n",
      "\t# fwhm = start value of fwhm\n",
      "\t# plot_flag = if set to 1 the result of the fit will be plotted\n",
      "#par=np.array()\n",
      "par1, cov1 = gaussfit(spectrum[0],spectrum[1][1:],50,70,1000,59,4,1)\n",
      "par2, cov2 = gaussfit(spectrum[0],spectrum[1][1:],1163,1183,1000,1173,4,1)\n",
      "par3, cov3 = gaussfit(spectrum[0],spectrum[1][1:],1322,1342,1000,1332,4,1)\n",
      "show()"
     ],
     "language": "python",
     "metadata": {},
     "outputs": [
      {
       "output_type": "stream",
       "stream": "stdout",
       "text": [
        "50\n",
        "200\n",
        "1163"
       ]
      },
      {
       "output_type": "stream",
       "stream": "stdout",
       "text": [
        "\n",
        "4652\n",
        "1322\n",
        "5288\n"
       ]
      }
     ],
     "prompt_number": 97
    },
    {
     "cell_type": "code",
     "collapsed": false,
     "input": [
      "print par1[2]\n",
      "print par2[2]\n",
      "print par3[2]"
     ],
     "language": "python",
     "metadata": {},
     "outputs": [
      {
       "output_type": "stream",
       "stream": "stdout",
       "text": [
        "1.56030436946\n",
        "4.6544739534\n",
        "4.56091918221\n"
       ]
      }
     ],
     "prompt_number": 98
    },
    {
     "cell_type": "code",
     "collapsed": false,
     "input": [
      "plot(spectrum[1][1:],spectrum[0])\n",
      "show()"
     ],
     "language": "python",
     "metadata": {},
     "outputs": [],
     "prompt_number": 99
    },
    {
     "cell_type": "code",
     "collapsed": false,
     "input": [
      "par1, cov1 = gaussfit(spectrum[0],spectrum[1][1:],50,70,1000,59,4,1)\n",
      "par2, cov2 = gaussfit(spectrum[0],spectrum[1][1:],1163,1183,1000,1173,4,1)\n",
      "par3, cov3 = gaussfit(spectrum[0],spectrum[1][1:],1322,1342,1000,1332,4,1)\n",
      "print par1[2]\n",
      "print par2[2]\n",
      "print par3[2]\n",
      "show()"
     ],
     "language": "python",
     "metadata": {},
     "outputs": [
      {
       "output_type": "stream",
       "stream": "stdout",
       "text": [
        "50\n",
        "200\n",
        "1163"
       ]
      },
      {
       "output_type": "stream",
       "stream": "stdout",
       "text": [
        "\n",
        "4652\n",
        "1322\n",
        "5288\n",
        "1.8071707823\n",
        "2.35383357376\n",
        "2.3963770274\n"
       ]
      }
     ],
     "prompt_number": 35
    },
    {
     "cell_type": "code",
     "collapsed": false,
     "input": [
      "216/59.\n",
      "4398./1173\n",
      "1/.2664\n"
     ],
     "language": "python",
     "metadata": {},
     "outputs": [
      {
       "metadata": {},
       "output_type": "pyout",
       "prompt_number": 42,
       "text": [
        "3.7537537537537533"
       ]
      }
     ],
     "prompt_number": 42
    },
    {
     "cell_type": "code",
     "collapsed": false,
     "input": [
      "par1"
     ],
     "language": "python",
     "metadata": {},
     "outputs": [
      {
       "metadata": {},
       "output_type": "pyout",
       "prompt_number": 79,
       "text": [
        "array([ 1927.8795852 ,    59.9198932 ,     1.92999257,   209.17792719,\n",
        "          -6.42854306])"
       ]
      }
     ],
     "prompt_number": 79
    },
    {
     "cell_type": "code",
     "collapsed": false,
     "input": [
      "f = load_data(\"/Users/bnrc/Desktop/NE_204_data/tailPulser_1V_RT100ns_FT50us.h5\")\n",
      "length = f.root.RawData.nrows;\n",
      "pulse_length = f.root.RawData.rowsize/4\n",
      "print length\n",
      "print pulse_length"
     ],
     "language": "python",
     "metadata": {},
     "outputs": [
      {
       "output_type": "stream",
       "stream": "stdout",
       "text": [
        "642\n",
        "20000\n"
       ]
      }
     ],
     "prompt_number": 3
    },
    {
     "cell_type": "code",
     "collapsed": false,
     "input": [
      "peaking_time = 800\n",
      "gap_time = 400\n",
      "cf = 4450\n",
      "a = create_trap_filter(pulse_length,peaking_time,gap_time,cf)\n",
      "\n",
      "spectra = np.histogram(0,bins=100000,range = (0,1000000))\n",
      "\n",
      "for chunk in range(10000, length, 10000):\n",
      "    g = read_n_m_lines(f,chunk-10000,chunk)\n",
      "    z = vector_product(g,a)\n",
      "    z = z/10000\n",
      "    #z = z/(peaking_time+gap_time)**2\n",
      "    #x = np.histogram(z[:,(pulse_length/2+peaking_time+3*gap_time/4)],bins = 5000,range = (0,5000))\n",
      "    x = np.histogram(np.amax(z,axis=1),bins = 100000,range = (0,1000000))\n",
      "    spectra[0][:] = np.add(spectra[0],x[0])\n",
      "#peaks = np.array(signal.find_peaks_cwt(x[0],np.arange(10,20),min_snr=4))\n",
      "#print peaks;\n",
      "#expected = np.array([59.,1173.,1332.])\n",
      "\n",
      "#spectra[1][:] = spectra[1][:]/np.average(peaks/expected)\n",
      "plot(spectra[1][1:],spectra[0])\n",
      "show()"
     ],
     "language": "python",
     "metadata": {},
     "outputs": [
      {
       "output_type": "stream",
       "stream": "stdout",
       "text": [
        "8.4426651001\n",
        "8.74446487427"
       ]
      },
      {
       "output_type": "stream",
       "stream": "stdout",
       "text": [
        "\n",
        "9.42308092117"
       ]
      },
      {
       "output_type": "stream",
       "stream": "stdout",
       "text": [
        "\n",
        "9.24422907829"
       ]
      },
      {
       "output_type": "stream",
       "stream": "stdout",
       "text": [
        "\n",
        "8.84256982803"
       ]
      },
      {
       "output_type": "stream",
       "stream": "stdout",
       "text": [
        "\n",
        "8.89071702957"
       ]
      },
      {
       "output_type": "stream",
       "stream": "stdout",
       "text": [
        "\n",
        "9.50005292892"
       ]
      },
      {
       "output_type": "stream",
       "stream": "stdout",
       "text": [
        "\n",
        "9.36748600006"
       ]
      },
      {
       "output_type": "stream",
       "stream": "stdout",
       "text": [
        "\n",
        "9.39426898956"
       ]
      },
      {
       "output_type": "stream",
       "stream": "stdout",
       "text": [
        "\n",
        "9.0524289608"
       ]
      },
      {
       "output_type": "stream",
       "stream": "stdout",
       "text": [
        "\n"
       ]
      }
     ],
     "prompt_number": 10
    },
    {
     "cell_type": "code",
     "collapsed": false,
     "input": [
      "peaks = np.array(signal.find_peaks_cwt(x[0],np.arange(10,20),min_snr=4))\n",
      "print peaks;\n",
      "plot(spectra[1][1:],spectra[0])\n",
      "show()"
     ],
     "language": "python",
     "metadata": {},
     "outputs": [
      {
       "output_type": "stream",
       "stream": "stdout",
       "text": [
        "[  985 19840 22301 22338 22428 22529 24533 25700 29199 29236 32013 32061\n",
        " 32094 32173 34898 34957]\n"
       ]
      }
     ],
     "prompt_number": 11
    },
    {
     "cell_type": "code",
     "collapsed": false,
     "input": [
      "plot(spectra[1][1:],spectra[0])\n",
      "show()"
     ],
     "language": "python",
     "metadata": {},
     "outputs": [],
     "prompt_number": 12
    },
    {
     "cell_type": "code",
     "collapsed": false,
     "input": [
      "for n in range(200,400):\n",
      "    plot(g[n,:])\n",
      "show()"
     ],
     "language": "python",
     "metadata": {},
     "outputs": [],
     "prompt_number": 8
    },
    {
     "cell_type": "code",
     "collapsed": false,
     "input": [
      "for n in range(0,8):\n",
      "    print int((n/1.2+1)**2*25)"
     ],
     "language": "python",
     "metadata": {},
     "outputs": [
      {
       "output_type": "stream",
       "stream": "stdout",
       "text": [
        "25\n",
        "84\n",
        "177\n",
        "306\n",
        "469\n",
        "667\n",
        "900\n",
        "1167\n"
       ]
      }
     ],
     "prompt_number": 14
    },
    {
     "cell_type": "code",
     "collapsed": false,
     "input": [],
     "language": "python",
     "metadata": {},
     "outputs": []
    }
   ],
   "metadata": {}
  }
 ]
}