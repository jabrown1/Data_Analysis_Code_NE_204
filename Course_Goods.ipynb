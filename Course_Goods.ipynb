{
 "metadata": {
  "name": ""
 },
 "nbformat": 3,
 "nbformat_minor": 0,
 "worksheets": [
  {
   "cells": [
    {
     "cell_type": "code",
     "collapsed": false,
     "input": [
      "from scipy.optimize import curve_fit\n",
      "from test_script import *\n",
      "f = load_data()\n",
      "length = f.root.RawData.nrows;\n",
      "g = read_n_m_lines(f,0,length)\n",
      "print length\n"
     ],
     "language": "python",
     "metadata": {},
     "outputs": [
      {
       "output_type": "stream",
       "stream": "stdout",
       "text": [
        "178296\n"
       ]
      }
     ],
     "prompt_number": 1
    },
    {
     "cell_type": "code",
     "collapsed": false,
     "input": [
      "a = create_trap_filter(2000,400,200,4467)\n",
      "x_data = np.linspace(0,10,2000)\n",
      "y_sum=np.zeros(1999);\n",
      "y_sum_2=np.zeros(1999)\n",
      "for chunk in range(10000, length, 10000):\n",
      "    g = read_n_m_lines(f,chunk-10000,chunk)\n",
      "    z = vector_product(g,a)\n",
      "    z = z/1.6666e8                                       \n",
      "    h = np.zeros(10000)\n",
      "    for n in range(10000):\n",
      "        \n",
      "        h[n] = z[n,1530];\n",
      "    y, x = np.histogram(h,x_data)\n",
      "    t = np.max(z,axis=1)\n",
      "    y_2, x = np.histogram(t,x_data)\n",
      "    y_sum = np.add(y_sum,y)\n",
      "    y_sum_2 = np.add(y_sum_2,y_2)\n",
      "plot(y_sum)\n",
      "plot(y_sum_2)\n",
      "show()"
     ],
     "language": "python",
     "metadata": {},
     "outputs": [
      {
       "output_type": "stream",
       "stream": "stdout",
       "text": [
        "4.38779211044\n",
        "4.3636469841"
       ]
      },
      {
       "output_type": "stream",
       "stream": "stdout",
       "text": [
        "\n",
        "4.37645602226"
       ]
      },
      {
       "output_type": "stream",
       "stream": "stdout",
       "text": [
        "\n",
        "4.37355899811"
       ]
      },
      {
       "output_type": "stream",
       "stream": "stdout",
       "text": [
        "\n",
        "4.37475204468"
       ]
      },
      {
       "output_type": "stream",
       "stream": "stdout",
       "text": [
        "\n",
        "4.37778282166"
       ]
      },
      {
       "output_type": "stream",
       "stream": "stdout",
       "text": [
        "\n",
        "4.37942385674"
       ]
      },
      {
       "output_type": "stream",
       "stream": "stdout",
       "text": [
        "\n",
        "4.39536309242"
       ]
      },
      {
       "output_type": "stream",
       "stream": "stdout",
       "text": [
        "\n",
        "4.37242794037"
       ]
      },
      {
       "output_type": "stream",
       "stream": "stdout",
       "text": [
        "\n",
        "4.39876794815"
       ]
      },
      {
       "output_type": "stream",
       "stream": "stdout",
       "text": [
        "\n",
        "4.38052892685"
       ]
      },
      {
       "output_type": "stream",
       "stream": "stdout",
       "text": [
        "\n",
        "4.41945886612"
       ]
      },
      {
       "output_type": "stream",
       "stream": "stdout",
       "text": [
        "\n",
        "4.38473582268"
       ]
      },
      {
       "output_type": "stream",
       "stream": "stdout",
       "text": [
        "\n",
        "4.38345885277"
       ]
      },
      {
       "output_type": "stream",
       "stream": "stdout",
       "text": [
        "\n",
        "4.3948340416"
       ]
      },
      {
       "output_type": "stream",
       "stream": "stdout",
       "text": [
        "\n",
        "4.37293100357"
       ]
      },
      {
       "output_type": "stream",
       "stream": "stdout",
       "text": [
        "\n",
        "4.36414885521"
       ]
      },
      {
       "output_type": "stream",
       "stream": "stdout",
       "text": [
        "\n"
       ]
      }
     ],
     "prompt_number": 3
    },
    {
     "cell_type": "code",
     "collapsed": false,
     "input": [
      "%load test_script.py"
     ],
     "language": "python",
     "metadata": {},
     "outputs": [],
     "prompt_number": 2
    },
    {
     "cell_type": "code",
     "collapsed": false,
     "input": [
      "import tables\n",
      "import sys\n",
      "import numpy as np;\n",
      "import time;\n",
      "from matplotlib.pyplot import *\n",
      "\n",
      "def create_avg_filter(pl,p,g,cf):\n",
      "    a=np.zeros((pl,pl));\n",
      "    for n in range(0,pl):\n",
      "        if (n<=p):\n",
      "            for j in range(0,n):\n",
      "                a[j,n]=p;\n",
      "        elif (n<p+g):\n",
      "            for j in range(0,n):\n",
      "                a[j,n]=0;\n",
      "            for k in range(0,n-p):\n",
      "                a[k,n]=p;\n",
      "\n",
      "        elif (n<2*p+g):\n",
      "            for j in range(n-p,n):\n",
      "                a[j,n]=p;\n",
      "            for k in range(n-p-g,n-p):\n",
      "                a[k,n]=0;\n",
      "            for l in range(0,n-p-g):\n",
      "                a[l,n]=-p;\n",
      "        else:\n",
      "            v=p;\n",
      "            for j in range(n-p,n):\n",
      "                a[j,n]=cf*p+cf*v;\n",
      "                v-=1;\n",
      "            for k in range(n-p-g,n-p):\n",
      "                a[k,n]=cf*p;\n",
      "            v=-p;\n",
      "            for l in range(n-(2*p+g),n-(p+g)):\n",
      "                a[l,n]=cf*v;\n",
      "                v+=1;\n",
      "    return a;\n",
      "\n",
      "def create_trap_filter(pl,p,g,cf):\n",
      "    a=np.zeros((pl,pl));\n",
      "    for n in range(0,pl):\n",
      "        if (n<=p):\n",
      "            v=p;\n",
      "            for j in range(0,n):\n",
      "                a[j,n]=cf+v;\n",
      "                v-=1;\n",
      "        elif (n<p+g):\n",
      "            v=p;\n",
      "            for j in range(0,n):\n",
      "                a[j,n]=cf+v;\n",
      "                v-=1;\n",
      "            for k in range(0,n-p):\n",
      "                a[k,n]=p;\n",
      "\n",
      "        elif (n<2*p+g):\n",
      "            v=p;\n",
      "            for j in range(n-p,n):\n",
      "                a[j,n]=cf+v;\n",
      "                v-=1;\n",
      "            for k in range(n-p-g,n-p):\n",
      "                a[k,n]=p;\n",
      "            v=-(g+cf)\n",
      "            for l in range(0,n-p-g):\n",
      "                a[l,n]=-l;\n",
      "                v+=1;\n",
      "        else:\n",
      "            v=p;\n",
      "            for j in range(n-p,n):\n",
      "                a[j,n]=cf+v;\n",
      "                v-=1;\n",
      "            for k in range(n-p-g,n-p):\n",
      "                a[k,n]=p;\n",
      "            v=-(g+cf);\n",
      "            for l in range(n-(2*p+g),n-p-g):\n",
      "                a[l,n]=v;\n",
      "                v+=1;\n",
      "    return a;\n",
      "\n",
      "def load_data():\n",
      "\thf = tables.openFile(\"/Users/Anders/Documents/Courses/NE 204/JB_AP_CO_60_2000_samples_092413.h5\");\n",
      "\treturn hf;\n",
      "\n",
      "def read_n_m_lines(f,n,m):\n",
      "\t\n",
      "\tg = f.root.RawData.read(n,m);\n",
      "\n",
      "\tfor i in range(0,m-n):\n",
      "\t\tg[i,:]-=np.average(g[i,0:800]);\n",
      "                  \n",
      "\treturn g;\n",
      " \n",
      "                  \n",
      "def vector_product(x,y):\n",
      "    start=time.time();\n",
      "    z = np.dot(x,y);\n",
      "    end=time.time();\n",
      "    print end-start;\n",
      "    return z;\n",
      "\n",
      "\n",
      "\t\t\n",
      "\n"
     ],
     "language": "python",
     "metadata": {},
     "outputs": []
    },
    {
     "cell_type": "code",
     "collapsed": false,
     "input": [],
     "language": "python",
     "metadata": {},
     "outputs": []
    }
   ],
   "metadata": {}
  }
 ]
}