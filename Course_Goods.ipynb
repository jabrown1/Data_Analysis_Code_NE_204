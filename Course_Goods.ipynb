{
 "metadata": {
  "name": "Course_Goods"
 },
 "nbformat": 3,
 "nbformat_minor": 0,
 "worksheets": [
  {
   "cells": [
    {
     "cell_type": "code",
     "collapsed": false,
     "input": [
      "from scipy.optimize import curve_fit\n",
      "from test_script import *\n",
      "f = load_data()\n",
      "length = f.root.RawData.nrows;\n",
      "g = read_n_m_lines(f,0,length)\n",
      "print length\n"
     ],
     "language": "python",
     "metadata": {},
     "outputs": [
      {
       "output_type": "stream",
       "stream": "stdout",
       "text": [
        "178296\n"
       ]
      }
     ],
     "prompt_number": 3
    },
    {
     "cell_type": "code",
     "collapsed": false,
     "input": [
      "a = create_trap_filter(2000,400,200,4467)\n",
      "x_data = np.linspace(0,10,2000)\n",
      "y_sum=np.zeros(1999);\n",
      "y_sum_2=np.zeros(1999)\n",
      "for chunk in range(10000, length, 10000):\n",
      "    g = read_n_m_lines(f,chunk-10000,chunk)\n",
      "    z = vector_product(g,a)\n",
      "    z = z/1.6666e8                                       \n",
      "    h = np.zeros(10000)\n",
      "    for n in range(10000):\n",
      "        \n",
      "        h[n] = z[n,1530]; \n",
      "    y, x = np.histogram(h,x_data)\n",
      "    t = np.max(z,axis=1)\n",
      "    y_2, x = np.histogram(t,x_data)\n",
      "    y_sum = np.add(y_sum,y)\n",
      "    y_sum_2 = np.add(y_sum_2,y_2)\n",
      "plot(y_sum)\n",
      "plot(y_sum_2)\n",
      "show()"
     ],
     "language": "python",
     "metadata": {},
     "outputs": [
      {
       "output_type": "stream",
       "stream": "stdout",
       "text": [
        "2.0966899395\n",
        "2.09653282166"
       ]
      },
      {
       "output_type": "stream",
       "stream": "stdout",
       "text": [
        "\n",
        "2.14610886574"
       ]
      },
      {
       "output_type": "stream",
       "stream": "stdout",
       "text": [
        "\n",
        "2.14593815804"
       ]
      },
      {
       "output_type": "stream",
       "stream": "stdout",
       "text": [
        "\n",
        "2.10944390297"
       ]
      },
      {
       "output_type": "stream",
       "stream": "stdout",
       "text": [
        "\n",
        "2.13797903061"
       ]
      },
      {
       "output_type": "stream",
       "stream": "stdout",
       "text": [
        "\n",
        "2.13389515877"
       ]
      },
      {
       "output_type": "stream",
       "stream": "stdout",
       "text": [
        "\n",
        "2.16146492958"
       ]
      },
      {
       "output_type": "stream",
       "stream": "stdout",
       "text": [
        "\n",
        "2.22753620148"
       ]
      },
      {
       "output_type": "stream",
       "stream": "stdout",
       "text": [
        "\n",
        "2.21576786041"
       ]
      },
      {
       "output_type": "stream",
       "stream": "stdout",
       "text": [
        "\n",
        "2.15512895584"
       ]
      },
      {
       "output_type": "stream",
       "stream": "stdout",
       "text": [
        "\n",
        "2.17046785355"
       ]
      },
      {
       "output_type": "stream",
       "stream": "stdout",
       "text": [
        "\n",
        "2.1561050415"
       ]
      },
      {
       "output_type": "stream",
       "stream": "stdout",
       "text": [
        "\n",
        "2.14884400368"
       ]
      },
      {
       "output_type": "stream",
       "stream": "stdout",
       "text": [
        "\n",
        "2.14862203598"
       ]
      },
      {
       "output_type": "stream",
       "stream": "stdout",
       "text": [
        "\n",
        "2.15717697144"
       ]
      },
      {
       "output_type": "stream",
       "stream": "stdout",
       "text": [
        "\n",
        "2.15387392044"
       ]
      },
      {
       "output_type": "stream",
       "stream": "stdout",
       "text": [
        "\n"
       ]
      },
      {
       "output_type": "pyout",
       "prompt_number": 10,
       "text": [
        "[<matplotlib.lines.Line2D at 0x111bd8c50>]"
       ]
      }
     ],
     "prompt_number": 10
    }
   ],
   "metadata": {}
  }
 ]
}