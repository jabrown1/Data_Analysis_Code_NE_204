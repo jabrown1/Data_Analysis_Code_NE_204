{
 "metadata": {
  "name": ""
 },
 "nbformat": 3,
 "nbformat_minor": 0,
 "worksheets": [
  {
   "cells": [
    {
     "cell_type": "code",
     "collapsed": false,
     "input": [
      "import pandas as pd\n",
      "import numpy as np"
     ],
     "language": "python",
     "metadata": {},
     "outputs": [],
     "prompt_number": 5
    },
    {
     "cell_type": "code",
     "collapsed": false,
     "input": [
      "s = pd.Series([1,2,3,4,5])\n",
      "s"
     ],
     "language": "python",
     "metadata": {},
     "outputs": [
      {
       "metadata": {},
       "output_type": "pyout",
       "prompt_number": 2,
       "text": [
        "0    1\n",
        "1    2\n",
        "2    3\n",
        "3    4\n",
        "4    5\n",
        "dtype: int64"
       ]
      }
     ],
     "prompt_number": 2
    },
    {
     "cell_type": "code",
     "collapsed": false,
     "input": [
      "s.index"
     ],
     "language": "python",
     "metadata": {},
     "outputs": [
      {
       "metadata": {},
       "output_type": "pyout",
       "prompt_number": 3,
       "text": [
        "Int64Index([0, 1, 2, 3, 4], dtype=int64)"
       ]
      }
     ],
     "prompt_number": 3
    },
    {
     "cell_type": "code",
     "collapsed": false,
     "input": [
      "s.values"
     ],
     "language": "python",
     "metadata": {},
     "outputs": [
      {
       "metadata": {},
       "output_type": "pyout",
       "prompt_number": 4,
       "text": [
        "array([1, 2, 3, 4, 5])"
       ]
      }
     ],
     "prompt_number": 4
    },
    {
     "cell_type": "code",
     "collapsed": false,
     "input": [
      "s2 = pd.Series([1,2,3,4,5], index=['one','two','three','four','five'])"
     ],
     "language": "python",
     "metadata": {},
     "outputs": [],
     "prompt_number": 5
    },
    {
     "cell_type": "code",
     "collapsed": false,
     "input": [
      "s2[['one','three','two']]"
     ],
     "language": "python",
     "metadata": {},
     "outputs": [
      {
       "metadata": {},
       "output_type": "pyout",
       "prompt_number": 10,
       "text": [
        "one      1\n",
        "three    3\n",
        "two      2\n",
        "dtype: int64"
       ]
      }
     ],
     "prompt_number": 10
    },
    {
     "cell_type": "code",
     "collapsed": false,
     "input": [
      "s3 = s2[:3]"
     ],
     "language": "python",
     "metadata": {},
     "outputs": [],
     "prompt_number": 17
    },
    {
     "cell_type": "code",
     "collapsed": false,
     "input": [
      "s3"
     ],
     "language": "python",
     "metadata": {},
     "outputs": [
      {
       "metadata": {},
       "output_type": "pyout",
       "prompt_number": 18,
       "text": [
        "one      1\n",
        "two      2\n",
        "three    3\n",
        "dtype: int64"
       ]
      }
     ],
     "prompt_number": 18
    },
    {
     "cell_type": "code",
     "collapsed": false,
     "input": [
      "s3.to_dict()"
     ],
     "language": "python",
     "metadata": {},
     "outputs": [
      {
       "metadata": {},
       "output_type": "pyout",
       "prompt_number": 19,
       "text": [
        "{'one': 1, 'three': 3, 'two': 2}"
       ]
      }
     ],
     "prompt_number": 19
    },
    {
     "cell_type": "code",
     "collapsed": false,
     "input": [
      "pd.Series(s3.to_dict())"
     ],
     "language": "python",
     "metadata": {},
     "outputs": [
      {
       "metadata": {},
       "output_type": "pyout",
       "prompt_number": 20,
       "text": [
        "one      1\n",
        "three    3\n",
        "two      2\n",
        "dtype: int64"
       ]
      }
     ],
     "prompt_number": 20
    },
    {
     "cell_type": "code",
     "collapsed": false,
     "input": [
      "df = pd.DataFrame({'A':s2, 'B':s3})\n",
      "df"
     ],
     "language": "python",
     "metadata": {},
     "outputs": [
      {
       "html": [
        "<div style=\"max-height:1000px;max-width:1500px;overflow:auto;\">\n",
        "<table border=\"1\" class=\"dataframe\">\n",
        "  <thead>\n",
        "    <tr style=\"text-align: right;\">\n",
        "      <th></th>\n",
        "      <th>A</th>\n",
        "      <th>B</th>\n",
        "    </tr>\n",
        "  </thead>\n",
        "  <tbody>\n",
        "    <tr>\n",
        "      <th>five</th>\n",
        "      <td> 5</td>\n",
        "      <td>NaN</td>\n",
        "    </tr>\n",
        "    <tr>\n",
        "      <th>four</th>\n",
        "      <td> 4</td>\n",
        "      <td>NaN</td>\n",
        "    </tr>\n",
        "    <tr>\n",
        "      <th>one</th>\n",
        "      <td> 1</td>\n",
        "      <td>  1</td>\n",
        "    </tr>\n",
        "    <tr>\n",
        "      <th>three</th>\n",
        "      <td> 3</td>\n",
        "      <td>  3</td>\n",
        "    </tr>\n",
        "    <tr>\n",
        "      <th>two</th>\n",
        "      <td> 2</td>\n",
        "      <td>  2</td>\n",
        "    </tr>\n",
        "  </tbody>\n",
        "</table>\n",
        "</div>"
       ],
       "metadata": {},
       "output_type": "pyout",
       "prompt_number": 22,
       "text": [
        "       A   B\n",
        "five   5 NaN\n",
        "four   4 NaN\n",
        "one    1   1\n",
        "three  3   3\n",
        "two    2   2"
       ]
      }
     ],
     "prompt_number": 22
    },
    {
     "cell_type": "code",
     "collapsed": false,
     "input": [
      "df.ix['four']"
     ],
     "language": "python",
     "metadata": {},
     "outputs": [
      {
       "metadata": {},
       "output_type": "pyout",
       "prompt_number": 26,
       "text": [
        "A     4\n",
        "B   NaN\n",
        "Name: four, dtype: float64"
       ]
      }
     ],
     "prompt_number": 26
    },
    {
     "cell_type": "code",
     "collapsed": false,
     "input": [
      "df.index"
     ],
     "language": "python",
     "metadata": {},
     "outputs": [
      {
       "metadata": {},
       "output_type": "pyout",
       "prompt_number": 27,
       "text": [
        "Index([five, four, one, three, two], dtype=object)"
       ]
      }
     ],
     "prompt_number": 27
    },
    {
     "cell_type": "code",
     "collapsed": false,
     "input": [
      "df.values"
     ],
     "language": "python",
     "metadata": {},
     "outputs": [
      {
       "metadata": {},
       "output_type": "pyout",
       "prompt_number": 28,
       "text": [
        "array([[  5.,  nan],\n",
        "       [  4.,  nan],\n",
        "       [  1.,   1.],\n",
        "       [  3.,   3.],\n",
        "       [  2.,   2.]])"
       ]
      }
     ],
     "prompt_number": 28
    },
    {
     "cell_type": "code",
     "collapsed": false,
     "input": [
      "fred = pd.read_csv('../fred_fx.csv')"
     ],
     "language": "python",
     "metadata": {},
     "outputs": [],
     "prompt_number": 6
    },
    {
     "cell_type": "code",
     "collapsed": false,
     "input": [
      "fred.head(n=10d)"
     ],
     "language": "python",
     "metadata": {},
     "outputs": [
      {
       "html": [
        "<div style=\"max-height:1000px;max-width:1500px;overflow:auto;\">\n",
        "<table border=\"1\" class=\"dataframe\">\n",
        "  <thead>\n",
        "    <tr style=\"text-align: right;\">\n",
        "      <th></th>\n",
        "      <th>DATE</th>\n",
        "      <th>EXJPUS</th>\n",
        "      <th>INTGSBJPM193N</th>\n",
        "      <th>TB6MS</th>\n",
        "    </tr>\n",
        "  </thead>\n",
        "  <tbody>\n",
        "    <tr>\n",
        "      <th>0</th>\n",
        "      <td> 1990-01-01 00:00:00</td>\n",
        "      <td> 144.9819</td>\n",
        "      <td> 6.64</td>\n",
        "      <td> 7.55</td>\n",
        "    </tr>\n",
        "    <tr>\n",
        "      <th>1</th>\n",
        "      <td> 1990-02-01 00:00:00</td>\n",
        "      <td> 145.6932</td>\n",
        "      <td> 6.92</td>\n",
        "      <td> 7.70</td>\n",
        "    </tr>\n",
        "    <tr>\n",
        "      <th>2</th>\n",
        "      <td> 1990-03-01 00:00:00</td>\n",
        "      <td> 153.3082</td>\n",
        "      <td> 7.36</td>\n",
        "      <td> 7.85</td>\n",
        "    </tr>\n",
        "    <tr>\n",
        "      <th>3</th>\n",
        "      <td> 1990-04-01 00:00:00</td>\n",
        "      <td> 158.4586</td>\n",
        "      <td> 7.24</td>\n",
        "      <td> 7.84</td>\n",
        "    </tr>\n",
        "    <tr>\n",
        "      <th>4</th>\n",
        "      <td> 1990-05-01 00:00:00</td>\n",
        "      <td> 154.0441</td>\n",
        "      <td> 6.70</td>\n",
        "      <td> 7.76</td>\n",
        "    </tr>\n",
        "    <tr>\n",
        "      <th>5</th>\n",
        "      <td> 1990-06-01 00:00:00</td>\n",
        "      <td> 153.6957</td>\n",
        "      <td> 7.06</td>\n",
        "      <td> 7.63</td>\n",
        "    </tr>\n",
        "    <tr>\n",
        "      <th>6</th>\n",
        "      <td> 1990-07-01 00:00:00</td>\n",
        "      <td> 149.0395</td>\n",
        "      <td> 7.48</td>\n",
        "      <td> 7.52</td>\n",
        "    </tr>\n",
        "    <tr>\n",
        "      <th>7</th>\n",
        "      <td> 1990-08-01 00:00:00</td>\n",
        "      <td> 147.4609</td>\n",
        "      <td> 8.19</td>\n",
        "      <td> 7.38</td>\n",
        "    </tr>\n",
        "    <tr>\n",
        "      <th>8</th>\n",
        "      <td> 1990-09-01 00:00:00</td>\n",
        "      <td> 138.4405</td>\n",
        "      <td> 8.62</td>\n",
        "      <td> 7.32</td>\n",
        "    </tr>\n",
        "    <tr>\n",
        "      <th>9</th>\n",
        "      <td> 1990-10-01 00:00:00</td>\n",
        "      <td> 129.5909</td>\n",
        "      <td> 7.68</td>\n",
        "      <td> 7.16</td>\n",
        "    </tr>\n",
        "  </tbody>\n",
        "</table>\n",
        "</div>"
       ],
       "metadata": {},
       "output_type": "pyout",
       "prompt_number": 32,
       "text": [
        "                  DATE    EXJPUS  INTGSBJPM193N  TB6MS\n",
        "0  1990-01-01 00:00:00  144.9819           6.64   7.55\n",
        "1  1990-02-01 00:00:00  145.6932           6.92   7.70\n",
        "2  1990-03-01 00:00:00  153.3082           7.36   7.85\n",
        "3  1990-04-01 00:00:00  158.4586           7.24   7.84\n",
        "4  1990-05-01 00:00:00  154.0441           6.70   7.76\n",
        "5  1990-06-01 00:00:00  153.6957           7.06   7.63\n",
        "6  1990-07-01 00:00:00  149.0395           7.48   7.52\n",
        "7  1990-08-01 00:00:00  147.4609           8.19   7.38\n",
        "8  1990-09-01 00:00:00  138.4405           8.62   7.32\n",
        "9  1990-10-01 00:00:00  129.5909           7.68   7.16"
       ]
      }
     ],
     "prompt_number": 32
    },
    {
     "cell_type": "code",
     "collapsed": false,
     "input": [
      "fred.DATE[:5]"
     ],
     "language": "python",
     "metadata": {},
     "outputs": [
      {
       "metadata": {},
       "output_type": "pyout",
       "prompt_number": 38,
       "text": [
        "0    1990-01-01 00:00:00\n",
        "1    1990-02-01 00:00:00\n",
        "2    1990-03-01 00:00:00\n",
        "3    1990-04-01 00:00:00\n",
        "4    1990-05-01 00:00:00\n",
        "Name: DATE, dtype: object"
       ]
      }
     ],
     "prompt_number": 38
    },
    {
     "cell_type": "code",
     "collapsed": false,
     "input": [
      "# Several ways to convert the data\n",
      "\n",
      "import dateutil.parser as parser\n",
      "from datetime import datetime\n",
      "\n",
      "print parser.parse(fred.DATE[0])\n",
      "\n",
      "print datetime.strptime(fred.DATE[0], format='%Y/%M/%D %H-%M-%S')"
     ],
     "language": "python",
     "metadata": {},
     "outputs": [
      {
       "ename": "TypeError",
       "evalue": "strptime() takes no keyword arguments",
       "output_type": "pyerr",
       "traceback": [
        "\u001b[0;31m---------------------------------------------------------------------------\u001b[0m\n\u001b[0;31mTypeError\u001b[0m                                 Traceback (most recent call last)",
        "\u001b[0;32m<ipython-input-47-64f40628a0a7>\u001b[0m in \u001b[0;36m<module>\u001b[0;34m()\u001b[0m\n\u001b[1;32m      6\u001b[0m \u001b[0;32mprint\u001b[0m \u001b[0mparser\u001b[0m\u001b[0;34m.\u001b[0m\u001b[0mparse\u001b[0m\u001b[0;34m(\u001b[0m\u001b[0mfred\u001b[0m\u001b[0;34m.\u001b[0m\u001b[0mDATE\u001b[0m\u001b[0;34m[\u001b[0m\u001b[0;36m0\u001b[0m\u001b[0;34m]\u001b[0m\u001b[0;34m)\u001b[0m\u001b[0;34m\u001b[0m\u001b[0m\n\u001b[1;32m      7\u001b[0m \u001b[0;34m\u001b[0m\u001b[0m\n\u001b[0;32m----> 8\u001b[0;31m \u001b[0;32mprint\u001b[0m \u001b[0mdatetime\u001b[0m\u001b[0;34m.\u001b[0m\u001b[0mstrptime\u001b[0m\u001b[0;34m(\u001b[0m\u001b[0mfred\u001b[0m\u001b[0;34m.\u001b[0m\u001b[0mDATE\u001b[0m\u001b[0;34m[\u001b[0m\u001b[0;36m0\u001b[0m\u001b[0;34m]\u001b[0m\u001b[0;34m,\u001b[0m \u001b[0mformat\u001b[0m\u001b[0;34m=\u001b[0m\u001b[0;34m'%Y/%M/%D %H-%M-%S'\u001b[0m\u001b[0;34m)\u001b[0m\u001b[0;34m\u001b[0m\u001b[0m\n\u001b[0m",
        "\u001b[0;31mTypeError\u001b[0m: strptime() takes no keyword arguments"
       ]
      },
      {
       "output_type": "stream",
       "stream": "stdout",
       "text": [
        "1990-01-01 00:00:00\n"
       ]
      }
     ],
     "prompt_number": 47
    },
    {
     "cell_type": "code",
     "collapsed": false,
     "input": [
      "pd.DatetimeIndex(fred.DATE)"
     ],
     "language": "python",
     "metadata": {},
     "outputs": [
      {
       "metadata": {},
       "output_type": "pyout",
       "prompt_number": 43,
       "text": [
        "<class 'pandas.tseries.index.DatetimeIndex'>\n",
        "[1990-01-01 00:00:00, ..., 2012-06-01 00:00:00]\n",
        "Length: 270, Freq: None, Timezone: None"
       ]
      }
     ],
     "prompt_number": 43
    },
    {
     "cell_type": "code",
     "collapsed": false,
     "input": [
      "pd.to_datetime(fred.DATE.values)"
     ],
     "language": "python",
     "metadata": {},
     "outputs": [
      {
       "metadata": {},
       "output_type": "pyout",
       "prompt_number": 46,
       "text": [
        "<class 'pandas.tseries.index.DatetimeIndex'>\n",
        "[1990-01-01 00:00:00, ..., 2012-06-01 00:00:00]\n",
        "Length: 270, Freq: None, Timezone: None"
       ]
      }
     ],
     "prompt_number": 46
    },
    {
     "cell_type": "code",
     "collapsed": false,
     "input": [
      "fred = pd.read_csv('../fred_fx.csv')\n",
      "fred['DATE'] = pd.to_datetime(fred['DATE'])\n",
      "fred.dtypes"
     ],
     "language": "python",
     "metadata": {},
     "outputs": [
      {
       "metadata": {},
       "output_type": "pyout",
       "prompt_number": 11,
       "text": [
        "DATE             datetime64[ns]\n",
        "EXJPUS                  float64\n",
        "INTGSBJPM193N           float64\n",
        "TB6MS                   float64\n",
        "dtype: object"
       ]
      }
     ],
     "prompt_number": 11
    },
    {
     "cell_type": "code",
     "collapsed": false,
     "input": [
      "fred.index[:50]"
     ],
     "language": "python",
     "metadata": {},
     "outputs": [
      {
       "metadata": {},
       "output_type": "pyout",
       "prompt_number": 12,
       "text": [
        "Int64Index([0 , 1 , 2 , 3 , 4 , 5 , 6 , 7 , 8 , 9 , 10, 11, 12, 13, 14, 15, 16, 17, 18, 19, 20, 21, 22, 23, 24, 25, 26, 27, 28, 29, 30, 31, 32, 33, 34, 35, 36, 37, 38, 39, 40, 41, 42, 43, 44, 45, 46, 47, 48, 49], dtype=int64)"
       ]
      }
     ],
     "prompt_number": 12
    },
    {
     "cell_type": "code",
     "collapsed": false,
     "input": [
      "fred.set_index('DATE', inplace=True)"
     ],
     "language": "python",
     "metadata": {},
     "outputs": [],
     "prompt_number": 13
    },
    {
     "cell_type": "code",
     "collapsed": false,
     "input": [
      "fred"
     ],
     "language": "python",
     "metadata": {},
     "outputs": [
      {
       "html": [
        "<pre>\n",
        "&ltclass 'pandas.core.frame.DataFrame'&gt\n",
        "DatetimeIndex: 270 entries, 1990-01-01 00:00:00 to 2012-06-01 00:00:00\n",
        "Data columns (total 3 columns):\n",
        "EXJPUS           270  non-null values\n",
        "INTGSBJPM193N    269  non-null values\n",
        "TB6MS            270  non-null values\n",
        "dtypes: float64(3)\n",
        "</pre>"
       ],
       "metadata": {},
       "output_type": "pyout",
       "prompt_number": 14,
       "text": [
        "<class 'pandas.core.frame.DataFrame'>\n",
        "DatetimeIndex: 270 entries, 1990-01-01 00:00:00 to 2012-06-01 00:00:00\n",
        "Data columns (total 3 columns):\n",
        "EXJPUS           270  non-null values\n",
        "INTGSBJPM193N    269  non-null values\n",
        "TB6MS            270  non-null values\n",
        "dtypes: float64(3)"
       ]
      }
     ],
     "prompt_number": 14
    },
    {
     "cell_type": "code",
     "collapsed": false,
     "input": [
      "import matplotlib.pyplot as plt"
     ],
     "language": "python",
     "metadata": {},
     "outputs": [],
     "prompt_number": 55
    },
    {
     "cell_type": "code",
     "collapsed": false,
     "input": [
      "plt.plot(fred[1999:2003])\n",
      "plt.show()"
     ],
     "language": "python",
     "metadata": {},
     "outputs": [],
     "prompt_number": 60
    },
    {
     "cell_type": "code",
     "collapsed": false,
     "input": [
      "years = fred.index.year\n",
      "annual_min = fred.groupby(years).min()\n",
      "annual_max = fred.groupby(years).max()"
     ],
     "language": "python",
     "metadata": {},
     "outputs": [],
     "prompt_number": 64
    },
    {
     "cell_type": "code",
     "collapsed": false,
     "input": [
      "annual_min_and_max = pd.concat([annual_min,annual_max],axis=1,keys=['min','max'])"
     ],
     "language": "python",
     "metadata": {},
     "outputs": [],
     "prompt_number": 68
    },
    {
     "cell_type": "code",
     "collapsed": false,
     "input": [
      "annual_min_and_max.head(10)"
     ],
     "language": "python",
     "metadata": {},
     "outputs": [
      {
       "html": [
        "<div style=\"max-height:1000px;max-width:1500px;overflow:auto;\">\n",
        "<table border=\"1\" class=\"dataframe\">\n",
        "  <thead>\n",
        "    <tr>\n",
        "      <th></th>\n",
        "      <th colspan=\"3\" halign=\"left\">min</th>\n",
        "      <th colspan=\"3\" halign=\"left\">max</th>\n",
        "    </tr>\n",
        "    <tr>\n",
        "      <th></th>\n",
        "      <th>EXJPUS</th>\n",
        "      <th>INTGSBJPM193N</th>\n",
        "      <th>TB6MS</th>\n",
        "      <th>EXJPUS</th>\n",
        "      <th>INTGSBJPM193N</th>\n",
        "      <th>TB6MS</th>\n",
        "    </tr>\n",
        "  </thead>\n",
        "  <tbody>\n",
        "    <tr>\n",
        "      <th>1990</th>\n",
        "      <td> 129.2155</td>\n",
        "      <td> 6.640</td>\n",
        "      <td> 6.70</td>\n",
        "      <td> 158.4586</td>\n",
        "      <td> 8.62</td>\n",
        "      <td> 7.85</td>\n",
        "    </tr>\n",
        "    <tr>\n",
        "      <th>1991</th>\n",
        "      <td> 128.0395</td>\n",
        "      <td> 5.530</td>\n",
        "      <td> 4.10</td>\n",
        "      <td> 139.7475</td>\n",
        "      <td> 7.12</td>\n",
        "      <td> 6.28</td>\n",
        "    </tr>\n",
        "    <tr>\n",
        "      <th>1992</th>\n",
        "      <td> 121.1652</td>\n",
        "      <td> 4.370</td>\n",
        "      <td> 2.96</td>\n",
        "      <td> 133.5395</td>\n",
        "      <td> 5.53</td>\n",
        "      <td> 4.18</td>\n",
        "    </tr>\n",
        "    <tr>\n",
        "      <th>1993</th>\n",
        "      <td> 103.7650</td>\n",
        "      <td> 2.580</td>\n",
        "      <td> 2.97</td>\n",
        "      <td> 124.9932</td>\n",
        "      <td> 4.35</td>\n",
        "      <td> 3.26</td>\n",
        "    </tr>\n",
        "    <tr>\n",
        "      <th>1994</th>\n",
        "      <td>  98.0440</td>\n",
        "      <td> 3.290</td>\n",
        "      <td> 3.15</td>\n",
        "      <td> 111.4415</td>\n",
        "      <td> 4.14</td>\n",
        "      <td> 6.21</td>\n",
        "    </tr>\n",
        "    <tr>\n",
        "      <th>1995</th>\n",
        "      <td>  83.6895</td>\n",
        "      <td> 1.880</td>\n",
        "      <td> 5.13</td>\n",
        "      <td> 101.9400</td>\n",
        "      <td> 3.95</td>\n",
        "      <td> 6.21</td>\n",
        "    </tr>\n",
        "    <tr>\n",
        "      <th>1996</th>\n",
        "      <td> 105.7514</td>\n",
        "      <td> 1.750</td>\n",
        "      <td> 4.77</td>\n",
        "      <td> 113.9810</td>\n",
        "      <td> 2.58</td>\n",
        "      <td> 5.30</td>\n",
        "    </tr>\n",
        "    <tr>\n",
        "      <th>1997</th>\n",
        "      <td> 114.2857</td>\n",
        "      <td> 1.350</td>\n",
        "      <td> 5.06</td>\n",
        "      <td> 129.7341</td>\n",
        "      <td> 2.03</td>\n",
        "      <td> 5.37</td>\n",
        "    </tr>\n",
        "    <tr>\n",
        "      <th>1998</th>\n",
        "      <td> 117.0709</td>\n",
        "      <td> 0.660</td>\n",
        "      <td> 4.05</td>\n",
        "      <td> 144.6800</td>\n",
        "      <td> 1.42</td>\n",
        "      <td> 5.14</td>\n",
        "    </tr>\n",
        "    <tr>\n",
        "      <th>1999</th>\n",
        "      <td> 102.5843</td>\n",
        "      <td> 1.405</td>\n",
        "      <td> 4.33</td>\n",
        "      <td> 121.9995</td>\n",
        "      <td> 2.10</td>\n",
        "      <td> 5.44</td>\n",
        "    </tr>\n",
        "  </tbody>\n",
        "</table>\n",
        "</div>"
       ],
       "metadata": {},
       "output_type": "pyout",
       "prompt_number": 69,
       "text": [
        "           min                             max                      \n",
        "        EXJPUS  INTGSBJPM193N  TB6MS    EXJPUS  INTGSBJPM193N  TB6MS\n",
        "1990  129.2155          6.640   6.70  158.4586           8.62   7.85\n",
        "1991  128.0395          5.530   4.10  139.7475           7.12   6.28\n",
        "1992  121.1652          4.370   2.96  133.5395           5.53   4.18\n",
        "1993  103.7650          2.580   2.97  124.9932           4.35   3.26\n",
        "1994   98.0440          3.290   3.15  111.4415           4.14   6.21\n",
        "1995   83.6895          1.880   5.13  101.9400           3.95   6.21\n",
        "1996  105.7514          1.750   4.77  113.9810           2.58   5.30\n",
        "1997  114.2857          1.350   5.06  129.7341           2.03   5.37\n",
        "1998  117.0709          0.660   4.05  144.6800           1.42   5.14\n",
        "1999  102.5843          1.405   4.33  121.9995           2.10   5.44"
       ]
      }
     ],
     "prompt_number": 69
    },
    {
     "cell_type": "code",
     "collapsed": false,
     "input": [
      "annual_minmax = fred.resample('A-DEC',how=['min','max'])\n",
      "annual_minmax"
     ],
     "language": "python",
     "metadata": {},
     "outputs": [
      {
       "html": [
        "<div style=\"max-height:1000px;max-width:1500px;overflow:auto;\">\n",
        "<table border=\"1\" class=\"dataframe\">\n",
        "  <thead>\n",
        "    <tr>\n",
        "      <th></th>\n",
        "      <th colspan=\"2\" halign=\"left\">EXJPUS</th>\n",
        "      <th colspan=\"2\" halign=\"left\">INTGSBJPM193N</th>\n",
        "      <th colspan=\"2\" halign=\"left\">TB6MS</th>\n",
        "    </tr>\n",
        "    <tr>\n",
        "      <th></th>\n",
        "      <th>min</th>\n",
        "      <th>max</th>\n",
        "      <th>min</th>\n",
        "      <th>max</th>\n",
        "      <th>min</th>\n",
        "      <th>max</th>\n",
        "    </tr>\n",
        "    <tr>\n",
        "      <th>DATE</th>\n",
        "      <th></th>\n",
        "      <th></th>\n",
        "      <th></th>\n",
        "      <th></th>\n",
        "      <th></th>\n",
        "      <th></th>\n",
        "    </tr>\n",
        "  </thead>\n",
        "  <tbody>\n",
        "    <tr>\n",
        "      <th>1990-12-31</th>\n",
        "      <td> 129.2155</td>\n",
        "      <td> 158.4586</td>\n",
        "      <td> 6.640</td>\n",
        "      <td> 8.620</td>\n",
        "      <td> 6.70</td>\n",
        "      <td> 7.85</td>\n",
        "    </tr>\n",
        "    <tr>\n",
        "      <th>1991-12-31</th>\n",
        "      <td> 128.0395</td>\n",
        "      <td> 139.7475</td>\n",
        "      <td> 5.530</td>\n",
        "      <td> 7.120</td>\n",
        "      <td> 4.10</td>\n",
        "      <td> 6.28</td>\n",
        "    </tr>\n",
        "    <tr>\n",
        "      <th>1992-12-31</th>\n",
        "      <td> 121.1652</td>\n",
        "      <td> 133.5395</td>\n",
        "      <td> 4.370</td>\n",
        "      <td> 5.530</td>\n",
        "      <td> 2.96</td>\n",
        "      <td> 4.18</td>\n",
        "    </tr>\n",
        "    <tr>\n",
        "      <th>1993-12-31</th>\n",
        "      <td> 103.7650</td>\n",
        "      <td> 124.9932</td>\n",
        "      <td> 2.580</td>\n",
        "      <td> 4.350</td>\n",
        "      <td> 2.97</td>\n",
        "      <td> 3.26</td>\n",
        "    </tr>\n",
        "    <tr>\n",
        "      <th>1994-12-31</th>\n",
        "      <td>  98.0440</td>\n",
        "      <td> 111.4415</td>\n",
        "      <td> 3.290</td>\n",
        "      <td> 4.140</td>\n",
        "      <td> 3.15</td>\n",
        "      <td> 6.21</td>\n",
        "    </tr>\n",
        "    <tr>\n",
        "      <th>1995-12-31</th>\n",
        "      <td>  83.6895</td>\n",
        "      <td> 101.9400</td>\n",
        "      <td> 1.880</td>\n",
        "      <td> 3.950</td>\n",
        "      <td> 5.13</td>\n",
        "      <td> 6.21</td>\n",
        "    </tr>\n",
        "    <tr>\n",
        "      <th>1996-12-31</th>\n",
        "      <td> 105.7514</td>\n",
        "      <td> 113.9810</td>\n",
        "      <td> 1.750</td>\n",
        "      <td> 2.580</td>\n",
        "      <td> 4.77</td>\n",
        "      <td> 5.30</td>\n",
        "    </tr>\n",
        "    <tr>\n",
        "      <th>1997-12-31</th>\n",
        "      <td> 114.2857</td>\n",
        "      <td> 129.7341</td>\n",
        "      <td> 1.350</td>\n",
        "      <td> 2.030</td>\n",
        "      <td> 5.06</td>\n",
        "      <td> 5.37</td>\n",
        "    </tr>\n",
        "    <tr>\n",
        "      <th>1998-12-31</th>\n",
        "      <td> 117.0709</td>\n",
        "      <td> 144.6800</td>\n",
        "      <td> 0.660</td>\n",
        "      <td> 1.420</td>\n",
        "      <td> 4.05</td>\n",
        "      <td> 5.14</td>\n",
        "    </tr>\n",
        "    <tr>\n",
        "      <th>1999-12-31</th>\n",
        "      <td> 102.5843</td>\n",
        "      <td> 121.9995</td>\n",
        "      <td> 1.405</td>\n",
        "      <td> 2.100</td>\n",
        "      <td> 4.33</td>\n",
        "      <td> 5.44</td>\n",
        "    </tr>\n",
        "    <tr>\n",
        "      <th>2000-12-31</th>\n",
        "      <td> 105.2960</td>\n",
        "      <td> 112.2090</td>\n",
        "      <td> 1.615</td>\n",
        "      <td> 1.895</td>\n",
        "      <td> 5.50</td>\n",
        "      <td> 6.10</td>\n",
        "    </tr>\n",
        "    <tr>\n",
        "      <th>2001-12-31</th>\n",
        "      <td> 116.2337</td>\n",
        "      <td> 127.5945</td>\n",
        "      <td> 1.210</td>\n",
        "      <td> 1.500</td>\n",
        "      <td> 1.78</td>\n",
        "      <td> 4.95</td>\n",
        "    </tr>\n",
        "    <tr>\n",
        "      <th>2002-12-31</th>\n",
        "      <td> 117.8991</td>\n",
        "      <td> 133.6426</td>\n",
        "      <td> 0.900</td>\n",
        "      <td> 1.525</td>\n",
        "      <td> 1.24</td>\n",
        "      <td> 2.01</td>\n",
        "    </tr>\n",
        "    <tr>\n",
        "      <th>2003-12-31</th>\n",
        "      <td> 107.7377</td>\n",
        "      <td> 119.8950</td>\n",
        "      <td> 0.530</td>\n",
        "      <td> 1.460</td>\n",
        "      <td> 0.92</td>\n",
        "      <td> 1.20</td>\n",
        "    </tr>\n",
        "    <tr>\n",
        "      <th>2004-12-31</th>\n",
        "      <td> 103.8104</td>\n",
        "      <td> 112.1960</td>\n",
        "      <td> 1.225</td>\n",
        "      <td> 1.850</td>\n",
        "      <td> 0.97</td>\n",
        "      <td> 2.43</td>\n",
        "    </tr>\n",
        "    <tr>\n",
        "      <th>2005-12-31</th>\n",
        "      <td> 103.3410</td>\n",
        "      <td> 118.4624</td>\n",
        "      <td> 1.165</td>\n",
        "      <td> 1.545</td>\n",
        "      <td> 2.61</td>\n",
        "      <td> 4.18</td>\n",
        "    </tr>\n",
        "    <tr>\n",
        "      <th>2006-12-31</th>\n",
        "      <td> 111.7305</td>\n",
        "      <td> 118.6090</td>\n",
        "      <td> 1.560</td>\n",
        "      <td> 1.920</td>\n",
        "      <td> 4.31</td>\n",
        "      <td> 5.06</td>\n",
        "    </tr>\n",
        "    <tr>\n",
        "      <th>2007-12-31</th>\n",
        "      <td> 111.0729</td>\n",
        "      <td> 122.6886</td>\n",
        "      <td> 1.470</td>\n",
        "      <td> 1.870</td>\n",
        "      <td> 3.23</td>\n",
        "      <td> 4.96</td>\n",
        "    </tr>\n",
        "    <tr>\n",
        "      <th>2008-12-31</th>\n",
        "      <td>  91.2750</td>\n",
        "      <td> 109.3624</td>\n",
        "      <td> 1.165</td>\n",
        "      <td> 1.750</td>\n",
        "      <td> 0.26</td>\n",
        "      <td> 2.75</td>\n",
        "    </tr>\n",
        "    <tr>\n",
        "      <th>2009-12-31</th>\n",
        "      <td>  89.2674</td>\n",
        "      <td>  98.9200</td>\n",
        "      <td> 1.260</td>\n",
        "      <td> 1.480</td>\n",
        "      <td> 0.15</td>\n",
        "      <td> 0.45</td>\n",
        "    </tr>\n",
        "    <tr>\n",
        "      <th>2010-12-31</th>\n",
        "      <td>  81.7285</td>\n",
        "      <td>  93.4527</td>\n",
        "      <td> 0.930</td>\n",
        "      <td> 1.390</td>\n",
        "      <td> 0.15</td>\n",
        "      <td> 0.24</td>\n",
        "    </tr>\n",
        "    <tr>\n",
        "      <th>2011-12-31</th>\n",
        "      <td>  76.6430</td>\n",
        "      <td>  83.1771</td>\n",
        "      <td> 0.980</td>\n",
        "      <td> 1.255</td>\n",
        "      <td> 0.04</td>\n",
        "      <td> 0.18</td>\n",
        "    </tr>\n",
        "    <tr>\n",
        "      <th>2012-12-31</th>\n",
        "      <td>  76.9640</td>\n",
        "      <td>  82.4659</td>\n",
        "      <td> 0.825</td>\n",
        "      <td> 0.985</td>\n",
        "      <td> 0.07</td>\n",
        "      <td> 0.15</td>\n",
        "    </tr>\n",
        "  </tbody>\n",
        "</table>\n",
        "</div>"
       ],
       "metadata": {},
       "output_type": "pyout",
       "prompt_number": 73,
       "text": [
        "              EXJPUS            INTGSBJPM193N         TB6MS      \n",
        "                 min       max            min    max    min   max\n",
        "DATE                                                             \n",
        "1990-12-31  129.2155  158.4586          6.640  8.620   6.70  7.85\n",
        "1991-12-31  128.0395  139.7475          5.530  7.120   4.10  6.28\n",
        "1992-12-31  121.1652  133.5395          4.370  5.530   2.96  4.18\n",
        "1993-12-31  103.7650  124.9932          2.580  4.350   2.97  3.26\n",
        "1994-12-31   98.0440  111.4415          3.290  4.140   3.15  6.21\n",
        "1995-12-31   83.6895  101.9400          1.880  3.950   5.13  6.21\n",
        "1996-12-31  105.7514  113.9810          1.750  2.580   4.77  5.30\n",
        "1997-12-31  114.2857  129.7341          1.350  2.030   5.06  5.37\n",
        "1998-12-31  117.0709  144.6800          0.660  1.420   4.05  5.14\n",
        "1999-12-31  102.5843  121.9995          1.405  2.100   4.33  5.44\n",
        "2000-12-31  105.2960  112.2090          1.615  1.895   5.50  6.10\n",
        "2001-12-31  116.2337  127.5945          1.210  1.500   1.78  4.95\n",
        "2002-12-31  117.8991  133.6426          0.900  1.525   1.24  2.01\n",
        "2003-12-31  107.7377  119.8950          0.530  1.460   0.92  1.20\n",
        "2004-12-31  103.8104  112.1960          1.225  1.850   0.97  2.43\n",
        "2005-12-31  103.3410  118.4624          1.165  1.545   2.61  4.18\n",
        "2006-12-31  111.7305  118.6090          1.560  1.920   4.31  5.06\n",
        "2007-12-31  111.0729  122.6886          1.470  1.870   3.23  4.96\n",
        "2008-12-31   91.2750  109.3624          1.165  1.750   0.26  2.75\n",
        "2009-12-31   89.2674   98.9200          1.260  1.480   0.15  0.45\n",
        "2010-12-31   81.7285   93.4527          0.930  1.390   0.15  0.24\n",
        "2011-12-31   76.6430   83.1771          0.980  1.255   0.04  0.18\n",
        "2012-12-31   76.9640   82.4659          0.825  0.985   0.07  0.15"
       ]
      }
     ],
     "prompt_number": 73
    },
    {
     "cell_type": "code",
     "collapsed": false,
     "input": [
      "annual_minmax[('EXJPUS','max')]"
     ],
     "language": "python",
     "metadata": {},
     "outputs": [
      {
       "metadata": {},
       "output_type": "pyout",
       "prompt_number": 77,
       "text": [
        "DATE\n",
        "1990-12-31    158.4586\n",
        "1991-12-31    139.7475\n",
        "1992-12-31    133.5395\n",
        "1993-12-31    124.9932\n",
        "1994-12-31    111.4415\n",
        "1995-12-31    101.9400\n",
        "1996-12-31    113.9810\n",
        "1997-12-31    129.7341\n",
        "1998-12-31    144.6800\n",
        "1999-12-31    121.9995\n",
        "2000-12-31    112.2090\n",
        "2001-12-31    127.5945\n",
        "2002-12-31    133.6426\n",
        "2003-12-31    119.8950\n",
        "2004-12-31    112.1960\n",
        "2005-12-31    118.4624\n",
        "2006-12-31    118.6090\n",
        "2007-12-31    122.6886\n",
        "2008-12-31    109.3624\n",
        "2009-12-31     98.9200\n",
        "2010-12-31     93.4527\n",
        "2011-12-31     83.1771\n",
        "2012-12-31     82.4659\n",
        "Freq: A-DEC, Name: (EXJPUS, max), dtype: float64"
       ]
      }
     ],
     "prompt_number": 77
    },
    {
     "cell_type": "code",
     "collapsed": false,
     "input": [
      "def mad(x):\n",
      "    return np.abs(x - x.mean()).mean()\n",
      "\n",
      "fred.EXJPUS.resample('A-DEC',how=mad)"
     ],
     "language": "python",
     "metadata": {},
     "outputs": [
      {
       "metadata": {},
       "output_type": "pyout",
       "prompt_number": 78,
       "text": [
        "DATE\n",
        "1990-12-31    8.022794\n",
        "1991-12-31    3.344775\n",
        "1992-12-31    2.995399\n",
        "1993-12-31    5.042639\n",
        "1994-12-31    3.238742\n",
        "1995-12-31    6.529103\n",
        "1996-12-31    2.323658\n",
        "1997-12-31    3.502692\n",
        "1998-12-31    7.003133\n",
        "1999-12-31    5.948200\n",
        "2000-12-31    1.485524\n",
        "2001-12-31    2.212117\n",
        "2002-12-31    4.699887\n",
        "2003-12-31    3.742594\n",
        "2004-12-31    1.940404\n",
        "2005-12-31    4.125758\n",
        "2006-12-31    1.370915\n",
        "2007-12-31    3.027983\n",
        "2008-12-31    4.209392\n",
        "2009-12-31    2.950133\n",
        "2010-12-31    3.614492\n",
        "2011-12-31    2.211200\n",
        "2012-12-31    1.446733\n",
        "Freq: A-DEC, dtype: float64"
       ]
      }
     ],
     "prompt_number": 78
    },
    {
     "cell_type": "code",
     "collapsed": false,
     "input": [
      "# Works with non-numeric data\n",
      "from pandas.util.testing import rands\n",
      "rands(10)"
     ],
     "language": "python",
     "metadata": {},
     "outputs": [
      {
       "metadata": {},
       "output_type": "pyout",
       "prompt_number": 79,
       "text": [
        "'mD8yQ5M76Q'"
       ]
      }
     ],
     "prompt_number": 79
    },
    {
     "cell_type": "code",
     "collapsed": false,
     "input": [
      "choices = np.array([rands(10) for i in xrange(50)])\n",
      "\n",
      "draws = np.random.randint(0,50,size=1000)\n",
      "timestamps = pd.date_range('2013-10-17 13:10', periods=1000, freq = 'S')\n",
      "\n",
      "ts = pd.Series(choices.take(draws), index=timestamps)\n",
      "ts"
     ],
     "language": "python",
     "metadata": {},
     "outputs": [
      {
       "metadata": {},
       "output_type": "pyout",
       "prompt_number": 83,
       "text": [
        "2013-10-17 13:10:00    YI7g1j9m6L\n",
        "2013-10-17 13:10:01    7drVRumS5A\n",
        "2013-10-17 13:10:02    KYfkganNay\n",
        "2013-10-17 13:10:03    W471el3qRb\n",
        "2013-10-17 13:10:04    JVoK5qohaM\n",
        "2013-10-17 13:10:05    18On8UKfa8\n",
        "2013-10-17 13:10:06    sSidQluSh8\n",
        "2013-10-17 13:10:07    cKf3Khn1h0\n",
        "2013-10-17 13:10:08    80gxL4M22a\n",
        "2013-10-17 13:10:09    Agxz7vLT4l\n",
        "2013-10-17 13:10:10    c6ODj63Bop\n",
        "2013-10-17 13:10:11    rDcAFpmcWN\n",
        "2013-10-17 13:10:12    iT33mYzx3C\n",
        "2013-10-17 13:10:13    vOidgodMoX\n",
        "2013-10-17 13:10:14    nA7g1yK5ul\n",
        "...\n",
        "2013-10-17 13:26:25    6JHnyf8EOp\n",
        "2013-10-17 13:26:26    vOidgodMoX\n",
        "2013-10-17 13:26:27    6JHnyf8EOp\n",
        "2013-10-17 13:26:28    Favqn7i5vt\n",
        "2013-10-17 13:26:29    IRn4PHuKTy\n",
        "2013-10-17 13:26:30    zrnoqmvt24\n",
        "2013-10-17 13:26:31    ROVWaH6DUu\n",
        "2013-10-17 13:26:32    7drVRumS5A\n",
        "2013-10-17 13:26:33    CgpUR0Wd6K\n",
        "2013-10-17 13:26:34    Gv0XEKGMmx\n",
        "2013-10-17 13:26:35    iQqTE44mC5\n",
        "2013-10-17 13:26:36    7drVRumS5A\n",
        "2013-10-17 13:26:37    YI7g1j9m6L\n",
        "2013-10-17 13:26:38    pn9oSA2VZB\n",
        "2013-10-17 13:26:39    vOidgodMoX\n",
        "Freq: S, Length: 1000, dtype: object"
       ]
      }
     ],
     "prompt_number": 83
    },
    {
     "cell_type": "code",
     "collapsed": false,
     "input": [
      "ts.unique()"
     ],
     "language": "python",
     "metadata": {},
     "outputs": [
      {
       "metadata": {},
       "output_type": "pyout",
       "prompt_number": 84,
       "text": [
        "array(['YI7g1j9m6L', '7drVRumS5A', 'KYfkganNay', 'W471el3qRb',\n",
        "       'JVoK5qohaM', '18On8UKfa8', 'sSidQluSh8', 'cKf3Khn1h0',\n",
        "       '80gxL4M22a', 'Agxz7vLT4l', 'c6ODj63Bop', 'rDcAFpmcWN',\n",
        "       'iT33mYzx3C', 'vOidgodMoX', 'nA7g1yK5ul', 'I7owvJcZQ3',\n",
        "       'zrnoqmvt24', 'yP2zeZEf7m', 'zgp9bWDXAg', 'iQqTE44mC5',\n",
        "       '0oOLa0jUxJ', '16znayMaTR', 'BEPK8yEBFF', 'ReDQBnT4S1',\n",
        "       '6JHnyf8EOp', 'SPE9TkOn8f', 'sIytN7lwiL', 'canfNhGjQz',\n",
        "       'P1xkNRfFbg', 'Gv0XEKGMmx', 'U6mPXCkMLS', 'PrTb7hbncK',\n",
        "       'XYybEoDrH5', 'rlVFJJLZ4x', 'PTQniLJw4n', '61jIstT4b7',\n",
        "       '5ftvpuQDHE', 'IRn4PHuKTy', 'CgpUR0Wd6K', 'KpKV1C36VV',\n",
        "       'pn9oSA2VZB', 'B5fcxLg8Al', 'SUgz7hJipi', 'Favqn7i5vt',\n",
        "       'C1ONueZxAb', 'ROVWaH6DUu', 'h55NgQWsO1', 'NRZYMy6ZEH',\n",
        "       'EH1Hr1OIxD', 'ubKtbHkbLB'], dtype=object)"
       ]
      }
     ],
     "prompt_number": 84
    },
    {
     "cell_type": "code",
     "collapsed": false,
     "input": [
      "!head -n 10 ../SFHousing.csv"
     ],
     "language": "python",
     "metadata": {},
     "outputs": [
      {
       "output_type": "stream",
       "stream": "stdout",
       "text": [
        "APN,ADDRESS,Date_Sale,Sale_Amount,Num_Bedrooms,BLKLOT\r",
        "\r\n",
        "3570 101,566 SOUTH VAN NESS AVE #3,1/3/2012,\"$425,500 \",2,3570101\r",
        "\r\n",
        "3719 181,301 MISSION ST #22E,1/3/2012,\"$1,160,000 \",2,3719181\r",
        "\r\n",
        "8704 277,300 BERRY ST # 1612,1/3/2012,\"$774,025 \",2,8704277\r",
        "\r\n",
        "1836 032,1463 17TH AVE,1/4/2012,\"$660,000 \",2,1836032\r",
        "\r\n",
        "3594 079,3380 20TH ST 302,1/4/2012,\"$450,000 \",2,3594079\r",
        "\r\n",
        "1159 042,1944 MCALLISTER ST,1/5/2012,\"$680,000 \",2,1159042\r",
        "\r\n",
        "3794 274,170 KING ST #1127,1/5/2012,\"$820,000 \",2,3794274\r",
        "\r\n",
        "4720 080,15 REBECCA LN,1/5/2012,\"$227,000 \",2,4720080\r",
        "\r\n",
        "4991 681,110 OTTER COVE TERRACE,1/5/2012,\"$476,000 \",2,4991681\r",
        "\r\n"
       ]
      }
     ],
     "prompt_number": 85
    },
    {
     "cell_type": "code",
     "collapsed": false,
     "input": [
      "pd.options.display.line_width = 1000"
     ],
     "language": "python",
     "metadata": {},
     "outputs": [],
     "prompt_number": 97
    },
    {
     "cell_type": "code",
     "collapsed": false,
     "input": [
      "SFdata = pd.read_csv('../SFHousing.csv')\n",
      "sales = [x.strip('$') for x in SFdata.Sale_Amount]\n",
      "sales = [x.replace(',','') for x in sales]\n",
      "SFdata.Sale_Amount = sales\n",
      "SFdata.head()"
     ],
     "language": "python",
     "metadata": {},
     "outputs": [
      {
       "html": [
        "<div style=\"max-height:1000px;max-width:1500px;overflow:auto;\">\n",
        "<table border=\"1\" class=\"dataframe\">\n",
        "  <thead>\n",
        "    <tr style=\"text-align: right;\">\n",
        "      <th></th>\n",
        "      <th>APN</th>\n",
        "      <th>ADDRESS</th>\n",
        "      <th>Date_Sale</th>\n",
        "      <th>Sale_Amount</th>\n",
        "      <th>Num_Bedrooms</th>\n",
        "      <th>BLKLOT</th>\n",
        "    </tr>\n",
        "  </thead>\n",
        "  <tbody>\n",
        "    <tr>\n",
        "      <th>0</th>\n",
        "      <td> 3570 101</td>\n",
        "      <td> 566 SOUTH VAN NESS AVE #3</td>\n",
        "      <td> 1/3/2012</td>\n",
        "      <td>  425500 </td>\n",
        "      <td> 2</td>\n",
        "      <td> 3570101</td>\n",
        "    </tr>\n",
        "    <tr>\n",
        "      <th>1</th>\n",
        "      <td> 3719 181</td>\n",
        "      <td>       301 MISSION ST #22E</td>\n",
        "      <td> 1/3/2012</td>\n",
        "      <td> 1160000 </td>\n",
        "      <td> 2</td>\n",
        "      <td> 3719181</td>\n",
        "    </tr>\n",
        "    <tr>\n",
        "      <th>2</th>\n",
        "      <td> 8704 277</td>\n",
        "      <td>       300 BERRY ST # 1612</td>\n",
        "      <td> 1/3/2012</td>\n",
        "      <td>  774025 </td>\n",
        "      <td> 2</td>\n",
        "      <td> 8704277</td>\n",
        "    </tr>\n",
        "    <tr>\n",
        "      <th>3</th>\n",
        "      <td> 1836 032</td>\n",
        "      <td>             1463 17TH AVE</td>\n",
        "      <td> 1/4/2012</td>\n",
        "      <td>  660000 </td>\n",
        "      <td> 2</td>\n",
        "      <td> 1836032</td>\n",
        "    </tr>\n",
        "    <tr>\n",
        "      <th>4</th>\n",
        "      <td> 3594 079</td>\n",
        "      <td>          3380 20TH ST 302</td>\n",
        "      <td> 1/4/2012</td>\n",
        "      <td>  450000 </td>\n",
        "      <td> 2</td>\n",
        "      <td> 3594079</td>\n",
        "    </tr>\n",
        "  </tbody>\n",
        "</table>\n",
        "</div>"
       ],
       "metadata": {},
       "output_type": "pyout",
       "prompt_number": 109,
       "text": [
        "        APN                    ADDRESS Date_Sale Sale_Amount  Num_Bedrooms   BLKLOT\n",
        "0  3570 101  566 SOUTH VAN NESS AVE #3  1/3/2012     425500              2  3570101\n",
        "1  3719 181        301 MISSION ST #22E  1/3/2012    1160000              2  3719181\n",
        "2  8704 277        300 BERRY ST # 1612  1/3/2012     774025              2  8704277\n",
        "3  1836 032              1463 17TH AVE  1/4/2012     660000              2  1836032\n",
        "4  3594 079           3380 20TH ST 302  1/4/2012     450000              2  3594079"
       ]
      }
     ],
     "prompt_number": 109
    },
    {
     "cell_type": "code",
     "collapsed": false,
     "input": [
      "pd.to_datetime(SFdata['Date_Sale'])\n",
      "SFdata.set_index('Date_Sale',inplace=True)\n",
      "SFdata.head()"
     ],
     "language": "python",
     "metadata": {},
     "outputs": [
      {
       "html": [
        "<div style=\"max-height:1000px;max-width:1500px;overflow:auto;\">\n",
        "<table border=\"1\" class=\"dataframe\">\n",
        "  <thead>\n",
        "    <tr style=\"text-align: right;\">\n",
        "      <th></th>\n",
        "      <th>APN</th>\n",
        "      <th>ADDRESS</th>\n",
        "      <th>Sale_Amount</th>\n",
        "      <th>Num_Bedrooms</th>\n",
        "      <th>BLKLOT</th>\n",
        "    </tr>\n",
        "    <tr>\n",
        "      <th>Date_Sale</th>\n",
        "      <th></th>\n",
        "      <th></th>\n",
        "      <th></th>\n",
        "      <th></th>\n",
        "      <th></th>\n",
        "    </tr>\n",
        "  </thead>\n",
        "  <tbody>\n",
        "    <tr>\n",
        "      <th>1/3/2012</th>\n",
        "      <td> 3570 101</td>\n",
        "      <td> 566 SOUTH VAN NESS AVE #3</td>\n",
        "      <td>  425500 </td>\n",
        "      <td> 2</td>\n",
        "      <td> 3570101</td>\n",
        "    </tr>\n",
        "    <tr>\n",
        "      <th>1/3/2012</th>\n",
        "      <td> 3719 181</td>\n",
        "      <td>       301 MISSION ST #22E</td>\n",
        "      <td> 1160000 </td>\n",
        "      <td> 2</td>\n",
        "      <td> 3719181</td>\n",
        "    </tr>\n",
        "    <tr>\n",
        "      <th>1/3/2012</th>\n",
        "      <td> 8704 277</td>\n",
        "      <td>       300 BERRY ST # 1612</td>\n",
        "      <td>  774025 </td>\n",
        "      <td> 2</td>\n",
        "      <td> 8704277</td>\n",
        "    </tr>\n",
        "    <tr>\n",
        "      <th>1/4/2012</th>\n",
        "      <td> 1836 032</td>\n",
        "      <td>             1463 17TH AVE</td>\n",
        "      <td>  660000 </td>\n",
        "      <td> 2</td>\n",
        "      <td> 1836032</td>\n",
        "    </tr>\n",
        "    <tr>\n",
        "      <th>1/4/2012</th>\n",
        "      <td> 3594 079</td>\n",
        "      <td>          3380 20TH ST 302</td>\n",
        "      <td>  450000 </td>\n",
        "      <td> 2</td>\n",
        "      <td> 3594079</td>\n",
        "    </tr>\n",
        "  </tbody>\n",
        "</table>\n",
        "</div>"
       ],
       "metadata": {},
       "output_type": "pyout",
       "prompt_number": 110,
       "text": [
        "                APN                    ADDRESS Sale_Amount  Num_Bedrooms   BLKLOT\n",
        "Date_Sale                                                                        \n",
        "1/3/2012   3570 101  566 SOUTH VAN NESS AVE #3     425500              2  3570101\n",
        "1/3/2012   3719 181        301 MISSION ST #22E    1160000              2  3719181\n",
        "1/3/2012   8704 277        300 BERRY ST # 1612     774025              2  8704277\n",
        "1/4/2012   1836 032              1463 17TH AVE     660000              2  1836032\n",
        "1/4/2012   3594 079           3380 20TH ST 302     450000              2  3594079"
       ]
      }
     ],
     "prompt_number": 110
    },
    {
     "cell_type": "code",
     "collapsed": false,
     "input": [
      "house_monthly = SFdata.Sale_Amount.resample('M',how=['mean','count'])"
     ],
     "language": "python",
     "metadata": {},
     "outputs": [
      {
       "ename": "TypeError",
       "evalue": "Only valid with DatetimeIndex or PeriodIndex",
       "output_type": "pyerr",
       "traceback": [
        "\u001b[0;31m---------------------------------------------------------------------------\u001b[0m\n\u001b[0;31mTypeError\u001b[0m                                 Traceback (most recent call last)",
        "\u001b[0;32m<ipython-input-112-4eb53c54d4ce>\u001b[0m in \u001b[0;36m<module>\u001b[0;34m()\u001b[0m\n\u001b[0;32m----> 1\u001b[0;31m \u001b[0mhouse_monthly\u001b[0m \u001b[0;34m=\u001b[0m \u001b[0mSFdata\u001b[0m\u001b[0;34m.\u001b[0m\u001b[0mSale_Amount\u001b[0m\u001b[0;34m.\u001b[0m\u001b[0mresample\u001b[0m\u001b[0;34m(\u001b[0m\u001b[0;34m'M'\u001b[0m\u001b[0;34m,\u001b[0m\u001b[0mhow\u001b[0m\u001b[0;34m=\u001b[0m\u001b[0;34m[\u001b[0m\u001b[0;34m'mean'\u001b[0m\u001b[0;34m,\u001b[0m\u001b[0;34m'count'\u001b[0m\u001b[0;34m]\u001b[0m\u001b[0;34m)\u001b[0m\u001b[0;34m\u001b[0m\u001b[0m\n\u001b[0m",
        "\u001b[0;32m/Users/Anders/anaconda/python.app/Contents/lib/python2.7/site-packages/pandas/core/generic.pyc\u001b[0m in \u001b[0;36mresample\u001b[0;34m(self, rule, how, axis, fill_method, closed, label, convention, kind, loffset, limit, base)\u001b[0m\n\u001b[1;32m    255\u001b[0m                               \u001b[0mfill_method\u001b[0m\u001b[0;34m=\u001b[0m\u001b[0mfill_method\u001b[0m\u001b[0;34m,\u001b[0m \u001b[0mconvention\u001b[0m\u001b[0;34m=\u001b[0m\u001b[0mconvention\u001b[0m\u001b[0;34m,\u001b[0m\u001b[0;34m\u001b[0m\u001b[0m\n\u001b[1;32m    256\u001b[0m                               limit=limit, base=base)\n\u001b[0;32m--> 257\u001b[0;31m         \u001b[0;32mreturn\u001b[0m \u001b[0msampler\u001b[0m\u001b[0;34m.\u001b[0m\u001b[0mresample\u001b[0m\u001b[0;34m(\u001b[0m\u001b[0mself\u001b[0m\u001b[0;34m)\u001b[0m\u001b[0;34m\u001b[0m\u001b[0m\n\u001b[0m\u001b[1;32m    258\u001b[0m \u001b[0;34m\u001b[0m\u001b[0m\n\u001b[1;32m    259\u001b[0m     \u001b[0;32mdef\u001b[0m \u001b[0mfirst\u001b[0m\u001b[0;34m(\u001b[0m\u001b[0mself\u001b[0m\u001b[0;34m,\u001b[0m \u001b[0moffset\u001b[0m\u001b[0;34m)\u001b[0m\u001b[0;34m:\u001b[0m\u001b[0;34m\u001b[0m\u001b[0m\n",
        "\u001b[0;32m/Users/Anders/anaconda/python.app/Contents/lib/python2.7/site-packages/pandas/tseries/resample.pyc\u001b[0m in \u001b[0;36mresample\u001b[0;34m(self, obj)\u001b[0m\n\u001b[1;32m     98\u001b[0m             \u001b[0;32mreturn\u001b[0m \u001b[0mobj\u001b[0m\u001b[0;34m\u001b[0m\u001b[0m\n\u001b[1;32m     99\u001b[0m         \u001b[0;32melse\u001b[0m\u001b[0;34m:\u001b[0m  \u001b[0;31m# pragma: no cover\u001b[0m\u001b[0;34m\u001b[0m\u001b[0m\n\u001b[0;32m--> 100\u001b[0;31m             \u001b[0;32mraise\u001b[0m \u001b[0mTypeError\u001b[0m\u001b[0;34m(\u001b[0m\u001b[0;34m'Only valid with DatetimeIndex or PeriodIndex'\u001b[0m\u001b[0;34m)\u001b[0m\u001b[0;34m\u001b[0m\u001b[0m\n\u001b[0m\u001b[1;32m    101\u001b[0m \u001b[0;34m\u001b[0m\u001b[0m\n\u001b[1;32m    102\u001b[0m         \u001b[0mrs_axis\u001b[0m \u001b[0;34m=\u001b[0m \u001b[0mrs\u001b[0m\u001b[0;34m.\u001b[0m\u001b[0m_get_axis\u001b[0m\u001b[0;34m(\u001b[0m\u001b[0mself\u001b[0m\u001b[0;34m.\u001b[0m\u001b[0maxis\u001b[0m\u001b[0;34m)\u001b[0m\u001b[0;34m\u001b[0m\u001b[0m\n",
        "\u001b[0;31mTypeError\u001b[0m: Only valid with DatetimeIndex or PeriodIndex"
       ]
      }
     ],
     "prompt_number": 112
    },
    {
     "cell_type": "code",
     "collapsed": false,
     "input": [
      "# Shifting, correlating, etc."
     ],
     "language": "python",
     "metadata": {},
     "outputs": [],
     "prompt_number": 113
    },
    {
     "cell_type": "code",
     "collapsed": false,
     "input": [
      "fred_1diff = fred - fred.shift(1)\n",
      "fred_1diff.head(10)"
     ],
     "language": "python",
     "metadata": {},
     "outputs": [
      {
       "html": [
        "<div style=\"max-height:1000px;max-width:1500px;overflow:auto;\">\n",
        "<table border=\"1\" class=\"dataframe\">\n",
        "  <thead>\n",
        "    <tr style=\"text-align: right;\">\n",
        "      <th></th>\n",
        "      <th>EXJPUS</th>\n",
        "      <th>INTGSBJPM193N</th>\n",
        "      <th>TB6MS</th>\n",
        "    </tr>\n",
        "    <tr>\n",
        "      <th>DATE</th>\n",
        "      <th></th>\n",
        "      <th></th>\n",
        "      <th></th>\n",
        "    </tr>\n",
        "  </thead>\n",
        "  <tbody>\n",
        "    <tr>\n",
        "      <th>1990-01-01</th>\n",
        "      <td>    NaN</td>\n",
        "      <td>  NaN</td>\n",
        "      <td>  NaN</td>\n",
        "    </tr>\n",
        "    <tr>\n",
        "      <th>1990-02-01</th>\n",
        "      <td> 0.7113</td>\n",
        "      <td> 0.28</td>\n",
        "      <td> 0.15</td>\n",
        "    </tr>\n",
        "    <tr>\n",
        "      <th>1990-03-01</th>\n",
        "      <td> 7.6150</td>\n",
        "      <td> 0.44</td>\n",
        "      <td> 0.15</td>\n",
        "    </tr>\n",
        "    <tr>\n",
        "      <th>1990-04-01</th>\n",
        "      <td> 5.1504</td>\n",
        "      <td>-0.12</td>\n",
        "      <td>-0.01</td>\n",
        "    </tr>\n",
        "    <tr>\n",
        "      <th>1990-05-01</th>\n",
        "      <td>-4.4145</td>\n",
        "      <td>-0.54</td>\n",
        "      <td>-0.08</td>\n",
        "    </tr>\n",
        "    <tr>\n",
        "      <th>1990-06-01</th>\n",
        "      <td>-0.3484</td>\n",
        "      <td> 0.36</td>\n",
        "      <td>-0.13</td>\n",
        "    </tr>\n",
        "    <tr>\n",
        "      <th>1990-07-01</th>\n",
        "      <td>-4.6562</td>\n",
        "      <td> 0.42</td>\n",
        "      <td>-0.11</td>\n",
        "    </tr>\n",
        "    <tr>\n",
        "      <th>1990-08-01</th>\n",
        "      <td>-1.5786</td>\n",
        "      <td> 0.71</td>\n",
        "      <td>-0.14</td>\n",
        "    </tr>\n",
        "    <tr>\n",
        "      <th>1990-09-01</th>\n",
        "      <td>-9.0204</td>\n",
        "      <td> 0.43</td>\n",
        "      <td>-0.06</td>\n",
        "    </tr>\n",
        "    <tr>\n",
        "      <th>1990-10-01</th>\n",
        "      <td>-8.8496</td>\n",
        "      <td>-0.94</td>\n",
        "      <td>-0.16</td>\n",
        "    </tr>\n",
        "  </tbody>\n",
        "</table>\n",
        "</div>"
       ],
       "metadata": {},
       "output_type": "pyout",
       "prompt_number": 115,
       "text": [
        "            EXJPUS  INTGSBJPM193N  TB6MS\n",
        "DATE                                    \n",
        "1990-01-01     NaN            NaN    NaN\n",
        "1990-02-01  0.7113           0.28   0.15\n",
        "1990-03-01  7.6150           0.44   0.15\n",
        "1990-04-01  5.1504          -0.12  -0.01\n",
        "1990-05-01 -4.4145          -0.54  -0.08\n",
        "1990-06-01 -0.3484           0.36  -0.13\n",
        "1990-07-01 -4.6562           0.42  -0.11\n",
        "1990-08-01 -1.5786           0.71  -0.14\n",
        "1990-09-01 -9.0204           0.43  -0.06\n",
        "1990-10-01 -8.8496          -0.94  -0.16"
       ]
      }
     ],
     "prompt_number": 115
    },
    {
     "cell_type": "code",
     "collapsed": false,
     "input": [
      "fred_1diff.corr()"
     ],
     "language": "python",
     "metadata": {},
     "outputs": [
      {
       "html": [
        "<div style=\"max-height:1000px;max-width:1500px;overflow:auto;\">\n",
        "<table border=\"1\" class=\"dataframe\">\n",
        "  <thead>\n",
        "    <tr style=\"text-align: right;\">\n",
        "      <th></th>\n",
        "      <th>EXJPUS</th>\n",
        "      <th>INTGSBJPM193N</th>\n",
        "      <th>TB6MS</th>\n",
        "    </tr>\n",
        "  </thead>\n",
        "  <tbody>\n",
        "    <tr>\n",
        "      <th>EXJPUS</th>\n",
        "      <td> 1.000000</td>\n",
        "      <td> 0.114982</td>\n",
        "      <td> 0.238944</td>\n",
        "    </tr>\n",
        "    <tr>\n",
        "      <th>INTGSBJPM193N</th>\n",
        "      <td> 0.114982</td>\n",
        "      <td> 1.000000</td>\n",
        "      <td> 0.178863</td>\n",
        "    </tr>\n",
        "    <tr>\n",
        "      <th>TB6MS</th>\n",
        "      <td> 0.238944</td>\n",
        "      <td> 0.178863</td>\n",
        "      <td> 1.000000</td>\n",
        "    </tr>\n",
        "  </tbody>\n",
        "</table>\n",
        "</div>"
       ],
       "metadata": {},
       "output_type": "pyout",
       "prompt_number": 116,
       "text": [
        "                 EXJPUS  INTGSBJPM193N     TB6MS\n",
        "EXJPUS         1.000000       0.114982  0.238944\n",
        "INTGSBJPM193N  0.114982       1.000000  0.178863\n",
        "TB6MS          0.238944       0.178863  1.000000"
       ]
      }
     ],
     "prompt_number": 116
    },
    {
     "cell_type": "code",
     "collapsed": false,
     "input": [
      "(fred - fred.shift(6)).corr()"
     ],
     "language": "python",
     "metadata": {},
     "outputs": [
      {
       "html": [
        "<div style=\"max-height:1000px;max-width:1500px;overflow:auto;\">\n",
        "<table border=\"1\" class=\"dataframe\">\n",
        "  <thead>\n",
        "    <tr style=\"text-align: right;\">\n",
        "      <th></th>\n",
        "      <th>EXJPUS</th>\n",
        "      <th>INTGSBJPM193N</th>\n",
        "      <th>TB6MS</th>\n",
        "    </tr>\n",
        "  </thead>\n",
        "  <tbody>\n",
        "    <tr>\n",
        "      <th>EXJPUS</th>\n",
        "      <td> 1.000000</td>\n",
        "      <td> 0.004250</td>\n",
        "      <td> 0.091739</td>\n",
        "    </tr>\n",
        "    <tr>\n",
        "      <th>INTGSBJPM193N</th>\n",
        "      <td> 0.004250</td>\n",
        "      <td> 1.000000</td>\n",
        "      <td> 0.326939</td>\n",
        "    </tr>\n",
        "    <tr>\n",
        "      <th>TB6MS</th>\n",
        "      <td> 0.091739</td>\n",
        "      <td> 0.326939</td>\n",
        "      <td> 1.000000</td>\n",
        "    </tr>\n",
        "  </tbody>\n",
        "</table>\n",
        "</div>"
       ],
       "metadata": {},
       "output_type": "pyout",
       "prompt_number": 117,
       "text": [
        "                 EXJPUS  INTGSBJPM193N     TB6MS\n",
        "EXJPUS         1.000000       0.004250  0.091739\n",
        "INTGSBJPM193N  0.004250       1.000000  0.326939\n",
        "TB6MS          0.091739       0.326939  1.000000"
       ]
      }
     ],
     "prompt_number": 117
    },
    {
     "cell_type": "code",
     "collapsed": false,
     "input": [
      "def lag_corr(table,periods):\n",
      "    return (fred[periods:] - fred.shift(periods)).corr()\n",
      "\n",
      "def lag_corr_pctg(table,periods):\n",
      "    return (fred[periods:] / fred.shift(periods) - 1).corr()\n",
      "\n",
      "all_lags = [lag_corr(fred,i) for i in xrange(1,12)]\n",
      "\n",
      "lags_onetable = pd.concat(all_lags, keys=range(1,12))\n"
     ],
     "language": "python",
     "metadata": {},
     "outputs": [],
     "prompt_number": 126
    },
    {
     "cell_type": "code",
     "collapsed": false,
     "input": [
      "unstacked = lags_onetable.unstack(1)"
     ],
     "language": "python",
     "metadata": {},
     "outputs": [],
     "prompt_number": 121
    },
    {
     "cell_type": "code",
     "collapsed": false,
     "input": [
      "unstacked['TB6MS','EXJPUS'].plot(label='TB-JP')\n",
      "unstacked['TB6MS','INTGSBJPM193N'].plot(label='TB-INT')\n",
      "plt.show()"
     ],
     "language": "python",
     "metadata": {},
     "outputs": [],
     "prompt_number": 124
    },
    {
     "cell_type": "code",
     "collapsed": false,
     "input": [
      "fred_1diff.EXJPUS.corr(fred_1diff.EXJPUS.shift(1))"
     ],
     "language": "python",
     "metadata": {},
     "outputs": [
      {
       "metadata": {},
       "output_type": "pyout",
       "prompt_number": 127,
       "text": [
        "0.28489041350111521"
       ]
      }
     ],
     "prompt_number": 127
    },
    {
     "cell_type": "code",
     "collapsed": false,
     "input": [
      "fred_1diff.shift(1).head()"
     ],
     "language": "python",
     "metadata": {},
     "outputs": [
      {
       "html": [
        "<div style=\"max-height:1000px;max-width:1500px;overflow:auto;\">\n",
        "<table border=\"1\" class=\"dataframe\">\n",
        "  <thead>\n",
        "    <tr style=\"text-align: right;\">\n",
        "      <th></th>\n",
        "      <th>EXJPUS</th>\n",
        "      <th>INTGSBJPM193N</th>\n",
        "      <th>TB6MS</th>\n",
        "    </tr>\n",
        "    <tr>\n",
        "      <th>DATE</th>\n",
        "      <th></th>\n",
        "      <th></th>\n",
        "      <th></th>\n",
        "    </tr>\n",
        "  </thead>\n",
        "  <tbody>\n",
        "    <tr>\n",
        "      <th>1990-01-01</th>\n",
        "      <td>    NaN</td>\n",
        "      <td>  NaN</td>\n",
        "      <td>  NaN</td>\n",
        "    </tr>\n",
        "    <tr>\n",
        "      <th>1990-02-01</th>\n",
        "      <td>    NaN</td>\n",
        "      <td>  NaN</td>\n",
        "      <td>  NaN</td>\n",
        "    </tr>\n",
        "    <tr>\n",
        "      <th>1990-03-01</th>\n",
        "      <td> 0.7113</td>\n",
        "      <td> 0.28</td>\n",
        "      <td> 0.15</td>\n",
        "    </tr>\n",
        "    <tr>\n",
        "      <th>1990-04-01</th>\n",
        "      <td> 7.6150</td>\n",
        "      <td> 0.44</td>\n",
        "      <td> 0.15</td>\n",
        "    </tr>\n",
        "    <tr>\n",
        "      <th>1990-05-01</th>\n",
        "      <td> 5.1504</td>\n",
        "      <td>-0.12</td>\n",
        "      <td>-0.01</td>\n",
        "    </tr>\n",
        "  </tbody>\n",
        "</table>\n",
        "</div>"
       ],
       "metadata": {},
       "output_type": "pyout",
       "prompt_number": 129,
       "text": [
        "            EXJPUS  INTGSBJPM193N  TB6MS\n",
        "DATE                                    \n",
        "1990-01-01     NaN            NaN    NaN\n",
        "1990-02-01     NaN            NaN    NaN\n",
        "1990-03-01  0.7113           0.28   0.15\n",
        "1990-04-01  7.6150           0.44   0.15\n",
        "1990-05-01  5.1504          -0.12  -0.01"
       ]
      }
     ],
     "prompt_number": 129
    },
    {
     "cell_type": "code",
     "collapsed": false,
     "input": [
      "pd.DataFrame({'lag%d' %i: fred_1diff.corrwith(fred_1diff.shift(i)) for i in range(1,7)})"
     ],
     "language": "python",
     "metadata": {},
     "outputs": [
      {
       "html": [
        "<div style=\"max-height:1000px;max-width:1500px;overflow:auto;\">\n",
        "<table border=\"1\" class=\"dataframe\">\n",
        "  <thead>\n",
        "    <tr style=\"text-align: right;\">\n",
        "      <th></th>\n",
        "      <th>lag1</th>\n",
        "      <th>lag2</th>\n",
        "      <th>lag3</th>\n",
        "      <th>lag4</th>\n",
        "      <th>lag5</th>\n",
        "      <th>lag6</th>\n",
        "    </tr>\n",
        "  </thead>\n",
        "  <tbody>\n",
        "    <tr>\n",
        "      <th>EXJPUS</th>\n",
        "      <td> 0.284890</td>\n",
        "      <td> 0.058668</td>\n",
        "      <td>-0.004404</td>\n",
        "      <td>-0.114183</td>\n",
        "      <td>-0.239900</td>\n",
        "      <td>-0.210275</td>\n",
        "    </tr>\n",
        "    <tr>\n",
        "      <th>INTGSBJPM193N</th>\n",
        "      <td> 0.153984</td>\n",
        "      <td> 0.027434</td>\n",
        "      <td>-0.175531</td>\n",
        "      <td>-0.122494</td>\n",
        "      <td> 0.024914</td>\n",
        "      <td> 0.107726</td>\n",
        "    </tr>\n",
        "    <tr>\n",
        "      <th>TB6MS</th>\n",
        "      <td> 0.511621</td>\n",
        "      <td> 0.317941</td>\n",
        "      <td> 0.295669</td>\n",
        "      <td> 0.158632</td>\n",
        "      <td> 0.146528</td>\n",
        "      <td> 0.221403</td>\n",
        "    </tr>\n",
        "  </tbody>\n",
        "</table>\n",
        "</div>"
       ],
       "metadata": {},
       "output_type": "pyout",
       "prompt_number": 134,
       "text": [
        "                   lag1      lag2      lag3      lag4      lag5      lag6\n",
        "EXJPUS         0.284890  0.058668 -0.004404 -0.114183 -0.239900 -0.210275\n",
        "INTGSBJPM193N  0.153984  0.027434 -0.175531 -0.122494  0.024914  0.107726\n",
        "TB6MS          0.511621  0.317941  0.295669  0.158632  0.146528  0.221403"
       ]
      }
     ],
     "prompt_number": 134
    },
    {
     "cell_type": "code",
     "collapsed": false,
     "input": [
      "fred.head()"
     ],
     "language": "python",
     "metadata": {},
     "outputs": [
      {
       "html": [
        "<div style=\"max-height:1000px;max-width:1500px;overflow:auto;\">\n",
        "<table border=\"1\" class=\"dataframe\">\n",
        "  <thead>\n",
        "    <tr style=\"text-align: right;\">\n",
        "      <th></th>\n",
        "      <th>EXJPUS</th>\n",
        "      <th>INTGSBJPM193N</th>\n",
        "      <th>TB6MS</th>\n",
        "    </tr>\n",
        "    <tr>\n",
        "      <th>DATE</th>\n",
        "      <th></th>\n",
        "      <th></th>\n",
        "      <th></th>\n",
        "    </tr>\n",
        "  </thead>\n",
        "  <tbody>\n",
        "    <tr>\n",
        "      <th>1990-01-01</th>\n",
        "      <td> 144.9819</td>\n",
        "      <td> 6.64</td>\n",
        "      <td> 7.55</td>\n",
        "    </tr>\n",
        "    <tr>\n",
        "      <th>1990-02-01</th>\n",
        "      <td> 145.6932</td>\n",
        "      <td> 6.92</td>\n",
        "      <td> 7.70</td>\n",
        "    </tr>\n",
        "    <tr>\n",
        "      <th>1990-03-01</th>\n",
        "      <td> 153.3082</td>\n",
        "      <td> 7.36</td>\n",
        "      <td> 7.85</td>\n",
        "    </tr>\n",
        "    <tr>\n",
        "      <th>1990-04-01</th>\n",
        "      <td> 158.4586</td>\n",
        "      <td> 7.24</td>\n",
        "      <td> 7.84</td>\n",
        "    </tr>\n",
        "    <tr>\n",
        "      <th>1990-05-01</th>\n",
        "      <td> 154.0441</td>\n",
        "      <td> 6.70</td>\n",
        "      <td> 7.76</td>\n",
        "    </tr>\n",
        "  </tbody>\n",
        "</table>\n",
        "</div>"
       ],
       "metadata": {},
       "output_type": "pyout",
       "prompt_number": 17,
       "text": [
        "              EXJPUS  INTGSBJPM193N  TB6MS\n",
        "DATE                                      \n",
        "1990-01-01  144.9819           6.64   7.55\n",
        "1990-02-01  145.6932           6.92   7.70\n",
        "1990-03-01  153.3082           7.36   7.85\n",
        "1990-04-01  158.4586           7.24   7.84\n",
        "1990-05-01  154.0441           6.70   7.76"
       ]
      }
     ],
     "prompt_number": 17
    },
    {
     "cell_type": "code",
     "collapsed": false,
     "input": [
      "fred.shift(2, freq='M').head(10)"
     ],
     "language": "python",
     "metadata": {},
     "outputs": [
      {
       "html": [
        "<div style=\"max-height:1000px;max-width:1500px;overflow:auto;\">\n",
        "<table border=\"1\" class=\"dataframe\">\n",
        "  <thead>\n",
        "    <tr style=\"text-align: right;\">\n",
        "      <th></th>\n",
        "      <th>EXJPUS</th>\n",
        "      <th>INTGSBJPM193N</th>\n",
        "      <th>TB6MS</th>\n",
        "    </tr>\n",
        "  </thead>\n",
        "  <tbody>\n",
        "    <tr>\n",
        "      <th>1990-02-28</th>\n",
        "      <td> 144.9819</td>\n",
        "      <td> 6.64</td>\n",
        "      <td> 7.55</td>\n",
        "    </tr>\n",
        "    <tr>\n",
        "      <th>1990-03-31</th>\n",
        "      <td> 145.6932</td>\n",
        "      <td> 6.92</td>\n",
        "      <td> 7.70</td>\n",
        "    </tr>\n",
        "    <tr>\n",
        "      <th>1990-04-30</th>\n",
        "      <td> 153.3082</td>\n",
        "      <td> 7.36</td>\n",
        "      <td> 7.85</td>\n",
        "    </tr>\n",
        "    <tr>\n",
        "      <th>1990-05-31</th>\n",
        "      <td> 158.4586</td>\n",
        "      <td> 7.24</td>\n",
        "      <td> 7.84</td>\n",
        "    </tr>\n",
        "    <tr>\n",
        "      <th>1990-06-30</th>\n",
        "      <td> 154.0441</td>\n",
        "      <td> 6.70</td>\n",
        "      <td> 7.76</td>\n",
        "    </tr>\n",
        "    <tr>\n",
        "      <th>1990-07-31</th>\n",
        "      <td> 153.6957</td>\n",
        "      <td> 7.06</td>\n",
        "      <td> 7.63</td>\n",
        "    </tr>\n",
        "    <tr>\n",
        "      <th>1990-08-31</th>\n",
        "      <td> 149.0395</td>\n",
        "      <td> 7.48</td>\n",
        "      <td> 7.52</td>\n",
        "    </tr>\n",
        "    <tr>\n",
        "      <th>1990-09-30</th>\n",
        "      <td> 147.4609</td>\n",
        "      <td> 8.19</td>\n",
        "      <td> 7.38</td>\n",
        "    </tr>\n",
        "    <tr>\n",
        "      <th>1990-10-31</th>\n",
        "      <td> 138.4405</td>\n",
        "      <td> 8.62</td>\n",
        "      <td> 7.32</td>\n",
        "    </tr>\n",
        "    <tr>\n",
        "      <th>1990-11-30</th>\n",
        "      <td> 129.5909</td>\n",
        "      <td> 7.68</td>\n",
        "      <td> 7.16</td>\n",
        "    </tr>\n",
        "  </tbody>\n",
        "</table>\n",
        "</div>"
       ],
       "metadata": {},
       "output_type": "pyout",
       "prompt_number": 16,
       "text": [
        "              EXJPUS  INTGSBJPM193N  TB6MS\n",
        "1990-02-28  144.9819           6.64   7.55\n",
        "1990-03-31  145.6932           6.92   7.70\n",
        "1990-04-30  153.3082           7.36   7.85\n",
        "1990-05-31  158.4586           7.24   7.84\n",
        "1990-06-30  154.0441           6.70   7.76\n",
        "1990-07-31  153.6957           7.06   7.63\n",
        "1990-08-31  149.0395           7.48   7.52\n",
        "1990-09-30  147.4609           8.19   7.38\n",
        "1990-10-31  138.4405           8.62   7.32\n",
        "1990-11-30  129.5909           7.68   7.16"
       ]
      }
     ],
     "prompt_number": 16
    },
    {
     "cell_type": "code",
     "collapsed": false,
     "input": [
      "fred.shift(10, freq='H').head(10)"
     ],
     "language": "python",
     "metadata": {},
     "outputs": [
      {
       "html": [
        "<div style=\"max-height:1000px;max-width:1500px;overflow:auto;\">\n",
        "<table border=\"1\" class=\"dataframe\">\n",
        "  <thead>\n",
        "    <tr style=\"text-align: right;\">\n",
        "      <th></th>\n",
        "      <th>EXJPUS</th>\n",
        "      <th>INTGSBJPM193N</th>\n",
        "      <th>TB6MS</th>\n",
        "    </tr>\n",
        "  </thead>\n",
        "  <tbody>\n",
        "    <tr>\n",
        "      <th>1990-01-01 10:00:00</th>\n",
        "      <td> 144.9819</td>\n",
        "      <td> 6.64</td>\n",
        "      <td> 7.55</td>\n",
        "    </tr>\n",
        "    <tr>\n",
        "      <th>1990-02-01 10:00:00</th>\n",
        "      <td> 145.6932</td>\n",
        "      <td> 6.92</td>\n",
        "      <td> 7.70</td>\n",
        "    </tr>\n",
        "    <tr>\n",
        "      <th>1990-03-01 10:00:00</th>\n",
        "      <td> 153.3082</td>\n",
        "      <td> 7.36</td>\n",
        "      <td> 7.85</td>\n",
        "    </tr>\n",
        "    <tr>\n",
        "      <th>1990-04-01 10:00:00</th>\n",
        "      <td> 158.4586</td>\n",
        "      <td> 7.24</td>\n",
        "      <td> 7.84</td>\n",
        "    </tr>\n",
        "    <tr>\n",
        "      <th>1990-05-01 10:00:00</th>\n",
        "      <td> 154.0441</td>\n",
        "      <td> 6.70</td>\n",
        "      <td> 7.76</td>\n",
        "    </tr>\n",
        "    <tr>\n",
        "      <th>1990-06-01 10:00:00</th>\n",
        "      <td> 153.6957</td>\n",
        "      <td> 7.06</td>\n",
        "      <td> 7.63</td>\n",
        "    </tr>\n",
        "    <tr>\n",
        "      <th>1990-07-01 10:00:00</th>\n",
        "      <td> 149.0395</td>\n",
        "      <td> 7.48</td>\n",
        "      <td> 7.52</td>\n",
        "    </tr>\n",
        "    <tr>\n",
        "      <th>1990-08-01 10:00:00</th>\n",
        "      <td> 147.4609</td>\n",
        "      <td> 8.19</td>\n",
        "      <td> 7.38</td>\n",
        "    </tr>\n",
        "    <tr>\n",
        "      <th>1990-09-01 10:00:00</th>\n",
        "      <td> 138.4405</td>\n",
        "      <td> 8.62</td>\n",
        "      <td> 7.32</td>\n",
        "    </tr>\n",
        "    <tr>\n",
        "      <th>1990-10-01 10:00:00</th>\n",
        "      <td> 129.5909</td>\n",
        "      <td> 7.68</td>\n",
        "      <td> 7.16</td>\n",
        "    </tr>\n",
        "  </tbody>\n",
        "</table>\n",
        "</div>"
       ],
       "metadata": {},
       "output_type": "pyout",
       "prompt_number": 15,
       "text": [
        "                       EXJPUS  INTGSBJPM193N  TB6MS\n",
        "1990-01-01 10:00:00  144.9819           6.64   7.55\n",
        "1990-02-01 10:00:00  145.6932           6.92   7.70\n",
        "1990-03-01 10:00:00  153.3082           7.36   7.85\n",
        "1990-04-01 10:00:00  158.4586           7.24   7.84\n",
        "1990-05-01 10:00:00  154.0441           6.70   7.76\n",
        "1990-06-01 10:00:00  153.6957           7.06   7.63\n",
        "1990-07-01 10:00:00  149.0395           7.48   7.52\n",
        "1990-08-01 10:00:00  147.4609           8.19   7.38\n",
        "1990-09-01 10:00:00  138.4405           8.62   7.32\n",
        "1990-10-01 10:00:00  129.5909           7.68   7.16"
       ]
      }
     ],
     "prompt_number": 15
    },
    {
     "cell_type": "code",
     "collapsed": false,
     "input": [
      "pfred = fred.to_period('M')\n",
      "pfred"
     ],
     "language": "python",
     "metadata": {},
     "outputs": [
      {
       "html": [
        "<pre>\n",
        "&ltclass 'pandas.core.frame.DataFrame'&gt\n",
        "PeriodIndex: 270 entries, 1990-01 to 2012-06\n",
        "Data columns (total 3 columns):\n",
        "EXJPUS           270  non-null values\n",
        "INTGSBJPM193N    269  non-null values\n",
        "TB6MS            270  non-null values\n",
        "dtypes: float64(3)\n",
        "</pre>"
       ],
       "metadata": {},
       "output_type": "pyout",
       "prompt_number": 18,
       "text": [
        "<class 'pandas.core.frame.DataFrame'>\n",
        "PeriodIndex: 270 entries, 1990-01 to 2012-06\n",
        "Data columns (total 3 columns):\n",
        "EXJPUS           270  non-null values\n",
        "INTGSBJPM193N    269  non-null values\n",
        "TB6MS            270  non-null values\n",
        "dtypes: float64(3)"
       ]
      }
     ],
     "prompt_number": 18
    },
    {
     "cell_type": "code",
     "collapsed": false,
     "input": [
      "pfred.index[0].asfreq('S', 'start')"
     ],
     "language": "python",
     "metadata": {},
     "outputs": [
      {
       "metadata": {},
       "output_type": "pyout",
       "prompt_number": 23,
       "text": [
        "Period('1990-01-01 00:00:00', 'S')"
       ]
      }
     ],
     "prompt_number": 23
    },
    {
     "cell_type": "code",
     "collapsed": false,
     "input": [
      "fred.head()"
     ],
     "language": "python",
     "metadata": {},
     "outputs": [
      {
       "html": [
        "<div style=\"max-height:1000px;max-width:1500px;overflow:auto;\">\n",
        "<table border=\"1\" class=\"dataframe\">\n",
        "  <thead>\n",
        "    <tr style=\"text-align: right;\">\n",
        "      <th></th>\n",
        "      <th>EXJPUS</th>\n",
        "      <th>INTGSBJPM193N</th>\n",
        "      <th>TB6MS</th>\n",
        "    </tr>\n",
        "    <tr>\n",
        "      <th>DATE</th>\n",
        "      <th></th>\n",
        "      <th></th>\n",
        "      <th></th>\n",
        "    </tr>\n",
        "  </thead>\n",
        "  <tbody>\n",
        "    <tr>\n",
        "      <th>1990-01-01</th>\n",
        "      <td> 144.9819</td>\n",
        "      <td> 6.64</td>\n",
        "      <td> 7.55</td>\n",
        "    </tr>\n",
        "    <tr>\n",
        "      <th>1990-02-01</th>\n",
        "      <td> 145.6932</td>\n",
        "      <td> 6.92</td>\n",
        "      <td> 7.70</td>\n",
        "    </tr>\n",
        "    <tr>\n",
        "      <th>1990-03-01</th>\n",
        "      <td> 153.3082</td>\n",
        "      <td> 7.36</td>\n",
        "      <td> 7.85</td>\n",
        "    </tr>\n",
        "    <tr>\n",
        "      <th>1990-04-01</th>\n",
        "      <td> 158.4586</td>\n",
        "      <td> 7.24</td>\n",
        "      <td> 7.84</td>\n",
        "    </tr>\n",
        "    <tr>\n",
        "      <th>1990-05-01</th>\n",
        "      <td> 154.0441</td>\n",
        "      <td> 6.70</td>\n",
        "      <td> 7.76</td>\n",
        "    </tr>\n",
        "  </tbody>\n",
        "</table>\n",
        "</div>"
       ],
       "metadata": {},
       "output_type": "pyout",
       "prompt_number": 26,
       "text": [
        "              EXJPUS  INTGSBJPM193N  TB6MS\n",
        "DATE                                      \n",
        "1990-01-01  144.9819           6.64   7.55\n",
        "1990-02-01  145.6932           6.92   7.70\n",
        "1990-03-01  153.3082           7.36   7.85\n",
        "1990-04-01  158.4586           7.24   7.84\n",
        "1990-05-01  154.0441           6.70   7.76"
       ]
      }
     ],
     "prompt_number": 26
    },
    {
     "cell_type": "code",
     "collapsed": false,
     "input": [
      "fred.shift(4, freq='D').resample('D', fill_method='ffill').head(50)"
     ],
     "language": "python",
     "metadata": {},
     "outputs": [
      {
       "html": [
        "<div style=\"max-height:1000px;max-width:1500px;overflow:auto;\">\n",
        "<table border=\"1\" class=\"dataframe\">\n",
        "  <thead>\n",
        "    <tr style=\"text-align: right;\">\n",
        "      <th></th>\n",
        "      <th>EXJPUS</th>\n",
        "      <th>INTGSBJPM193N</th>\n",
        "      <th>TB6MS</th>\n",
        "    </tr>\n",
        "  </thead>\n",
        "  <tbody>\n",
        "    <tr>\n",
        "      <th>1990-01-05</th>\n",
        "      <td> 144.9819</td>\n",
        "      <td> 6.64</td>\n",
        "      <td> 7.55</td>\n",
        "    </tr>\n",
        "    <tr>\n",
        "      <th>1990-01-06</th>\n",
        "      <td> 144.9819</td>\n",
        "      <td> 6.64</td>\n",
        "      <td> 7.55</td>\n",
        "    </tr>\n",
        "    <tr>\n",
        "      <th>1990-01-07</th>\n",
        "      <td> 144.9819</td>\n",
        "      <td> 6.64</td>\n",
        "      <td> 7.55</td>\n",
        "    </tr>\n",
        "    <tr>\n",
        "      <th>1990-01-08</th>\n",
        "      <td> 144.9819</td>\n",
        "      <td> 6.64</td>\n",
        "      <td> 7.55</td>\n",
        "    </tr>\n",
        "    <tr>\n",
        "      <th>1990-01-09</th>\n",
        "      <td> 144.9819</td>\n",
        "      <td> 6.64</td>\n",
        "      <td> 7.55</td>\n",
        "    </tr>\n",
        "    <tr>\n",
        "      <th>1990-01-10</th>\n",
        "      <td> 144.9819</td>\n",
        "      <td> 6.64</td>\n",
        "      <td> 7.55</td>\n",
        "    </tr>\n",
        "    <tr>\n",
        "      <th>1990-01-11</th>\n",
        "      <td> 144.9819</td>\n",
        "      <td> 6.64</td>\n",
        "      <td> 7.55</td>\n",
        "    </tr>\n",
        "    <tr>\n",
        "      <th>1990-01-12</th>\n",
        "      <td> 144.9819</td>\n",
        "      <td> 6.64</td>\n",
        "      <td> 7.55</td>\n",
        "    </tr>\n",
        "    <tr>\n",
        "      <th>1990-01-13</th>\n",
        "      <td> 144.9819</td>\n",
        "      <td> 6.64</td>\n",
        "      <td> 7.55</td>\n",
        "    </tr>\n",
        "    <tr>\n",
        "      <th>1990-01-14</th>\n",
        "      <td> 144.9819</td>\n",
        "      <td> 6.64</td>\n",
        "      <td> 7.55</td>\n",
        "    </tr>\n",
        "    <tr>\n",
        "      <th>1990-01-15</th>\n",
        "      <td> 144.9819</td>\n",
        "      <td> 6.64</td>\n",
        "      <td> 7.55</td>\n",
        "    </tr>\n",
        "    <tr>\n",
        "      <th>1990-01-16</th>\n",
        "      <td> 144.9819</td>\n",
        "      <td> 6.64</td>\n",
        "      <td> 7.55</td>\n",
        "    </tr>\n",
        "    <tr>\n",
        "      <th>1990-01-17</th>\n",
        "      <td> 144.9819</td>\n",
        "      <td> 6.64</td>\n",
        "      <td> 7.55</td>\n",
        "    </tr>\n",
        "    <tr>\n",
        "      <th>1990-01-18</th>\n",
        "      <td> 144.9819</td>\n",
        "      <td> 6.64</td>\n",
        "      <td> 7.55</td>\n",
        "    </tr>\n",
        "    <tr>\n",
        "      <th>1990-01-19</th>\n",
        "      <td> 144.9819</td>\n",
        "      <td> 6.64</td>\n",
        "      <td> 7.55</td>\n",
        "    </tr>\n",
        "    <tr>\n",
        "      <th>1990-01-20</th>\n",
        "      <td> 144.9819</td>\n",
        "      <td> 6.64</td>\n",
        "      <td> 7.55</td>\n",
        "    </tr>\n",
        "    <tr>\n",
        "      <th>1990-01-21</th>\n",
        "      <td> 144.9819</td>\n",
        "      <td> 6.64</td>\n",
        "      <td> 7.55</td>\n",
        "    </tr>\n",
        "    <tr>\n",
        "      <th>1990-01-22</th>\n",
        "      <td> 144.9819</td>\n",
        "      <td> 6.64</td>\n",
        "      <td> 7.55</td>\n",
        "    </tr>\n",
        "    <tr>\n",
        "      <th>1990-01-23</th>\n",
        "      <td> 144.9819</td>\n",
        "      <td> 6.64</td>\n",
        "      <td> 7.55</td>\n",
        "    </tr>\n",
        "    <tr>\n",
        "      <th>1990-01-24</th>\n",
        "      <td> 144.9819</td>\n",
        "      <td> 6.64</td>\n",
        "      <td> 7.55</td>\n",
        "    </tr>\n",
        "    <tr>\n",
        "      <th>1990-01-25</th>\n",
        "      <td> 144.9819</td>\n",
        "      <td> 6.64</td>\n",
        "      <td> 7.55</td>\n",
        "    </tr>\n",
        "    <tr>\n",
        "      <th>1990-01-26</th>\n",
        "      <td> 144.9819</td>\n",
        "      <td> 6.64</td>\n",
        "      <td> 7.55</td>\n",
        "    </tr>\n",
        "    <tr>\n",
        "      <th>1990-01-27</th>\n",
        "      <td> 144.9819</td>\n",
        "      <td> 6.64</td>\n",
        "      <td> 7.55</td>\n",
        "    </tr>\n",
        "    <tr>\n",
        "      <th>1990-01-28</th>\n",
        "      <td> 144.9819</td>\n",
        "      <td> 6.64</td>\n",
        "      <td> 7.55</td>\n",
        "    </tr>\n",
        "    <tr>\n",
        "      <th>1990-01-29</th>\n",
        "      <td> 144.9819</td>\n",
        "      <td> 6.64</td>\n",
        "      <td> 7.55</td>\n",
        "    </tr>\n",
        "    <tr>\n",
        "      <th>1990-01-30</th>\n",
        "      <td> 144.9819</td>\n",
        "      <td> 6.64</td>\n",
        "      <td> 7.55</td>\n",
        "    </tr>\n",
        "    <tr>\n",
        "      <th>1990-01-31</th>\n",
        "      <td> 144.9819</td>\n",
        "      <td> 6.64</td>\n",
        "      <td> 7.55</td>\n",
        "    </tr>\n",
        "    <tr>\n",
        "      <th>1990-02-01</th>\n",
        "      <td> 144.9819</td>\n",
        "      <td> 6.64</td>\n",
        "      <td> 7.55</td>\n",
        "    </tr>\n",
        "    <tr>\n",
        "      <th>1990-02-02</th>\n",
        "      <td> 144.9819</td>\n",
        "      <td> 6.64</td>\n",
        "      <td> 7.55</td>\n",
        "    </tr>\n",
        "    <tr>\n",
        "      <th>1990-02-03</th>\n",
        "      <td> 144.9819</td>\n",
        "      <td> 6.64</td>\n",
        "      <td> 7.55</td>\n",
        "    </tr>\n",
        "    <tr>\n",
        "      <th>1990-02-04</th>\n",
        "      <td> 144.9819</td>\n",
        "      <td> 6.64</td>\n",
        "      <td> 7.55</td>\n",
        "    </tr>\n",
        "    <tr>\n",
        "      <th>1990-02-05</th>\n",
        "      <td> 145.6932</td>\n",
        "      <td> 6.92</td>\n",
        "      <td> 7.70</td>\n",
        "    </tr>\n",
        "    <tr>\n",
        "      <th>1990-02-06</th>\n",
        "      <td> 145.6932</td>\n",
        "      <td> 6.92</td>\n",
        "      <td> 7.70</td>\n",
        "    </tr>\n",
        "    <tr>\n",
        "      <th>1990-02-07</th>\n",
        "      <td> 145.6932</td>\n",
        "      <td> 6.92</td>\n",
        "      <td> 7.70</td>\n",
        "    </tr>\n",
        "    <tr>\n",
        "      <th>1990-02-08</th>\n",
        "      <td> 145.6932</td>\n",
        "      <td> 6.92</td>\n",
        "      <td> 7.70</td>\n",
        "    </tr>\n",
        "    <tr>\n",
        "      <th>1990-02-09</th>\n",
        "      <td> 145.6932</td>\n",
        "      <td> 6.92</td>\n",
        "      <td> 7.70</td>\n",
        "    </tr>\n",
        "    <tr>\n",
        "      <th>1990-02-10</th>\n",
        "      <td> 145.6932</td>\n",
        "      <td> 6.92</td>\n",
        "      <td> 7.70</td>\n",
        "    </tr>\n",
        "    <tr>\n",
        "      <th>1990-02-11</th>\n",
        "      <td> 145.6932</td>\n",
        "      <td> 6.92</td>\n",
        "      <td> 7.70</td>\n",
        "    </tr>\n",
        "    <tr>\n",
        "      <th>1990-02-12</th>\n",
        "      <td> 145.6932</td>\n",
        "      <td> 6.92</td>\n",
        "      <td> 7.70</td>\n",
        "    </tr>\n",
        "    <tr>\n",
        "      <th>1990-02-13</th>\n",
        "      <td> 145.6932</td>\n",
        "      <td> 6.92</td>\n",
        "      <td> 7.70</td>\n",
        "    </tr>\n",
        "    <tr>\n",
        "      <th>1990-02-14</th>\n",
        "      <td> 145.6932</td>\n",
        "      <td> 6.92</td>\n",
        "      <td> 7.70</td>\n",
        "    </tr>\n",
        "    <tr>\n",
        "      <th>1990-02-15</th>\n",
        "      <td> 145.6932</td>\n",
        "      <td> 6.92</td>\n",
        "      <td> 7.70</td>\n",
        "    </tr>\n",
        "    <tr>\n",
        "      <th>1990-02-16</th>\n",
        "      <td> 145.6932</td>\n",
        "      <td> 6.92</td>\n",
        "      <td> 7.70</td>\n",
        "    </tr>\n",
        "    <tr>\n",
        "      <th>1990-02-17</th>\n",
        "      <td> 145.6932</td>\n",
        "      <td> 6.92</td>\n",
        "      <td> 7.70</td>\n",
        "    </tr>\n",
        "    <tr>\n",
        "      <th>1990-02-18</th>\n",
        "      <td> 145.6932</td>\n",
        "      <td> 6.92</td>\n",
        "      <td> 7.70</td>\n",
        "    </tr>\n",
        "    <tr>\n",
        "      <th>1990-02-19</th>\n",
        "      <td> 145.6932</td>\n",
        "      <td> 6.92</td>\n",
        "      <td> 7.70</td>\n",
        "    </tr>\n",
        "    <tr>\n",
        "      <th>1990-02-20</th>\n",
        "      <td> 145.6932</td>\n",
        "      <td> 6.92</td>\n",
        "      <td> 7.70</td>\n",
        "    </tr>\n",
        "    <tr>\n",
        "      <th>1990-02-21</th>\n",
        "      <td> 145.6932</td>\n",
        "      <td> 6.92</td>\n",
        "      <td> 7.70</td>\n",
        "    </tr>\n",
        "    <tr>\n",
        "      <th>1990-02-22</th>\n",
        "      <td> 145.6932</td>\n",
        "      <td> 6.92</td>\n",
        "      <td> 7.70</td>\n",
        "    </tr>\n",
        "    <tr>\n",
        "      <th>1990-02-23</th>\n",
        "      <td> 145.6932</td>\n",
        "      <td> 6.92</td>\n",
        "      <td> 7.70</td>\n",
        "    </tr>\n",
        "  </tbody>\n",
        "</table>\n",
        "</div>"
       ],
       "metadata": {},
       "output_type": "pyout",
       "prompt_number": 27,
       "text": [
        "              EXJPUS  INTGSBJPM193N  TB6MS\n",
        "1990-01-05  144.9819           6.64   7.55\n",
        "1990-01-06  144.9819           6.64   7.55\n",
        "1990-01-07  144.9819           6.64   7.55\n",
        "1990-01-08  144.9819           6.64   7.55\n",
        "1990-01-09  144.9819           6.64   7.55\n",
        "1990-01-10  144.9819           6.64   7.55\n",
        "1990-01-11  144.9819           6.64   7.55\n",
        "1990-01-12  144.9819           6.64   7.55\n",
        "1990-01-13  144.9819           6.64   7.55\n",
        "1990-01-14  144.9819           6.64   7.55\n",
        "1990-01-15  144.9819           6.64   7.55\n",
        "1990-01-16  144.9819           6.64   7.55\n",
        "1990-01-17  144.9819           6.64   7.55\n",
        "1990-01-18  144.9819           6.64   7.55\n",
        "1990-01-19  144.9819           6.64   7.55\n",
        "1990-01-20  144.9819           6.64   7.55\n",
        "1990-01-21  144.9819           6.64   7.55\n",
        "1990-01-22  144.9819           6.64   7.55\n",
        "1990-01-23  144.9819           6.64   7.55\n",
        "1990-01-24  144.9819           6.64   7.55\n",
        "1990-01-25  144.9819           6.64   7.55\n",
        "1990-01-26  144.9819           6.64   7.55\n",
        "1990-01-27  144.9819           6.64   7.55\n",
        "1990-01-28  144.9819           6.64   7.55\n",
        "1990-01-29  144.9819           6.64   7.55\n",
        "1990-01-30  144.9819           6.64   7.55\n",
        "1990-01-31  144.9819           6.64   7.55\n",
        "1990-02-01  144.9819           6.64   7.55\n",
        "1990-02-02  144.9819           6.64   7.55\n",
        "1990-02-03  144.9819           6.64   7.55\n",
        "1990-02-04  144.9819           6.64   7.55\n",
        "1990-02-05  145.6932           6.92   7.70\n",
        "1990-02-06  145.6932           6.92   7.70\n",
        "1990-02-07  145.6932           6.92   7.70\n",
        "1990-02-08  145.6932           6.92   7.70\n",
        "1990-02-09  145.6932           6.92   7.70\n",
        "1990-02-10  145.6932           6.92   7.70\n",
        "1990-02-11  145.6932           6.92   7.70\n",
        "1990-02-12  145.6932           6.92   7.70\n",
        "1990-02-13  145.6932           6.92   7.70\n",
        "1990-02-14  145.6932           6.92   7.70\n",
        "1990-02-15  145.6932           6.92   7.70\n",
        "1990-02-16  145.6932           6.92   7.70\n",
        "1990-02-17  145.6932           6.92   7.70\n",
        "1990-02-18  145.6932           6.92   7.70\n",
        "1990-02-19  145.6932           6.92   7.70\n",
        "1990-02-20  145.6932           6.92   7.70\n",
        "1990-02-21  145.6932           6.92   7.70\n",
        "1990-02-22  145.6932           6.92   7.70\n",
        "1990-02-23  145.6932           6.92   7.70"
       ]
      }
     ],
     "prompt_number": 27
    },
    {
     "cell_type": "code",
     "collapsed": false,
     "input": [
      "# Time zone handling"
     ],
     "language": "python",
     "metadata": {},
     "outputs": [],
     "prompt_number": 29
    },
    {
     "cell_type": "code",
     "collapsed": false,
     "input": [
      "from datetime import datetime"
     ],
     "language": "python",
     "metadata": {},
     "outputs": [],
     "prompt_number": 30
    },
    {
     "cell_type": "code",
     "collapsed": false,
     "input": [
      "stamp = pd.Timestamp(datetime.now())\n",
      "stamp"
     ],
     "language": "python",
     "metadata": {},
     "outputs": [
      {
       "metadata": {},
       "output_type": "pyout",
       "prompt_number": 41,
       "text": [
        "<Timestamp: 2013-10-17 15:24:56.381681>"
       ]
      }
     ],
     "prompt_number": 41
    },
    {
     "cell_type": "code",
     "collapsed": false,
     "input": [
      "stamp_pac = stamp.tz_localize('US/Pacific')"
     ],
     "language": "python",
     "metadata": {},
     "outputs": [],
     "prompt_number": 44
    },
    {
     "cell_type": "code",
     "collapsed": false,
     "input": [
      "stamp_pac.tz_convert('Asia/Tokyo')"
     ],
     "language": "python",
     "metadata": {},
     "outputs": [
      {
       "ename": "TypeError",
       "evalue": "'int' object is not callable",
       "output_type": "pyerr",
       "traceback": [
        "\u001b[0;31m---------------------------------------------------------------------------\u001b[0m\n\u001b[0;31mTypeError\u001b[0m                                 Traceback (most recent call last)",
        "\u001b[0;32m<ipython-input-49-9f90fe254f8a>\u001b[0m in \u001b[0;36m<module>\u001b[0;34m()\u001b[0m\n\u001b[0;32m----> 1\u001b[0;31m \u001b[0mstamp_pac\u001b[0m\u001b[0;34m.\u001b[0m\u001b[0mtz_convert\u001b[0m\u001b[0;34m(\u001b[0m\u001b[0;34m'Asia/Tokyo'\u001b[0m\u001b[0;34m)\u001b[0m\u001b[0;34m.\u001b[0m\u001b[0mday\u001b[0m\u001b[0;34m(\u001b[0m\u001b[0;34m)\u001b[0m\u001b[0;34m\u001b[0m\u001b[0m\n\u001b[0m",
        "\u001b[0;31mTypeError\u001b[0m: 'int' object is not callable"
       ]
      }
     ],
     "prompt_number": 49
    },
    {
     "cell_type": "code",
     "collapsed": false,
     "input": [
      "stamp_pac.tz_convert('Asia/Tokyo').hour"
     ],
     "language": "python",
     "metadata": {},
     "outputs": [
      {
       "metadata": {},
       "output_type": "pyout",
       "prompt_number": 50,
       "text": [
        "7"
       ]
      }
     ],
     "prompt_number": 50
    },
    {
     "cell_type": "code",
     "collapsed": false,
     "input": [
      "stamp_pac.tz_convert('Asia/Tokyo').day"
     ],
     "language": "python",
     "metadata": {},
     "outputs": [
      {
       "metadata": {},
       "output_type": "pyout",
       "prompt_number": 51,
       "text": [
        "18"
       ]
      }
     ],
     "prompt_number": 51
    },
    {
     "cell_type": "code",
     "collapsed": false,
     "input": [
      "stamp_pac.tz_convert('Asia/Tokyo').value"
     ],
     "language": "python",
     "metadata": {},
     "outputs": [
      {
       "metadata": {},
       "output_type": "pyout",
       "prompt_number": 52,
       "text": [
        "1382048696381681000"
       ]
      }
     ],
     "prompt_number": 52
    },
    {
     "cell_type": "code",
     "collapsed": false,
     "input": [
      "stamp_pac.tz_convert('Asia/Tokyo').tz_convert('utc').value"
     ],
     "language": "python",
     "metadata": {},
     "outputs": [
      {
       "metadata": {},
       "output_type": "pyout",
       "prompt_number": 53,
       "text": [
        "1382048696381681000"
       ]
      }
     ],
     "prompt_number": 53
    },
    {
     "cell_type": "code",
     "collapsed": false,
     "input": [
      "fred_shifted = fred.shift(1, freq='4D9H30T').head()\n",
      "fred_shifted.tz_localize('US/Eastern').tz_convert('utc')"
     ],
     "language": "python",
     "metadata": {},
     "outputs": [
      {
       "html": [
        "<div style=\"max-height:1000px;max-width:1500px;overflow:auto;\">\n",
        "<table border=\"1\" class=\"dataframe\">\n",
        "  <thead>\n",
        "    <tr style=\"text-align: right;\">\n",
        "      <th></th>\n",
        "      <th>EXJPUS</th>\n",
        "      <th>INTGSBJPM193N</th>\n",
        "      <th>TB6MS</th>\n",
        "    </tr>\n",
        "  </thead>\n",
        "  <tbody>\n",
        "    <tr>\n",
        "      <th>1990-01-05 14:30:00+00:00</th>\n",
        "      <td> 144.9819</td>\n",
        "      <td> 6.64</td>\n",
        "      <td> 7.55</td>\n",
        "    </tr>\n",
        "    <tr>\n",
        "      <th>1990-02-05 14:30:00+00:00</th>\n",
        "      <td> 145.6932</td>\n",
        "      <td> 6.92</td>\n",
        "      <td> 7.70</td>\n",
        "    </tr>\n",
        "    <tr>\n",
        "      <th>1990-03-05 14:30:00+00:00</th>\n",
        "      <td> 153.3082</td>\n",
        "      <td> 7.36</td>\n",
        "      <td> 7.85</td>\n",
        "    </tr>\n",
        "    <tr>\n",
        "      <th>1990-04-05 13:30:00+00:00</th>\n",
        "      <td> 158.4586</td>\n",
        "      <td> 7.24</td>\n",
        "      <td> 7.84</td>\n",
        "    </tr>\n",
        "    <tr>\n",
        "      <th>1990-05-05 13:30:00+00:00</th>\n",
        "      <td> 154.0441</td>\n",
        "      <td> 6.70</td>\n",
        "      <td> 7.76</td>\n",
        "    </tr>\n",
        "  </tbody>\n",
        "</table>\n",
        "</div>"
       ],
       "metadata": {},
       "output_type": "pyout",
       "prompt_number": 56,
       "text": [
        "                             EXJPUS  INTGSBJPM193N  TB6MS\n",
        "1990-01-05 14:30:00+00:00  144.9819           6.64   7.55\n",
        "1990-02-05 14:30:00+00:00  145.6932           6.92   7.70\n",
        "1990-03-05 14:30:00+00:00  153.3082           7.36   7.85\n",
        "1990-04-05 13:30:00+00:00  158.4586           7.24   7.84\n",
        "1990-05-05 13:30:00+00:00  154.0441           6.70   7.76"
       ]
      }
     ],
     "prompt_number": 56
    },
    {
     "cell_type": "code",
     "collapsed": false,
     "input": [
      "import numpy\n",
      "import scipy"
     ],
     "language": "python",
     "metadata": {},
     "outputs": [],
     "prompt_number": 2
    },
    {
     "cell_type": "code",
     "collapsed": false,
     "input": [
      "a = range(10,20)"
     ],
     "language": "python",
     "metadata": {},
     "outputs": [],
     "prompt_number": 9
    },
    {
     "cell_type": "code",
     "collapsed": false,
     "input": [
      "a.index(14)"
     ],
     "language": "python",
     "metadata": {},
     "outputs": [
      {
       "metadata": {},
       "output_type": "pyout",
       "prompt_number": 11,
       "text": [
        "4"
       ]
      }
     ],
     "prompt_number": 11
    },
    {
     "cell_type": "code",
     "collapsed": false,
     "input": [],
     "language": "python",
     "metadata": {},
     "outputs": [],
     "prompt_number": 15
    },
    {
     "cell_type": "code",
     "collapsed": false,
     "input": [],
     "language": "python",
     "metadata": {},
     "outputs": []
    }
   ],
   "metadata": {}
  }
 ]
}